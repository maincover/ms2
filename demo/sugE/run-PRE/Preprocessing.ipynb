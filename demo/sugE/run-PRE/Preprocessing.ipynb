{
 "cells": [
  {
   "cell_type": "markdown",
   "metadata": {},
   "source": [
    "# Preprocessing to detect duplication\n",
    "This is an auto-generated notebook."
   ]
  },
  {
   "cell_type": "code",
   "execution_count": 1,
   "metadata": {},
   "outputs": [
    {
     "name": "stdout",
     "output_type": "stream",
     "text": [
      "Total files length :  795  Filtered files length (after MD5 check) :  8\n",
      "check line duplication(open file) :  50 / 795\n",
      "check line duplication(open file) :  100 / 795\n",
      "check line duplication(open file) :  150 / 795\n",
      "check line duplication(open file) :  200 / 795\n",
      "check line duplication(open file) :  250 / 795\n",
      "check line duplication(open file) :  300 / 795\n",
      "check line duplication(open file) :  350 / 795\n",
      "check line duplication(open file) :  400 / 795\n",
      "check line duplication(open file) :  450 / 795\n",
      "check line duplication(open file) :  500 / 795\n",
      "check line duplication(open file) :  550 / 795\n",
      "check line duplication(open file) :  600 / 795\n",
      "check line duplication(open file) :  650 / 795\n",
      "check line duplication(open file) :  700 / 795\n",
      "check line duplication(open file) :  750 / 795\n",
      "check line duplication:  0 / 795\n",
      "check line duplication:  50 / 795\n",
      "check line duplication:  100 / 795\n",
      "check line duplication:  150 / 795\n",
      "check line duplication:  200 / 795\n",
      "check line duplication:  250 / 795\n",
      "check line duplication:  300 / 795\n",
      "check line duplication:  350 / 795\n",
      "check line duplication:  400 / 795\n",
      "check line duplication:  450 / 795\n",
      "check line duplication:  500 / 795\n",
      "check line duplication:  550 / 795\n",
      "check line duplication:  600 / 795\n",
      "check line duplication:  650 / 795\n",
      "check line duplication:  700 / 795\n",
      "check line duplication:  750 / 795\n",
      "exclude fn(itself) :  /home/xsong/mg-wt/dataset/MS2 for GitHub Updated 26.05.2019/sugE/MAX_18102018 Position 142-1.tif.mortality.tab\n",
      "exclude fn(itself) :  /home/xsong/mg-wt/dataset/MS2 for GitHub Updated 26.05.2019/sugE/MAX_18102018 Position 143-1.tif.mortality.tab\n",
      "exclude fn(itself) :  /home/xsong/mg-wt/dataset/MS2 for GitHub Updated 26.05.2019/sugE/MAX_18102018 Position 144-1.tif.mortality.tab\n",
      "exclude fn(itself) :  /home/xsong/mg-wt/dataset/MS2 for GitHub Updated 26.05.2019/sugE/MAX_18102018 Position 145-1.tif.mortality.tab\n",
      "exclude fn(itself) :  /home/xsong/mg-wt/dataset/MS2 for GitHub Updated 26.05.2019/sugE/MAX_18102018 Position 191-1.tif.mortality.tab\n",
      "exclude fn(itself) :  /home/xsong/mg-wt/dataset/MS2 for GitHub Updated 26.05.2019/sugE/MAX_18102018 Position 192-1.tif.mortality.tab\n",
      "exclude fn(itself) :  /home/xsong/mg-wt/dataset/MS2 for GitHub Updated 26.05.2019/sugE/MAX_18102018 Position 282-1.tif.mortality.tab\n",
      "exclude fn(itself) :  /home/xsong/mg-wt/dataset/MS2 for GitHub Updated 26.05.2019/sugE/MAX_18102018 Position 93-1.tif.mortality.tab\n"
     ]
    }
   ],
   "source": [
    "import sys,os\n",
    "python_class_path='/home/xsong/mg-wt'\n",
    "sys.path.insert(1, os.path.join(sys.path[0], python_class_path))\n",
    "from Preprocessing import PreprocessingTabFile\n",
    "current_path = '/home/xsong/mg-wt/dataset/MS2 for GitHub Updated 26.05.2019/sugE'\n",
    "prev_path = '/home/xsong/coliSurvivalAnalysis/xsong/Microfluidics Database'\n",
    "filter_file_path = ''\n",
    "selfFilter = True\n",
    "pre = PreprocessingTabFile(current_path,prev_path,filterFile=filter_file_path,autoFilter = selfFilter,report_folder_name='report',showProgress = True)\n",
    "pre.run()"
   ]
  }
 ],
 "metadata": {},
 "nbformat": 4,
 "nbformat_minor": 2
}
