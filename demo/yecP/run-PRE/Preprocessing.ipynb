{
 "cells": [
  {
   "cell_type": "markdown",
   "metadata": {},
   "source": [
    "# Preprocessing to detect duplication\n",
    "This is an auto-generated notebook."
   ]
  },
  {
   "cell_type": "code",
   "execution_count": 1,
   "metadata": {},
   "outputs": [
    {
     "name": "stdout",
     "output_type": "stream",
     "text": [
      "Total files length :  792  Filtered files length (after MD5 check) :  5\n",
      "check line duplication(open file) :  50 / 792\n",
      "check line duplication(open file) :  100 / 792\n",
      "check line duplication(open file) :  150 / 792\n",
      "check line duplication(open file) :  200 / 792\n",
      "check line duplication(open file) :  250 / 792\n",
      "check line duplication(open file) :  300 / 792\n",
      "check line duplication(open file) :  350 / 792\n",
      "check line duplication(open file) :  400 / 792\n",
      "check line duplication(open file) :  450 / 792\n",
      "check line duplication(open file) :  500 / 792\n",
      "check line duplication(open file) :  550 / 792\n",
      "check line duplication(open file) :  600 / 792\n",
      "check line duplication(open file) :  650 / 792\n",
      "check line duplication(open file) :  700 / 792\n",
      "check line duplication(open file) :  750 / 792\n",
      "check line duplication:  0 / 792\n",
      "check line duplication:  50 / 792\n",
      "check line duplication:  100 / 792\n",
      "check line duplication:  150 / 792\n",
      "check line duplication:  200 / 792\n",
      "check line duplication:  250 / 792\n",
      "check line duplication:  300 / 792\n",
      "check line duplication:  350 / 792\n",
      "check line duplication:  400 / 792\n",
      "check line duplication:  450 / 792\n",
      "check line duplication:  500 / 792\n",
      "check line duplication:  550 / 792\n",
      "check line duplication:  600 / 792\n",
      "check line duplication:  650 / 792\n",
      "check line duplication:  700 / 792\n",
      "check line duplication:  750 / 792\n",
      "exclude fn(itself) :  /home/xsong/mg-wt/dataset/MS2 for GitHub Updated 26.05.2019/yecP/MAX_01062016 Position 78-1.tif.mortality.tab\n",
      "exclude fn(itself) :  /home/xsong/mg-wt/dataset/MS2 for GitHub Updated 26.05.2019/yecP/MAX_01062016 Position 79-1.tif.mortality.tab\n",
      "exclude fn(itself) :  /home/xsong/mg-wt/dataset/MS2 for GitHub Updated 26.05.2019/yecP/MAX_01062016 Position 84-1.tif.mortality.tab\n",
      "exclude fn(itself) :  /home/xsong/mg-wt/dataset/MS2 for GitHub Updated 26.05.2019/yecP/MAX_01062016 Position 90-1.tif.mortality.tab\n",
      "exclude fn(itself) :  /home/xsong/mg-wt/dataset/MS2 for GitHub Updated 26.05.2019/yecP/MAX_01062016 Position 91-1.tif.mortality.tab\n"
     ]
    }
   ],
   "source": [
    "import sys,os\n",
    "python_class_path='/home/xsong/mg-wt'\n",
    "sys.path.insert(1, os.path.join(sys.path[0], python_class_path))\n",
    "from Preprocessing import PreprocessingTabFile\n",
    "current_path = '/home/xsong/mg-wt/dataset/MS2 for GitHub Updated 26.05.2019/yecP'\n",
    "prev_path = '/home/xsong/coliSurvivalAnalysis/xsong/Microfluidics Database'\n",
    "filter_file_path = ''\n",
    "selfFilter = True\n",
    "pre = PreprocessingTabFile(current_path,prev_path,filterFile=filter_file_path,autoFilter = selfFilter,report_folder_name='report',showProgress = True)\n",
    "pre.run()"
   ]
  }
 ],
 "metadata": {},
 "nbformat": 4,
 "nbformat_minor": 2
}
