{
 "cells": [
  {
   "cell_type": "markdown",
   "metadata": {},
   "source": [
    "# Check Replication and discard orphan files by clustering\n",
    "    "
   ]
  },
  {
   "cell_type": "code",
   "execution_count": null,
   "metadata": {},
   "outputs": [],
   "source": [
    "%matplotlib inline\n",
    "import sys,os\n",
    "python_class_path='/home/xsong/mg-wt'\n",
    "sys.path.insert(1, os.path.join(sys.path[0], python_class_path))\n",
    "from Check_Replication import CheckReplication\n",
    "folderPath='/home/xsong/mg-wt/dataset/MG strains tab/MG ascG'\n",
    "path_ref_folder ='/home/xsong/mg-wt/dataset'\n",
    "cutoff = -1\n",
    "CR = CheckReplication(folderPath, refFolderPath=path_ref_folder, cutoff=cutoff)\n",
    "CR.run()"
   ]
  }
 ],
 "metadata": {},
 "nbformat": 4,
 "nbformat_minor": 2
}
