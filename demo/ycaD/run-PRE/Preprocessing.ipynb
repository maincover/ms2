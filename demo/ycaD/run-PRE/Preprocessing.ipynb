{
 "cells": [
  {
   "cell_type": "markdown",
   "metadata": {},
   "source": [
    "# Preprocessing to detect duplication\n",
    "This is an auto-generated notebook."
   ]
  },
  {
   "cell_type": "code",
   "execution_count": 1,
   "metadata": {},
   "outputs": [
    {
     "name": "stdout",
     "output_type": "stream",
     "text": [
      "Total files length :  802  Filtered files length (after MD5 check) :  15\n",
      "check line duplication(open file) :  50 / 802\n",
      "check line duplication(open file) :  100 / 802\n",
      "check line duplication(open file) :  150 / 802\n",
      "check line duplication(open file) :  200 / 802\n",
      "check line duplication(open file) :  250 / 802\n",
      "check line duplication(open file) :  300 / 802\n",
      "check line duplication(open file) :  350 / 802\n",
      "check line duplication(open file) :  400 / 802\n",
      "check line duplication(open file) :  450 / 802\n",
      "check line duplication(open file) :  500 / 802\n",
      "check line duplication(open file) :  550 / 802\n",
      "check line duplication(open file) :  600 / 802\n",
      "check line duplication(open file) :  650 / 802\n",
      "check line duplication(open file) :  700 / 802\n",
      "check line duplication(open file) :  750 / 802\n",
      "check line duplication(open file) :  800 / 802\n",
      "check line duplication:  0 / 802\n",
      "check line duplication:  50 / 802\n",
      "check line duplication:  100 / 802\n",
      "check line duplication:  150 / 802\n",
      "check line duplication:  200 / 802\n",
      "check line duplication:  250 / 802\n",
      "check line duplication:  300 / 802\n",
      "check line duplication:  350 / 802\n",
      "check line duplication:  400 / 802\n",
      "check line duplication:  450 / 802\n",
      "check line duplication:  500 / 802\n",
      "check line duplication:  550 / 802\n",
      "check line duplication:  600 / 802\n",
      "check line duplication:  650 / 802\n",
      "check line duplication:  700 / 802\n",
      "check line duplication:  750 / 802\n",
      "exclude fn(itself) :  /home/xsong/mg-wt/dataset/MS2 for GitHub Updated 26.05.2019/ycaD/MAX_28072014 mRFP Position 13-1.tif.mortality.tab\n",
      "exclude fn(itself) :  /home/xsong/mg-wt/dataset/MS2 for GitHub Updated 26.05.2019/ycaD/MAX_28072014 mRFP Position 15-1.tif.mortality.tab\n",
      "exclude fn(itself) :  /home/xsong/mg-wt/dataset/MS2 for GitHub Updated 26.05.2019/ycaD/MAX_28072014 mRFP Position 16-1.tif.mortality.tab\n",
      "exclude fn(itself) :  /home/xsong/mg-wt/dataset/MS2 for GitHub Updated 26.05.2019/ycaD/MAX_28072014 mRFP Position 21-1.tif.mortality.tab\n",
      "exclude fn(itself) :  /home/xsong/mg-wt/dataset/MS2 for GitHub Updated 26.05.2019/ycaD/MAX_28072014 mRFP Position 32-1.tif.mortality.tab\n",
      "exclude fn(itself) :  /home/xsong/mg-wt/dataset/MS2 for GitHub Updated 26.05.2019/ycaD/MAX_28072014 mRFP Position 39-1.tif.mortality.tab\n",
      "exclude fn(itself) :  /home/xsong/mg-wt/dataset/MS2 for GitHub Updated 26.05.2019/ycaD/MAX_28072014 mRFP Position 51-1.tif.mortality.tab\n",
      "exclude fn(itself) :  /home/xsong/mg-wt/dataset/MS2 for GitHub Updated 26.05.2019/ycaD/MAX_28072014 mRFP Position 58-1.tif.mortality.tab\n",
      "exclude fn(itself) :  /home/xsong/mg-wt/dataset/MS2 for GitHub Updated 26.05.2019/ycaD/MAX_28072014 mRFP Position 68-1.tif.mortality.tab\n",
      "exclude fn(itself) :  /home/xsong/mg-wt/dataset/MS2 for GitHub Updated 26.05.2019/ycaD/MAX_28072014 mRFP Position 69-1.tif.mortality.tab\n",
      "exclude fn(itself) :  /home/xsong/mg-wt/dataset/MS2 for GitHub Updated 26.05.2019/ycaD/MAX_28072014 mRFP Position 70-1.tif.mortality.tab\n",
      "exclude fn(itself) :  /home/xsong/mg-wt/dataset/MS2 for GitHub Updated 26.05.2019/ycaD/MAX_28072014 mRFP Position 71-1.tif.mortality.tab\n",
      "exclude fn(itself) :  /home/xsong/mg-wt/dataset/MS2 for GitHub Updated 26.05.2019/ycaD/MAX_28072014 mRFP Position 73-1.tif.mortality.tab\n",
      "check line duplication:  800 / 802\n",
      "exclude fn(itself) :  /home/xsong/mg-wt/dataset/MS2 for GitHub Updated 26.05.2019/ycaD/MAX_28072014 mRFP Position 81-1.tif.mortality.tab\n",
      "exclude fn(itself) :  /home/xsong/mg-wt/dataset/MS2 for GitHub Updated 26.05.2019/ycaD/MAX_28072014 mRFP Position 9-1.tif.mortality.tab\n"
     ]
    }
   ],
   "source": [
    "import sys,os\n",
    "python_class_path='/home/xsong/mg-wt'\n",
    "sys.path.insert(1, os.path.join(sys.path[0], python_class_path))\n",
    "from Preprocessing import PreprocessingTabFile\n",
    "current_path = '/home/xsong/mg-wt/dataset/MS2 for GitHub Updated 26.05.2019/ycaD'\n",
    "prev_path = '/home/xsong/coliSurvivalAnalysis/xsong/Microfluidics Database'\n",
    "filter_file_path = ''\n",
    "selfFilter = True\n",
    "pre = PreprocessingTabFile(current_path,prev_path,filterFile=filter_file_path,autoFilter = selfFilter,report_folder_name='report',showProgress = True)\n",
    "pre.run()"
   ]
  }
 ],
 "metadata": {},
 "nbformat": 4,
 "nbformat_minor": 2
}
