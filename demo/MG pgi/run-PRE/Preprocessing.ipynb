{
 "cells": [
  {
   "cell_type": "markdown",
   "metadata": {},
   "source": [
    "# Preprocessing to detect duplication\n",
    "This is an auto-generated notebook."
   ]
  },
  {
   "cell_type": "code",
   "execution_count": 1,
   "metadata": {},
   "outputs": [
    {
     "name": "stdout",
     "output_type": "stream",
     "text": [
      "Total files length :  797  Filtered files length (after MD5 check) :  10\n",
      "check line duplication(open file) :  50 / 797\n",
      "check line duplication(open file) :  100 / 797\n",
      "check line duplication(open file) :  150 / 797\n",
      "check line duplication(open file) :  200 / 797\n",
      "check line duplication(open file) :  250 / 797\n",
      "check line duplication(open file) :  300 / 797\n",
      "check line duplication(open file) :  350 / 797\n",
      "check line duplication(open file) :  400 / 797\n",
      "check line duplication(open file) :  450 / 797\n",
      "check line duplication(open file) :  500 / 797\n",
      "check line duplication(open file) :  550 / 797\n",
      "check line duplication(open file) :  600 / 797\n",
      "check line duplication(open file) :  650 / 797\n",
      "check line duplication(open file) :  700 / 797\n",
      "check line duplication(open file) :  750 / 797\n",
      "check line duplication:  0 / 797\n",
      "check line duplication:  50 / 797\n",
      "check line duplication:  100 / 797\n",
      "check line duplication:  150 / 797\n",
      "check line duplication:  200 / 797\n",
      "check line duplication:  250 / 797\n",
      "check line duplication:  300 / 797\n",
      "check line duplication:  350 / 797\n",
      "check line duplication:  400 / 797\n",
      "check line duplication:  450 / 797\n",
      "check line duplication:  500 / 797\n",
      "check line duplication:  550 / 797\n",
      "check line duplication:  600 / 797\n",
      "check line duplication:  650 / 797\n",
      "check line duplication:  700 / 797\n",
      "check line duplication:  750 / 797\n",
      "exclude fn(itself) :  /home/xsong/mg-wt/dataset/MG strains tab/MG pgi/MAX_04082014 Position 81 mask.tif.mortality.tab\n",
      "exclude fn(itself) :  /home/xsong/mg-wt/dataset/MG strains tab/MG pgi/MAX_04082014 Position 82 mask.tif.mortality.tab\n",
      "exclude fn(itself) :  /home/xsong/mg-wt/dataset/MG strains tab/MG pgi/MAX_04082014 Position 83 mask.tif.mortality.tab\n",
      "exclude fn(itself) :  /home/xsong/mg-wt/dataset/MG strains tab/MG pgi/MAX_04082014 Position 84 mask.tif.mortality.tab\n",
      "exclude fn(itself) :  /home/xsong/mg-wt/dataset/MG strains tab/MG pgi/MAX_04082014 Position 85 mask.tif.mortality.tab\n",
      "exclude fn(itself) :  /home/xsong/mg-wt/dataset/MG strains tab/MG pgi/MAX_04082014 Position 87 mask.tif.mortality.tab\n",
      "exclude fn(itself) :  /home/xsong/mg-wt/dataset/MG strains tab/MG pgi/MAX_04082014 Position 89 mask.tif.mortality.tab\n",
      "exclude fn(itself) :  /home/xsong/mg-wt/dataset/MG strains tab/MG pgi/MAX_04082014 Position 90 mask.tif.mortality.tab\n",
      "exclude fn(itself) :  /home/xsong/mg-wt/dataset/MG strains tab/MG pgi/MAX_04082014 Position 91 mask.tif.mortality.tab\n",
      "exclude fn(itself) :  /home/xsong/mg-wt/dataset/MG strains tab/MG pgi/MAX_04082014 Position 92 mask.tif.mortality.tab\n"
     ]
    }
   ],
   "source": [
    "import sys,os\n",
    "python_class_path='/home/xsong/mg-wt'\n",
    "sys.path.insert(1, os.path.join(sys.path[0], python_class_path))\n",
    "from Preprocessing import PreprocessingTabFile\n",
    "current_path = '/home/xsong/mg-wt/dataset/MG strains tab/MG pgi'\n",
    "prev_path = '/home/xsong/coliSurvivalAnalysis/xsong/Microfluidics Database'\n",
    "filter_file_path = ''\n",
    "selfFilter = True\n",
    "pre = PreprocessingTabFile(current_path,prev_path,filterFile=filter_file_path,autoFilter = selfFilter,report_folder_name='report',showProgress = True)\n",
    "pre.run()"
   ]
  }
 ],
 "metadata": {},
 "nbformat": 4,
 "nbformat_minor": 2
}
