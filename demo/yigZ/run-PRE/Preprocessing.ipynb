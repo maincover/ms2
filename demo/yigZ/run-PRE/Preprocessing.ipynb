{
 "cells": [
  {
   "cell_type": "markdown",
   "metadata": {},
   "source": [
    "# Preprocessing to detect duplication\n",
    "This is an auto-generated notebook."
   ]
  },
  {
   "cell_type": "code",
   "execution_count": 1,
   "metadata": {},
   "outputs": [
    {
     "name": "stdout",
     "output_type": "stream",
     "text": [
      "Total files length :  811  Filtered files length (after MD5 check) :  24\n",
      "check line duplication(open file) :  50 / 811\n",
      "check line duplication(open file) :  100 / 811\n",
      "check line duplication(open file) :  150 / 811\n",
      "check line duplication(open file) :  200 / 811\n",
      "check line duplication(open file) :  250 / 811\n",
      "check line duplication(open file) :  300 / 811\n",
      "check line duplication(open file) :  350 / 811\n",
      "check line duplication(open file) :  400 / 811\n",
      "check line duplication(open file) :  450 / 811\n",
      "check line duplication(open file) :  500 / 811\n",
      "check line duplication(open file) :  550 / 811\n",
      "check line duplication(open file) :  600 / 811\n",
      "check line duplication(open file) :  650 / 811\n",
      "check line duplication(open file) :  700 / 811\n",
      "check line duplication(open file) :  750 / 811\n",
      "check line duplication(open file) :  800 / 811\n",
      "check line duplication:  0 / 811\n",
      "check line duplication:  50 / 811\n",
      "check line duplication:  100 / 811\n",
      "check line duplication:  150 / 811\n",
      "check line duplication:  200 / 811\n",
      "check line duplication:  250 / 811\n",
      "check line duplication:  300 / 811\n",
      "check line duplication:  350 / 811\n",
      "check line duplication:  400 / 811\n",
      "check line duplication:  450 / 811\n",
      "check line duplication:  500 / 811\n",
      "check line duplication:  550 / 811\n",
      "check line duplication:  600 / 811\n",
      "check line duplication:  650 / 811\n",
      "check line duplication:  700 / 811\n",
      "check line duplication:  750 / 811\n",
      "exclude fn(itself) :  /home/xsong/mg-wt/dataset/MS2 for GitHub Updated 26.05.2019/yigZ/MAX_10102016 Position 121-1.tif.mortality.tab\n",
      "exclude fn(itself) :  /home/xsong/mg-wt/dataset/MS2 for GitHub Updated 26.05.2019/yigZ/MAX_10102016 Position 122-1.tif.mortality.tab\n",
      "exclude fn(itself) :  /home/xsong/mg-wt/dataset/MS2 for GitHub Updated 26.05.2019/yigZ/MAX_10102016 Position 123-1.tif.mortality.tab\n",
      "exclude fn(itself) :  /home/xsong/mg-wt/dataset/MS2 for GitHub Updated 26.05.2019/yigZ/MAX_10102016 Position 124-1.tif.mortality.tab\n",
      "exclude fn(itself) :  /home/xsong/mg-wt/dataset/MS2 for GitHub Updated 26.05.2019/yigZ/MAX_10102016 Position 129-1.tif.mortality.tab\n",
      "exclude fn(itself) :  /home/xsong/mg-wt/dataset/MS2 for GitHub Updated 26.05.2019/yigZ/MAX_10102016 Position 131-1.tif.mortality.tab\n",
      "exclude fn(itself) :  /home/xsong/mg-wt/dataset/MS2 for GitHub Updated 26.05.2019/yigZ/MAX_10102016 Position 132-1.tif.mortality.tab\n",
      "exclude fn(itself) :  /home/xsong/mg-wt/dataset/MS2 for GitHub Updated 26.05.2019/yigZ/MAX_10102016 Position 134-1.tif.mortality.tab\n",
      "exclude fn(itself) :  /home/xsong/mg-wt/dataset/MS2 for GitHub Updated 26.05.2019/yigZ/MAX_10102016 Position 135-1.tif.mortality.tab\n",
      "exclude fn(itself) :  /home/xsong/mg-wt/dataset/MS2 for GitHub Updated 26.05.2019/yigZ/MAX_10102016 Position 136-1.tif.mortality.tab\n",
      "exclude fn(itself) :  /home/xsong/mg-wt/dataset/MS2 for GitHub Updated 26.05.2019/yigZ/MAX_10102016 Position 137-1.tif.mortality.tab\n",
      "exclude fn(itself) :  /home/xsong/mg-wt/dataset/MS2 for GitHub Updated 26.05.2019/yigZ/MAX_10102016 Position 138-1.tif.mortality.tab\n",
      "exclude fn(itself) :  /home/xsong/mg-wt/dataset/MS2 for GitHub Updated 26.05.2019/yigZ/MAX_10102016 Position 142-1.tif.mortality.tab\n",
      "check line duplication:  800 / 811\n",
      "exclude fn(itself) :  /home/xsong/mg-wt/dataset/MS2 for GitHub Updated 26.05.2019/yigZ/MAX_10102016 Position 143-1.tif.mortality.tab\n",
      "exclude fn(itself) :  /home/xsong/mg-wt/dataset/MS2 for GitHub Updated 26.05.2019/yigZ/MAX_10102016 Position 146-1.tif.mortality.tab\n",
      "exclude fn(itself) :  /home/xsong/mg-wt/dataset/MS2 for GitHub Updated 26.05.2019/yigZ/MAX_10102016 Position 147-1.tif.mortality.tab\n",
      "exclude fn(itself) :  /home/xsong/mg-wt/dataset/MS2 for GitHub Updated 26.05.2019/yigZ/MAX_10102016 Position 148-1.tif.mortality.tab\n",
      "exclude fn(itself) :  /home/xsong/mg-wt/dataset/MS2 for GitHub Updated 26.05.2019/yigZ/MAX_10102016 Position 149-1.tif.mortality.tab\n",
      "exclude fn(itself) :  /home/xsong/mg-wt/dataset/MS2 for GitHub Updated 26.05.2019/yigZ/MAX_10102016 Position 150-1.tif.mortality.tab\n",
      "exclude fn(itself) :  /home/xsong/mg-wt/dataset/MS2 for GitHub Updated 26.05.2019/yigZ/MAX_10102016 Position 52-1.tif.mortality.tab\n",
      "exclude fn(itself) :  /home/xsong/mg-wt/dataset/MS2 for GitHub Updated 26.05.2019/yigZ/MAX_10102016 Position 56-1.tif.mortality.tab\n",
      "exclude fn(itself) :  /home/xsong/mg-wt/dataset/MS2 for GitHub Updated 26.05.2019/yigZ/MAX_10102016 Position 57-1.tif.mortality.tab\n",
      "exclude fn(itself) :  /home/xsong/mg-wt/dataset/MS2 for GitHub Updated 26.05.2019/yigZ/MAX_10102016 Position 59-1.tif.mortality.tab\n",
      "exclude fn(itself) :  /home/xsong/mg-wt/dataset/MS2 for GitHub Updated 26.05.2019/yigZ/MAX_10102016 Position 60-1.tif.mortality.tab\n"
     ]
    }
   ],
   "source": [
    "import sys,os\n",
    "python_class_path='/home/xsong/mg-wt'\n",
    "sys.path.insert(1, os.path.join(sys.path[0], python_class_path))\n",
    "from Preprocessing import PreprocessingTabFile\n",
    "current_path = '/home/xsong/mg-wt/dataset/MS2 for GitHub Updated 26.05.2019/yigZ'\n",
    "prev_path = '/home/xsong/coliSurvivalAnalysis/xsong/Microfluidics Database'\n",
    "filter_file_path = ''\n",
    "selfFilter = True\n",
    "pre = PreprocessingTabFile(current_path,prev_path,filterFile=filter_file_path,autoFilter = selfFilter,report_folder_name='report',showProgress = True)\n",
    "pre.run()"
   ]
  }
 ],
 "metadata": {},
 "nbformat": 4,
 "nbformat_minor": 2
}
