{
 "cells": [
  {
   "cell_type": "markdown",
   "metadata": {},
   "source": [
    "# GG_GGM_SELECTOR Write the result to table\n",
    "    "
   ]
  },
  {
   "cell_type": "code",
   "execution_count": 1,
   "metadata": {},
   "outputs": [
    {
     "name": "stdout",
     "output_type": "stream",
     "text": [
      "create output folder :  /home/xsong/mg-wt/dataset/MS2 for GitHub Updated 26.05.2019/gltL/GG_GGM_TABLE\n",
      "[['/home/xsong/mg-wt/dataset/MS2 for GitHub Updated 26.05.2019/gltL/CR-TA_gltL-1_mortality_dataframe_cluster0.pickle', '/home/xsong/mg-wt/dataset/MS2 for GitHub Updated 26.05.2019/gltL/CR-TA_gltL-1_relative_timegrid_cluster0.pickle', 'CR-TA_gltL-1_']]\n",
      "CR-TA_gltL-1_\n"
     ]
    },
    {
     "name": "stderr",
     "output_type": "stream",
     "text": [
      "../../../cohortMortalitySummary.py:174: RuntimeWarning: invalid value encountered in divide\n",
      "  NA_lower = NelsonAalen * np.exp( norm.ppf(ALPHA/2)*np.sqrt(NA_var)/NelsonAalen )\n",
      "../../../cohortMortalitySummary.py:175: RuntimeWarning: invalid value encountered in divide\n",
      "  NA_upper = NelsonAalen * np.exp( norm.ppf(1-ALPHA/2)*np.sqrt(NA_var)/NelsonAalen )\n"
     ]
    },
    {
     "name": "stdout",
     "output_type": "stream",
     "text": [
      "----------- /home/xsong/mg-wt/dataset/MS2 for GitHub Updated 26.05.2019/gltL/GG_GGM_TABLE/CR-TA_gltL-1_.txt\n",
      "No error in flxsrv_fit\n",
      "5446.64750096\n",
      "4\n",
      "1 ['2014-07-05 00:00:00']\n",
      "No error in flxsrv_fit\n",
      "0.0889514496419 1.0\n",
      "No error in flxsrv_fit\n"
     ]
    }
   ],
   "source": [
    "import sys,os\n",
    "python_class_path='/home/xsong/mg-wt'\n",
    "sys.path.insert(1, os.path.join(sys.path[0], python_class_path))\n",
    "from Selector_GG_GGM import GG_GGM_Selector\n",
    "data_folder = '/home/xsong/mg-wt/dataset/MS2 for GitHub Updated 26.05.2019/gltL'\n",
    "out_folder = '/home/xsong/mg-wt/dataset/MS2 for GitHub Updated 26.05.2019/gltL/GG_GGM_TABLE'\n",
    "gg_ggm_selector = GG_GGM_Selector(data_folder,out_folder)\n",
    "gg_ggm_selector.run()"
   ]
  }
 ],
 "metadata": {},
 "nbformat": 4,
 "nbformat_minor": 2
}
