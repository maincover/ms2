{
 "cells": [
  {
   "cell_type": "markdown",
   "metadata": {},
   "source": [
    "# Preprocessing to detect duplication\n",
    "This is an auto-generated notebook."
   ]
  },
  {
   "cell_type": "code",
   "execution_count": 1,
   "metadata": {},
   "outputs": [
    {
     "name": "stdout",
     "output_type": "stream",
     "text": [
      "Total files length :  802  Filtered files length (after MD5 check) :  15\n",
      "check line duplication(open file) :  50 / 802\n",
      "check line duplication(open file) :  100 / 802\n",
      "check line duplication(open file) :  150 / 802\n",
      "check line duplication(open file) :  200 / 802\n",
      "check line duplication(open file) :  250 / 802\n",
      "check line duplication(open file) :  300 / 802\n",
      "check line duplication(open file) :  350 / 802\n",
      "check line duplication(open file) :  400 / 802\n",
      "check line duplication(open file) :  450 / 802\n",
      "check line duplication(open file) :  500 / 802\n",
      "check line duplication(open file) :  550 / 802\n",
      "check line duplication(open file) :  600 / 802\n",
      "check line duplication(open file) :  650 / 802\n",
      "check line duplication(open file) :  700 / 802\n",
      "check line duplication(open file) :  750 / 802\n",
      "check line duplication(open file) :  800 / 802\n",
      "check line duplication:  0 / 802\n",
      "check line duplication:  50 / 802\n",
      "check line duplication:  100 / 802\n",
      "check line duplication:  150 / 802\n",
      "check line duplication:  200 / 802\n",
      "check line duplication:  250 / 802\n",
      "check line duplication:  300 / 802\n",
      "check line duplication:  350 / 802\n",
      "check line duplication:  400 / 802\n",
      "check line duplication:  450 / 802\n",
      "check line duplication:  500 / 802\n",
      "check line duplication:  550 / 802\n",
      "check line duplication:  600 / 802\n",
      "check line duplication:  650 / 802\n",
      "check line duplication:  700 / 802\n",
      "check line duplication:  750 / 802\n",
      "exclude fn(itself) :  /home/xsong/mg-wt/dataset/MS2 for GitHub Updated 26.05.2019/yhdX/MAX_28062016 Position 1-1.tif.mortality.tab\n",
      "exclude fn(itself) :  /home/xsong/mg-wt/dataset/MS2 for GitHub Updated 26.05.2019/yhdX/MAX_28062016 Position 100-1.tif.mortality.tab\n",
      "exclude fn(itself) :  /home/xsong/mg-wt/dataset/MS2 for GitHub Updated 26.05.2019/yhdX/MAX_28062016 Position 13-1.tif.mortality.tab\n",
      "exclude fn(itself) :  /home/xsong/mg-wt/dataset/MS2 for GitHub Updated 26.05.2019/yhdX/MAX_28062016 Position 2-1.tif.mortality.tab\n",
      "exclude fn(itself) :  /home/xsong/mg-wt/dataset/MS2 for GitHub Updated 26.05.2019/yhdX/MAX_28062016 Position 3-1.tif.mortality.tab\n",
      "exclude fn(itself) :  /home/xsong/mg-wt/dataset/MS2 for GitHub Updated 26.05.2019/yhdX/MAX_28062016 Position 50-1.tif.mortality.tab\n",
      "exclude fn(itself) :  /home/xsong/mg-wt/dataset/MS2 for GitHub Updated 26.05.2019/yhdX/MAX_28062016 Position 54-1.tif.mortality.tab\n",
      "exclude fn(itself) :  /home/xsong/mg-wt/dataset/MS2 for GitHub Updated 26.05.2019/yhdX/MAX_28062016 Position 7-1.tif.mortality.tab\n",
      "exclude fn(itself) :  /home/xsong/mg-wt/dataset/MS2 for GitHub Updated 26.05.2019/yhdX/MAX_28062016 Position 8-1.tif.mortality.tab\n",
      "exclude fn(itself) :  /home/xsong/mg-wt/dataset/MS2 for GitHub Updated 26.05.2019/yhdX/MAX_28062016 Position 91-1.tif.mortality.tab\n",
      "exclude fn(itself) :  /home/xsong/mg-wt/dataset/MS2 for GitHub Updated 26.05.2019/yhdX/MAX_28062016 Position 92-1.tif.mortality.tab\n",
      "exclude fn(itself) :  /home/xsong/mg-wt/dataset/MS2 for GitHub Updated 26.05.2019/yhdX/MAX_28062016 Position 93-1.tif.mortality.tab\n",
      "exclude fn(itself) :  /home/xsong/mg-wt/dataset/MS2 for GitHub Updated 26.05.2019/yhdX/MAX_28062016 Position 94-1.tif.mortality.tab\n",
      "check line duplication:  800 / 802\n",
      "exclude fn(itself) :  /home/xsong/mg-wt/dataset/MS2 for GitHub Updated 26.05.2019/yhdX/MAX_28062016 Position 98-1.tif.mortality.tab\n",
      "exclude fn(itself) :  /home/xsong/mg-wt/dataset/MS2 for GitHub Updated 26.05.2019/yhdX/MAX_28062016 Position 99-1.tif.mortality.tab\n"
     ]
    }
   ],
   "source": [
    "import sys,os\n",
    "python_class_path='/home/xsong/mg-wt'\n",
    "sys.path.insert(1, os.path.join(sys.path[0], python_class_path))\n",
    "from Preprocessing import PreprocessingTabFile\n",
    "current_path = '/home/xsong/mg-wt/dataset/MS2 for GitHub Updated 26.05.2019/yhdX'\n",
    "prev_path = '/home/xsong/coliSurvivalAnalysis/xsong/Microfluidics Database'\n",
    "filter_file_path = ''\n",
    "selfFilter = True\n",
    "pre = PreprocessingTabFile(current_path,prev_path,filterFile=filter_file_path,autoFilter = selfFilter,report_folder_name='report',showProgress = True)\n",
    "pre.run()"
   ]
  }
 ],
 "metadata": {},
 "nbformat": 4,
 "nbformat_minor": 2
}
