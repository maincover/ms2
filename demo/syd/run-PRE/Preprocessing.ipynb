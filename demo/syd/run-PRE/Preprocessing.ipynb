{
 "cells": [
  {
   "cell_type": "markdown",
   "metadata": {},
   "source": [
    "# Preprocessing to detect duplication\n",
    "This is an auto-generated notebook."
   ]
  },
  {
   "cell_type": "code",
   "execution_count": 1,
   "metadata": {},
   "outputs": [
    {
     "name": "stdout",
     "output_type": "stream",
     "text": [
      "Total files length :  794  Filtered files length (after MD5 check) :  7\n",
      "check line duplication(open file) :  50 / 794\n",
      "check line duplication(open file) :  100 / 794\n",
      "check line duplication(open file) :  150 / 794\n",
      "check line duplication(open file) :  200 / 794\n",
      "check line duplication(open file) :  250 / 794\n",
      "check line duplication(open file) :  300 / 794\n",
      "check line duplication(open file) :  350 / 794\n",
      "check line duplication(open file) :  400 / 794\n",
      "check line duplication(open file) :  450 / 794\n",
      "check line duplication(open file) :  500 / 794\n",
      "check line duplication(open file) :  550 / 794\n",
      "check line duplication(open file) :  600 / 794\n",
      "check line duplication(open file) :  650 / 794\n",
      "check line duplication(open file) :  700 / 794\n",
      "check line duplication(open file) :  750 / 794\n",
      "check line duplication:  0 / 794\n",
      "check line duplication:  50 / 794\n",
      "check line duplication:  100 / 794\n",
      "check line duplication:  150 / 794\n",
      "check line duplication:  200 / 794\n",
      "check line duplication:  250 / 794\n",
      "check line duplication:  300 / 794\n",
      "check line duplication:  350 / 794\n",
      "check line duplication:  400 / 794\n",
      "check line duplication:  450 / 794\n",
      "check line duplication:  500 / 794\n",
      "check line duplication:  550 / 794\n",
      "check line duplication:  600 / 794\n",
      "check line duplication:  650 / 794\n",
      "check line duplication:  700 / 794\n",
      "check line duplication:  750 / 794\n",
      "exclude fn(itself) :  /app/src/ms2/dataset/MS Github data part 7/syd/MAX_08062016 Position 10-1.tif.mortality.tab\n",
      "exclude fn(itself) :  /app/src/ms2/dataset/MS Github data part 7/syd/MAX_08062016 Position 123-1.tif.mortality.tab\n",
      "exclude fn(itself) :  /app/src/ms2/dataset/MS Github data part 7/syd/MAX_08062016 Position 15-1.tif.mortality.tab\n",
      "exclude fn(itself) :  /app/src/ms2/dataset/MS Github data part 7/syd/MAX_08062016 Position 20-1.tif.mortality.tab\n",
      "exclude fn(itself) :  /app/src/ms2/dataset/MS Github data part 7/syd/MAX_08062016 Position 28-1.tif.mortality.tab\n",
      "exclude fn(itself) :  /app/src/ms2/dataset/MS Github data part 7/syd/MAX_08062016 Position 6-1.tif.mortality.tab\n",
      "exclude fn(itself) :  /app/src/ms2/dataset/MS Github data part 7/syd/MAX_08062016 Position 9-1.tif.mortality.tab\n"
     ]
    }
   ],
   "source": [
    "import sys,os\n",
    "python_class_path='/app/src/ms2'\n",
    "sys.path.insert(1, os.path.join(sys.path[0], python_class_path))\n",
    "from Preprocessing import PreprocessingTabFile\n",
    "current_path = '/app/src/ms2/dataset/MS Github data part 7/syd'\n",
    "prev_path = '/app/src/coliSurvivalAnalysis/xsong/Microfluidics Database'\n",
    "filter_file_path = ''\n",
    "selfFilter = True\n",
    "pre = PreprocessingTabFile(current_path,prev_path,filterFile=filter_file_path,autoFilter = selfFilter,report_folder_name='report',showProgress = True)\n",
    "pre.run()"
   ]
  }
 ],
 "metadata": {
  "language_info": {
   "codemirror_mode": {
    "name": "ipython",
    "version": 2
   },
   "file_extension": ".py",
   "mimetype": "text/x-python",
   "name": "python",
   "nbconvert_exporter": "python",
   "pygments_lexer": "ipython2",
   "version": "2.7.16"
  }
 },
 "nbformat": 4,
 "nbformat_minor": 2
}
