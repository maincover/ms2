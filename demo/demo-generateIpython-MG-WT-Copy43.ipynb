{
 "cells": [
  {
   "cell_type": "code",
   "execution_count": 1,
   "metadata": {},
   "outputs": [
    {
     "name": "stdout",
     "output_type": "stream",
     "text": [
      "data path (abs) :  /home/xsong/mg-wt/dataset/MS2 for GitHub Updated 26.05.2019/sspA\n",
      "res_folder path (abs output) :  /home/xsong/mg-wt/demo/sspA\n",
      "prev_path (abs) :  /home/xsong/coliSurvivalAnalysis/xsong/Microfluidics Database\n",
      "python class path (abs) :  /home/xsong/mg-wt\n"
     ]
    }
   ],
   "source": [
    "import sys,os\n",
    "sys.path.insert(1, os.path.join(sys.path[0], '..'))\n",
    "from IPython_generator import IPythonNotebookGenerator\n",
    "current_path = '../dataset/MS2 for GitHub Updated 26.05.2019/sspA'\n",
    "path_ext = os.path.split(current_path)[1]\n",
    "current_path = os.path.abspath(current_path)\n",
    "print 'data path (abs) : ', current_path\n",
    "res_folder = os.path.join('./',path_ext)\n",
    "res_folder = os.path.abspath(res_folder)\n",
    "print 'res_folder path (abs output) : ', res_folder\n",
    "prev_path='/home/xsong/coliSurvivalAnalysis/xsong/Microfluidics Database/'\n",
    "prev_path = os.path.abspath(prev_path)\n",
    "print \"prev_path (abs) : \", prev_path\n",
    "python_class_path = \"../\"\n",
    "python_class_path = os.path.abspath(python_class_path)\n",
    "print \"python class path (abs) : \", python_class_path\n",
    "alcohol_time = \"120\"\n",
    "cutoff=\"CheckReplication.cutoff31\"\n",
    "cutoff=\"-1\"\n",
    "\n",
    "use_mg_wt = True\n",
    "if use_mg_wt:\n",
    "    MG_WT_path = '../dataset/MG-WT'\n",
    "    MG_WT_path = os.path.abspath(MG_WT_path)"
   ]
  },
  {
   "cell_type": "markdown",
   "metadata": {},
   "source": [
    "# Preprocessing, check file duplication, generate new list"
   ]
  },
  {
   "cell_type": "code",
   "execution_count": 2,
   "metadata": {},
   "outputs": [
    {
     "name": "stdout",
     "output_type": "stream",
     "text": [
      "/home/xsong/mg-wt/demo/sspA/run-PRE\n"
     ]
    }
   ],
   "source": [
    "#---Demo---Preprocessing auto generator and execution, modify the generated code to meet your needs\n",
    "#Veryfy inside the code, the good paths are set for the current dataset and prev dataset\n",
    "oPath = os.path.join(res_folder,'run-PRE')\n",
    "filter_file_path =''#'/Users/songxiaohu/Desktop/githubYfan/PIMortalityAnalysis/xsong/Microfluidics Database/No_dup_finalList_division.txt'\n",
    "selfFilter = 'True'\n",
    "IPythonNotebookGenerator.run_PRE(python_class_path,oPath, current_path,prev_path, filter_file_path, selfFilter)"
   ]
  },
  {
   "cell_type": "code",
   "execution_count": 3,
   "metadata": {},
   "outputs": [
    {
     "name": "stdout",
     "output_type": "stream",
     "text": [
      "---Execute ipython code---\n",
      "--Execute--  /home/xsong/mg-wt/demo/sspA/run-PRE/Preprocessing.ipynb\n"
     ]
    }
   ],
   "source": [
    "IPythonNotebookGenerator.execute(oPath)"
   ]
  },
  {
   "cell_type": "markdown",
   "metadata": {},
   "source": [
    "# .tab files in replicate group in finalFiles.txt TAB Analyzer"
   ]
  },
  {
   "cell_type": "code",
   "execution_count": 4,
   "metadata": {},
   "outputs": [
    {
     "name": "stdout",
     "output_type": "stream",
     "text": [
      "Initialization of Ipython auto generator\n",
      "---Ipython code generation process---\n",
      "/home/xsong/mg-wt/demo/sspA/run-TAB/sspA-1.ipynb\n",
      "/home/xsong/mg-wt/demo/sspA/run-TAB\n"
     ]
    }
   ],
   "source": [
    "#---Demo--- TAB processing auto generator and execution\n",
    "#data_path = '/Users/songxiaohu/Desktop/githubYfan/PIMortalityAnalysis/xsong/Microfluidics New Data'\n",
    "filter_path = os.path.join(current_path+'/'+'report','finalFiles.txt')#'/Users/songxiaohu/Desktop/githubYfan/PIMortalityAnalysis/xsong/main/test dataset/new data ana/report/finalFiles.txt'\n",
    "oPath = os.path.join(res_folder,'run-TAB')\n",
    "nbGenerator = IPythonNotebookGenerator(filterPath=filter_path,outputPath=oPath)\n",
    "#fFn_parent_path for non relative path in the filter file path\n",
    "fFn_parent_path=current_path#'/Users/songxiaohu/Desktop/githubYfan/PIMortalityAnalysis/xsong/Microfluidics Database' \n",
    "nbGenerator.run_TAB_PIP(python_class_path,alcohol_time,fFn_parent_path)"
   ]
  },
  {
   "cell_type": "code",
   "execution_count": null,
   "metadata": {},
   "outputs": [
    {
     "name": "stdout",
     "output_type": "stream",
     "text": [
      "---Execute ipython code---\n",
      "--Execute--  /home/xsong/mg-wt/demo/sspA/run-TAB/sspA-1.ipynb\n"
     ]
    }
   ],
   "source": [
    "IPythonNotebookGenerator.execute(oPath)"
   ]
  },
  {
   "cell_type": "markdown",
   "metadata": {},
   "source": [
    "# generate Mortality Distribution ipython file, modify the input in the file"
   ]
  },
  {
   "cell_type": "code",
   "execution_count": null,
   "metadata": {
    "scrolled": true
   },
   "outputs": [],
   "source": [
    "oPath =os.path.join(res_folder,'run-MD')\n",
    "data_folder_path = current_path#'/Users/songxiaohu/Desktop/githubYfan/PIMortalityAnalysis/xsong/main/test dataset/new data ana/'\n",
    "if use_mg_wt:\n",
    "    ref_df_path = os.path.join(MG_WT_path,'MG_WT_CLUSTER_0_df_relative_timegrid.pickle')\n",
    "else:\n",
    "    ref_df_path=os.path.join(prev_path,'WT/WT-1_df_relative_timegrid.pickle')\n",
    "print ref_df_path\n",
    "IPythonNotebookGenerator.run_MD(python_class_path,oPath,data_folder_path,ref_df_path)"
   ]
  },
  {
   "cell_type": "code",
   "execution_count": null,
   "metadata": {},
   "outputs": [],
   "source": [
    "IPythonNotebookGenerator.execute(oPath)"
   ]
  },
  {
   "cell_type": "markdown",
   "metadata": {},
   "source": [
    "# Check Replication\n"
   ]
  },
  {
   "cell_type": "code",
   "execution_count": null,
   "metadata": {},
   "outputs": [],
   "source": [
    "oPath = os.path.join(res_folder,'run-CR')\n",
    "folderPath = current_path\n",
    "if use_mg_wt:\n",
    "    path_ref_folder = os.path.split(MG_WT_path)[0]\n",
    "else:\n",
    "    path_ref_folder = os.path.join(prev_path,'WT')\n",
    "IPythonNotebookGenerator.run_CR(python_class_path,oPath,folderPath,path_ref_folder,cutoff)"
   ]
  },
  {
   "cell_type": "code",
   "execution_count": null,
   "metadata": {},
   "outputs": [],
   "source": [
    "IPythonNotebookGenerator.execute(oPath)"
   ]
  },
  {
   "cell_type": "markdown",
   "metadata": {},
   "source": [
    "# GG GGM Selector"
   ]
  },
  {
   "cell_type": "code",
   "execution_count": null,
   "metadata": {},
   "outputs": [],
   "source": [
    "oPath = os.path.join(res_folder,'run-SELECTOR')\n",
    "data_folder_path = current_path\n",
    "IPythonNotebookGenerator.run_SELECTOR(python_class_path,oPath,data_folder_path)"
   ]
  },
  {
   "cell_type": "code",
   "execution_count": null,
   "metadata": {},
   "outputs": [],
   "source": [
    "IPythonNotebookGenerator.execute(oPath)"
   ]
  },
  {
   "cell_type": "code",
   "execution_count": null,
   "metadata": {},
   "outputs": [],
   "source": []
  },
  {
   "cell_type": "code",
   "execution_count": null,
   "metadata": {},
   "outputs": [],
   "source": []
  }
 ],
 "metadata": {
  "kernelspec": {
   "display_name": "Python 2",
   "language": "python",
   "name": "python2"
  },
  "language_info": {
   "codemirror_mode": {
    "name": "ipython",
    "version": 2
   },
   "file_extension": ".py",
   "mimetype": "text/x-python",
   "name": "python",
   "nbconvert_exporter": "python",
   "pygments_lexer": "ipython2",
   "version": "2.7.15"
  }
 },
 "nbformat": 4,
 "nbformat_minor": 1
}
