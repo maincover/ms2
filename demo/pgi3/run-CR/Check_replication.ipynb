{
 "cells": [
  {
   "cell_type": "markdown",
   "metadata": {},
   "source": [
    "# Check Replication and discard orphan files by clustering\n",
    "    "
   ]
  },
  {
   "cell_type": "code",
   "execution_count": null,
   "metadata": {},
   "outputs": [],
   "source": [
    "%matplotlib inline\n",
    "import sys,os\n",
    "python_class_path='/app/src/ms2'\n",
    "sys.path.insert(1, os.path.join(sys.path[0], python_class_path))\n",
    "from Check_Replication import CheckReplication\n",
    "folderPath='/app/src/ms2/dataset/MS 2 Github data part 9/pgi3'\n",
    "path_ref_folder ='/app/src/ms2/dataset'\n",
    "cutoff = -1\n",
    "CR = CheckReplication(folderPath, refFolderPath=path_ref_folder, cutoff=cutoff)\n",
    "CR.run()"
   ]
  }
 ],
 "metadata": {},
 "nbformat": 4,
 "nbformat_minor": 2
}
