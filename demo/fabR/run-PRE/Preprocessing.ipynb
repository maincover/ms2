{
 "cells": [
  {
   "cell_type": "markdown",
   "metadata": {},
   "source": [
    "# Preprocessing to detect duplication\n",
    "This is an auto-generated notebook."
   ]
  },
  {
   "cell_type": "code",
   "execution_count": 1,
   "metadata": {},
   "outputs": [
    {
     "name": "stdout",
     "output_type": "stream",
     "text": [
      "Total files length :  799  Filtered files length (after MD5 check) :  12\n",
      "check line duplication(open file) :  50 / 799\n",
      "check line duplication(open file) :  100 / 799\n",
      "check line duplication(open file) :  150 / 799\n",
      "check line duplication(open file) :  200 / 799\n",
      "check line duplication(open file) :  250 / 799\n",
      "check line duplication(open file) :  300 / 799\n",
      "check line duplication(open file) :  350 / 799\n",
      "check line duplication(open file) :  400 / 799\n",
      "check line duplication(open file) :  450 / 799\n",
      "check line duplication(open file) :  500 / 799\n",
      "check line duplication(open file) :  550 / 799\n",
      "check line duplication(open file) :  600 / 799\n",
      "check line duplication(open file) :  650 / 799\n",
      "check line duplication(open file) :  700 / 799\n",
      "check line duplication(open file) :  750 / 799\n",
      "check line duplication:  0 / 799\n",
      "check line duplication:  50 / 799\n",
      "check line duplication:  100 / 799\n",
      "check line duplication:  150 / 799\n",
      "check line duplication:  200 / 799\n",
      "check line duplication:  250 / 799\n",
      "check line duplication:  300 / 799\n",
      "check line duplication:  350 / 799\n",
      "check line duplication:  400 / 799\n",
      "check line duplication:  450 / 799\n",
      "check line duplication:  500 / 799\n",
      "check line duplication:  550 / 799\n",
      "check line duplication:  600 / 799\n",
      "check line duplication:  650 / 799\n",
      "check line duplication:  700 / 799\n",
      "check line duplication:  750 / 799\n",
      "exclude fn(itself) :  /home/xsong/mg-wt/dataset/MS2 for GitHub Updated 26.05.2019/fabR/MAX_09032016 Position 10-1.tif.mortality.tab\n",
      "exclude fn(itself) :  /home/xsong/mg-wt/dataset/MS2 for GitHub Updated 26.05.2019/fabR/MAX_09032016 Position 11-1.tif.mortality.tab\n",
      "exclude fn(itself) :  /home/xsong/mg-wt/dataset/MS2 for GitHub Updated 26.05.2019/fabR/MAX_09032016 Position 14-1.tif.mortality.tab\n",
      "exclude fn(itself) :  /home/xsong/mg-wt/dataset/MS2 for GitHub Updated 26.05.2019/fabR/MAX_09032016 Position 15-1.tif.mortality.tab\n",
      "exclude fn(itself) :  /home/xsong/mg-wt/dataset/MS2 for GitHub Updated 26.05.2019/fabR/MAX_09032016 Position 22-1.tif.mortality.tab\n",
      "exclude fn(itself) :  /home/xsong/mg-wt/dataset/MS2 for GitHub Updated 26.05.2019/fabR/MAX_09032016 Position 23-1.tif.mortality.tab\n",
      "exclude fn(itself) :  /home/xsong/mg-wt/dataset/MS2 for GitHub Updated 26.05.2019/fabR/MAX_09032016 Position 25-1.tif.mortality.tab\n",
      "exclude fn(itself) :  /home/xsong/mg-wt/dataset/MS2 for GitHub Updated 26.05.2019/fabR/MAX_09032016 Position 26-1.tif.mortality.tab\n",
      "exclude fn(itself) :  /home/xsong/mg-wt/dataset/MS2 for GitHub Updated 26.05.2019/fabR/MAX_09032016 Position 27-1.tif.mortality.tab\n",
      "exclude fn(itself) :  /home/xsong/mg-wt/dataset/MS2 for GitHub Updated 26.05.2019/fabR/MAX_09032016 Position 28-1.tif.mortality.tab\n",
      "exclude fn(itself) :  /home/xsong/mg-wt/dataset/MS2 for GitHub Updated 26.05.2019/fabR/MAX_09032016 Position 4-1.tif.mortality.tab\n",
      "exclude fn(itself) :  /home/xsong/mg-wt/dataset/MS2 for GitHub Updated 26.05.2019/fabR/MAX_09032016 Position 5-1.tif.mortality.tab\n"
     ]
    }
   ],
   "source": [
    "import sys,os\n",
    "python_class_path='/home/xsong/mg-wt'\n",
    "sys.path.insert(1, os.path.join(sys.path[0], python_class_path))\n",
    "from Preprocessing import PreprocessingTabFile\n",
    "current_path = '/home/xsong/mg-wt/dataset/MS2 for GitHub Updated 26.05.2019/fabR'\n",
    "prev_path = '/home/xsong/coliSurvivalAnalysis/xsong/Microfluidics Database'\n",
    "filter_file_path = ''\n",
    "selfFilter = True\n",
    "pre = PreprocessingTabFile(current_path,prev_path,filterFile=filter_file_path,autoFilter = selfFilter,report_folder_name='report',showProgress = True)\n",
    "pre.run()"
   ]
  }
 ],
 "metadata": {},
 "nbformat": 4,
 "nbformat_minor": 2
}
