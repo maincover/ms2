{
 "cells": [
  {
   "cell_type": "markdown",
   "metadata": {},
   "source": [
    "# Preprocessing to detect duplication\n",
    "This is an auto-generated notebook."
   ]
  },
  {
   "cell_type": "code",
   "execution_count": 1,
   "metadata": {},
   "outputs": [
    {
     "name": "stdout",
     "output_type": "stream",
     "text": [
      "Total files length :  800  Filtered files length (after MD5 check) :  13\n",
      "check line duplication(open file) :  50 / 800\n",
      "check line duplication(open file) :  100 / 800\n",
      "check line duplication(open file) :  150 / 800\n",
      "check line duplication(open file) :  200 / 800\n",
      "check line duplication(open file) :  250 / 800\n",
      "check line duplication(open file) :  300 / 800\n",
      "check line duplication(open file) :  350 / 800\n",
      "check line duplication(open file) :  400 / 800\n",
      "check line duplication(open file) :  450 / 800\n",
      "check line duplication(open file) :  500 / 800\n",
      "check line duplication(open file) :  550 / 800\n",
      "check line duplication(open file) :  600 / 800\n",
      "check line duplication(open file) :  650 / 800\n",
      "check line duplication(open file) :  700 / 800\n",
      "check line duplication(open file) :  750 / 800\n",
      "check line duplication(open file) :  800 / 800\n",
      "check line duplication:  0 / 800\n",
      "check line duplication:  50 / 800\n",
      "check line duplication:  100 / 800\n",
      "check line duplication:  150 / 800\n",
      "check line duplication:  200 / 800\n",
      "check line duplication:  250 / 800\n",
      "check line duplication:  300 / 800\n",
      "check line duplication:  350 / 800\n",
      "check line duplication:  400 / 800\n",
      "check line duplication:  450 / 800\n",
      "check line duplication:  500 / 800\n",
      "check line duplication:  550 / 800\n",
      "check line duplication:  600 / 800\n",
      "check line duplication:  650 / 800\n",
      "check line duplication:  700 / 800\n",
      "check line duplication:  750 / 800\n",
      "exclude fn(itself) :  /home/xsong/mg-wt/dataset/MS2 for GitHub Updated 26.05.2019/gspF/MAX_10092018 Position 123-1.tif.mortality.tab\n",
      "exclude fn(itself) :  /home/xsong/mg-wt/dataset/MS2 for GitHub Updated 26.05.2019/gspF/MAX_10092018 Position 124-1.tif.mortality.tab\n",
      "exclude fn(itself) :  /home/xsong/mg-wt/dataset/MS2 for GitHub Updated 26.05.2019/gspF/MAX_10092018 Position 125-1.tif.mortality.tab\n",
      "exclude fn(itself) :  /home/xsong/mg-wt/dataset/MS2 for GitHub Updated 26.05.2019/gspF/MAX_10092018 Position 146-1.tif.mortality.tab\n",
      "exclude fn(itself) :  /home/xsong/mg-wt/dataset/MS2 for GitHub Updated 26.05.2019/gspF/MAX_10092018 Position 147-1.tif.mortality.tab\n",
      "exclude fn(itself) :  /home/xsong/mg-wt/dataset/MS2 for GitHub Updated 26.05.2019/gspF/MAX_10092018 Position 150-1.tif.mortality.tab\n",
      "exclude fn(itself) :  /home/xsong/mg-wt/dataset/MS2 for GitHub Updated 26.05.2019/gspF/MAX_10092018 Position 151-1.tif.mortality.tab\n",
      "exclude fn(itself) :  /home/xsong/mg-wt/dataset/MS2 for GitHub Updated 26.05.2019/gspF/MAX_10092018 Position 191-1.tif.mortality.tab\n",
      "exclude fn(itself) :  /home/xsong/mg-wt/dataset/MS2 for GitHub Updated 26.05.2019/gspF/MAX_10092018 Position 200-1.tif.mortality.tab\n",
      "exclude fn(itself) :  /home/xsong/mg-wt/dataset/MS2 for GitHub Updated 26.05.2019/gspF/MAX_10092018 Position 201-1.tif.mortality.tab\n",
      "exclude fn(itself) :  /home/xsong/mg-wt/dataset/MS2 for GitHub Updated 26.05.2019/gspF/MAX_10092018 Position 202-1.tif.mortality.tab\n",
      "exclude fn(itself) :  /home/xsong/mg-wt/dataset/MS2 for GitHub Updated 26.05.2019/gspF/MAX_10092018 Position 203-1.tif.mortality.tab\n",
      "exclude fn(itself) :  /home/xsong/mg-wt/dataset/MS2 for GitHub Updated 26.05.2019/gspF/MAX_10092018 Position 204-1.tif.mortality.tab\n"
     ]
    }
   ],
   "source": [
    "import sys,os\n",
    "python_class_path='/home/xsong/mg-wt'\n",
    "sys.path.insert(1, os.path.join(sys.path[0], python_class_path))\n",
    "from Preprocessing import PreprocessingTabFile\n",
    "current_path = '/home/xsong/mg-wt/dataset/MS2 for GitHub Updated 26.05.2019/gspF'\n",
    "prev_path = '/home/xsong/coliSurvivalAnalysis/xsong/Microfluidics Database'\n",
    "filter_file_path = ''\n",
    "selfFilter = True\n",
    "pre = PreprocessingTabFile(current_path,prev_path,filterFile=filter_file_path,autoFilter = selfFilter,report_folder_name='report',showProgress = True)\n",
    "pre.run()"
   ]
  }
 ],
 "metadata": {},
 "nbformat": 4,
 "nbformat_minor": 2
}
