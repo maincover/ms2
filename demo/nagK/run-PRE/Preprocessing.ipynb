{
 "cells": [
  {
   "cell_type": "markdown",
   "metadata": {},
   "source": [
    "# Preprocessing to detect duplication\n",
    "This is an auto-generated notebook."
   ]
  },
  {
   "cell_type": "code",
   "execution_count": 1,
   "metadata": {},
   "outputs": [
    {
     "name": "stdout",
     "output_type": "stream",
     "text": [
      "Total files length :  807  Filtered files length (after MD5 check) :  20\n",
      "check line duplication(open file) :  50 / 807\n",
      "check line duplication(open file) :  100 / 807\n",
      "check line duplication(open file) :  150 / 807\n",
      "check line duplication(open file) :  200 / 807\n",
      "check line duplication(open file) :  250 / 807\n",
      "check line duplication(open file) :  300 / 807\n",
      "check line duplication(open file) :  350 / 807\n",
      "check line duplication(open file) :  400 / 807\n",
      "check line duplication(open file) :  450 / 807\n",
      "check line duplication(open file) :  500 / 807\n",
      "check line duplication(open file) :  550 / 807\n",
      "check line duplication(open file) :  600 / 807\n",
      "check line duplication(open file) :  650 / 807\n",
      "check line duplication(open file) :  700 / 807\n",
      "check line duplication(open file) :  750 / 807\n",
      "check line duplication(open file) :  800 / 807\n",
      "check line duplication:  0 / 807\n",
      "check line duplication:  50 / 807\n",
      "check line duplication:  100 / 807\n",
      "check line duplication:  150 / 807\n",
      "check line duplication:  200 / 807\n",
      "check line duplication:  250 / 807\n",
      "check line duplication:  300 / 807\n",
      "check line duplication:  350 / 807\n",
      "check line duplication:  400 / 807\n",
      "check line duplication:  450 / 807\n",
      "check line duplication:  500 / 807\n",
      "check line duplication:  550 / 807\n",
      "check line duplication:  600 / 807\n",
      "check line duplication:  650 / 807\n",
      "check line duplication:  700 / 807\n",
      "check line duplication:  750 / 807\n",
      "exclude fn(itself) :  /home/xsong/mg-wt/dataset/MS2 for GitHub Updated 26.05.2019/nagK/MAX_27022015 Position 21-1.tif.mortality.tab\n",
      "exclude fn(itself) :  /home/xsong/mg-wt/dataset/MS2 for GitHub Updated 26.05.2019/nagK/MAX_27022015 Position 25-1.tif.mortality.tab\n",
      "exclude fn(itself) :  /home/xsong/mg-wt/dataset/MS2 for GitHub Updated 26.05.2019/nagK/MAX_27022015 Position 26-1.tif.mortality.tab\n",
      "exclude fn(itself) :  /home/xsong/mg-wt/dataset/MS2 for GitHub Updated 26.05.2019/nagK/MAX_27022015 Position 27-1.tif.mortality.tab\n",
      "exclude fn(itself) :  /home/xsong/mg-wt/dataset/MS2 for GitHub Updated 26.05.2019/nagK/MAX_27022015 Position 28-1.tif.mortality.tab\n",
      "exclude fn(itself) :  /home/xsong/mg-wt/dataset/MS2 for GitHub Updated 26.05.2019/nagK/MAX_27022015 Position 30-1.tif.mortality.tab\n",
      "exclude fn(itself) :  /home/xsong/mg-wt/dataset/MS2 for GitHub Updated 26.05.2019/nagK/MAX_27022015 Position 31-1.tif.mortality.tab\n",
      "exclude fn(itself) :  /home/xsong/mg-wt/dataset/MS2 for GitHub Updated 26.05.2019/nagK/MAX_27022015 Position 33-1.tif.mortality.tab\n",
      "exclude fn(itself) :  /home/xsong/mg-wt/dataset/MS2 for GitHub Updated 26.05.2019/nagK/MAX_27022015 Position 34-1.tif.mortality.tab\n",
      "exclude fn(itself) :  /home/xsong/mg-wt/dataset/MS2 for GitHub Updated 26.05.2019/nagK/MAX_27022015 Position 35-1.tif.mortality.tab\n",
      "exclude fn(itself) :  /home/xsong/mg-wt/dataset/MS2 for GitHub Updated 26.05.2019/nagK/MAX_27022015 Position 44-1.tif.mortality.tab\n",
      "exclude fn(itself) :  /home/xsong/mg-wt/dataset/MS2 for GitHub Updated 26.05.2019/nagK/MAX_27022015 Position 45-1.tif.mortality.tab\n",
      "exclude fn(itself) :  /home/xsong/mg-wt/dataset/MS2 for GitHub Updated 26.05.2019/nagK/MAX_27022015 Position 46-1.tif.mortality.tab\n",
      "check line duplication:  800 / 807\n",
      "exclude fn(itself) :  /home/xsong/mg-wt/dataset/MS2 for GitHub Updated 26.05.2019/nagK/MAX_27022015 Position 70-1.tif.mortality.tab\n",
      "exclude fn(itself) :  /home/xsong/mg-wt/dataset/MS2 for GitHub Updated 26.05.2019/nagK/MAX_27022015 Position 71-1.tif.mortality.tab\n",
      "exclude fn(itself) :  /home/xsong/mg-wt/dataset/MS2 for GitHub Updated 26.05.2019/nagK/MAX_27022015 Position 72-1.tif.mortality.tab\n",
      "exclude fn(itself) :  /home/xsong/mg-wt/dataset/MS2 for GitHub Updated 26.05.2019/nagK/MAX_27022015 Position 77-1.tif.mortality.tab\n",
      "exclude fn(itself) :  /home/xsong/mg-wt/dataset/MS2 for GitHub Updated 26.05.2019/nagK/MAX_27022015 Position 79-1.tif.mortality.tab\n",
      "exclude fn(itself) :  /home/xsong/mg-wt/dataset/MS2 for GitHub Updated 26.05.2019/nagK/MAX_27022015 Position 83-1.tif.mortality.tab\n",
      "exclude fn(itself) :  /home/xsong/mg-wt/dataset/MS2 for GitHub Updated 26.05.2019/nagK/MAX_27022015 Position 98-1.tif.mortality.tab\n"
     ]
    }
   ],
   "source": [
    "import sys,os\n",
    "python_class_path='/home/xsong/mg-wt'\n",
    "sys.path.insert(1, os.path.join(sys.path[0], python_class_path))\n",
    "from Preprocessing import PreprocessingTabFile\n",
    "current_path = '/home/xsong/mg-wt/dataset/MS2 for GitHub Updated 26.05.2019/nagK'\n",
    "prev_path = '/home/xsong/coliSurvivalAnalysis/xsong/Microfluidics Database'\n",
    "filter_file_path = ''\n",
    "selfFilter = True\n",
    "pre = PreprocessingTabFile(current_path,prev_path,filterFile=filter_file_path,autoFilter = selfFilter,report_folder_name='report',showProgress = True)\n",
    "pre.run()"
   ]
  }
 ],
 "metadata": {},
 "nbformat": 4,
 "nbformat_minor": 2
}
