{
 "cells": [
  {
   "cell_type": "markdown",
   "metadata": {},
   "source": [
    "# Preprocessing to detect duplication\n",
    "This is an auto-generated notebook."
   ]
  },
  {
   "cell_type": "code",
   "execution_count": 1,
   "metadata": {},
   "outputs": [
    {
     "name": "stdout",
     "output_type": "stream",
     "text": [
      "Total files length :  810  Filtered files length (after MD5 check) :  23\n",
      "check line duplication(open file) :  50 / 810\n",
      "check line duplication(open file) :  100 / 810\n",
      "check line duplication(open file) :  150 / 810\n",
      "check line duplication(open file) :  200 / 810\n",
      "check line duplication(open file) :  250 / 810\n",
      "check line duplication(open file) :  300 / 810\n",
      "check line duplication(open file) :  350 / 810\n",
      "check line duplication(open file) :  400 / 810\n",
      "check line duplication(open file) :  450 / 810\n",
      "check line duplication(open file) :  500 / 810\n",
      "check line duplication(open file) :  550 / 810\n",
      "check line duplication(open file) :  600 / 810\n",
      "check line duplication(open file) :  650 / 810\n",
      "check line duplication(open file) :  700 / 810\n",
      "check line duplication(open file) :  750 / 810\n",
      "check line duplication(open file) :  800 / 810\n",
      "check line duplication:  0 / 810\n",
      "check line duplication:  50 / 810\n",
      "check line duplication:  100 / 810\n",
      "check line duplication:  150 / 810\n",
      "check line duplication:  200 / 810\n",
      "check line duplication:  250 / 810\n",
      "check line duplication:  300 / 810\n",
      "check line duplication:  350 / 810\n",
      "check line duplication:  400 / 810\n",
      "check line duplication:  450 / 810\n",
      "check line duplication:  500 / 810\n",
      "check line duplication:  550 / 810\n",
      "check line duplication:  600 / 810\n",
      "check line duplication:  650 / 810\n",
      "check line duplication:  700 / 810\n",
      "check line duplication:  750 / 810\n",
      "exclude fn(itself) :  /home/xsong/mg-wt/dataset/MS 2 Github data part 5/rarD 2/MAX_10012014 Position 110-1.tif.mortality.tab\n",
      "exclude fn(itself) :  /home/xsong/mg-wt/dataset/MS 2 Github data part 5/rarD 2/MAX_10012014 Position 124-1.tif.mortality.tab\n",
      "exclude fn(itself) :  /home/xsong/mg-wt/dataset/MS 2 Github data part 5/rarD 2/MAX_10012014 Position 125-1.tif.mortality.tab\n",
      "exclude fn(itself) :  /home/xsong/mg-wt/dataset/MS 2 Github data part 5/rarD 2/MAX_10012014 Position 126-1.tif.mortality.tab\n",
      "exclude fn(itself) :  /home/xsong/mg-wt/dataset/MS 2 Github data part 5/rarD 2/MAX_10012014 Position 127-1.tif.mortality.tab\n",
      "exclude fn(itself) :  /home/xsong/mg-wt/dataset/MS 2 Github data part 5/rarD 2/MAX_10012014 Position 128-1.tif.mortality.tab\n",
      "exclude fn(itself) :  /home/xsong/mg-wt/dataset/MS 2 Github data part 5/rarD 2/MAX_10012014 Position 20-1.tif.mortality.tab\n",
      "exclude fn(itself) :  /home/xsong/mg-wt/dataset/MS 2 Github data part 5/rarD 2/MAX_10012014 Position 24-1.tif.mortality.tab\n",
      "exclude fn(itself) :  /home/xsong/mg-wt/dataset/MS 2 Github data part 5/rarD 2/MAX_10012014 Position 83-1.tif.mortality.tab\n",
      "exclude fn(itself) :  /home/xsong/mg-wt/dataset/MS 2 Github data part 5/rarD 2/MAX_10012014 Position 84-1.tif.mortality.tab\n",
      "exclude fn(itself) :  /home/xsong/mg-wt/dataset/MS 2 Github data part 5/rarD 2/MAX_10012014 Position 86-1.tif.mortality.tab\n",
      "exclude fn(itself) :  /home/xsong/mg-wt/dataset/MS 2 Github data part 5/rarD 2/MAX_10012014 Position 88-1.tif.mortality.tab\n",
      "exclude fn(itself) :  /home/xsong/mg-wt/dataset/MS 2 Github data part 5/ygcQ 2/MAX_10012014 Position 109-1.tif.mortality.tab\n",
      "check line duplication:  800 / 810\n",
      "exclude fn(itself) :  /home/xsong/mg-wt/dataset/MS 2 Github data part 5/ygcQ 2/MAX_10012014 Position 111-1.tif.mortality.tab\n",
      "exclude fn(itself) :  /home/xsong/mg-wt/dataset/MS 2 Github data part 5/ygcQ 2/MAX_10012014 Position 113-1.tif.mortality.tab\n",
      "exclude fn(itself) :  /home/xsong/mg-wt/dataset/MS 2 Github data part 5/ygcQ 2/MAX_10012014 Position 114-1.tif.mortality.tab\n",
      "exclude fn(itself) :  /home/xsong/mg-wt/dataset/MS 2 Github data part 5/ygcQ 2/MAX_10012014 Position 25-1.tif.mortality.tab\n",
      "exclude fn(itself) :  /home/xsong/mg-wt/dataset/MS 2 Github data part 5/ygcQ 2/MAX_10012014 Position 77-1.tif.mortality.tab\n",
      "exclude fn(itself) :  /home/xsong/mg-wt/dataset/MS 2 Github data part 5/ygcQ 2/MAX_10012014 Position 80-1.tif.mortality.tab\n",
      "exclude fn(itself) :  /home/xsong/mg-wt/dataset/MS 2 Github data part 5/ygcQ 2/MAX_10012014 Position 81-1.tif.mortality.tab\n",
      "exclude fn(itself) :  /home/xsong/mg-wt/dataset/MS 2 Github data part 5/ygcQ 2/MAX_10012014 Position 87-1.tif.mortality.tab\n",
      "exclude fn(itself) :  /home/xsong/mg-wt/dataset/MS 2 Github data part 5/ygcQ 2/MAX_10012014 Position 89-1.tif.mortality.tab\n",
      "exclude fn(itself) :  /home/xsong/mg-wt/dataset/MS 2 Github data part 5/ygcQ 2/MAX_10012014 Position 90-1.tif.mortality.tab\n"
     ]
    }
   ],
   "source": [
    "import sys,os\n",
    "python_class_path='/home/xsong/mg-wt'\n",
    "sys.path.insert(1, os.path.join(sys.path[0], python_class_path))\n",
    "from Preprocessing import PreprocessingTabFile\n",
    "current_path = '/home/xsong/mg-wt/dataset/MS 2 Github data part 5'\n",
    "prev_path = '/home/xsong/coliSurvivalAnalysis/xsong/Microfluidics Database'\n",
    "filter_file_path = ''\n",
    "selfFilter = True\n",
    "pre = PreprocessingTabFile(current_path,prev_path,filterFile=filter_file_path,autoFilter = selfFilter,report_folder_name='report',showProgress = True)\n",
    "pre.run()"
   ]
  }
 ],
 "metadata": {},
 "nbformat": 4,
 "nbformat_minor": 2
}
