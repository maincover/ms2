{
 "cells": [
  {
   "cell_type": "markdown",
   "metadata": {},
   "source": [
    "# Preprocessing to detect duplication\n",
    "This is an auto-generated notebook."
   ]
  },
  {
   "cell_type": "code",
   "execution_count": 1,
   "metadata": {},
   "outputs": [
    {
     "name": "stdout",
     "output_type": "stream",
     "text": [
      "Total files length :  812  Filtered files length (after MD5 check) :  25\n",
      "check line duplication(open file) :  50 / 812\n",
      "check line duplication(open file) :  100 / 812\n",
      "check line duplication(open file) :  150 / 812\n",
      "check line duplication(open file) :  200 / 812\n",
      "check line duplication(open file) :  250 / 812\n",
      "check line duplication(open file) :  300 / 812\n",
      "check line duplication(open file) :  350 / 812\n",
      "check line duplication(open file) :  400 / 812\n",
      "check line duplication(open file) :  450 / 812\n",
      "check line duplication(open file) :  500 / 812\n",
      "check line duplication(open file) :  550 / 812\n",
      "check line duplication(open file) :  600 / 812\n",
      "check line duplication(open file) :  650 / 812\n",
      "check line duplication(open file) :  700 / 812\n",
      "check line duplication(open file) :  750 / 812\n",
      "check line duplication(open file) :  800 / 812\n",
      "check line duplication:  0 / 812\n",
      "check line duplication:  50 / 812\n",
      "check line duplication:  100 / 812\n",
      "check line duplication:  150 / 812\n",
      "check line duplication:  200 / 812\n",
      "check line duplication:  250 / 812\n",
      "check line duplication:  300 / 812\n",
      "check line duplication:  350 / 812\n",
      "check line duplication:  400 / 812\n",
      "check line duplication:  450 / 812\n",
      "check line duplication:  500 / 812\n",
      "check line duplication:  550 / 812\n",
      "check line duplication:  600 / 812\n",
      "check line duplication:  650 / 812\n",
      "check line duplication:  700 / 812\n",
      "check line duplication:  750 / 812\n",
      "exclude fn(itself) :  /home/xsong/mg-wt/dataset/MS2 for GitHub Updated 26.05.2019/yigL/MAX_14112014 Position 10-1.tif.mortality.tab\n",
      "exclude fn(itself) :  /home/xsong/mg-wt/dataset/MS2 for GitHub Updated 26.05.2019/yigL/MAX_14112014 Position 103-1.tif.mortality.tab\n",
      "exclude fn(itself) :  /home/xsong/mg-wt/dataset/MS2 for GitHub Updated 26.05.2019/yigL/MAX_14112014 Position 11-1.tif.mortality.tab\n",
      "exclude fn(itself) :  /home/xsong/mg-wt/dataset/MS2 for GitHub Updated 26.05.2019/yigL/MAX_14112014 Position 12-1.tif.mortality.tab\n",
      "exclude fn(itself) :  /home/xsong/mg-wt/dataset/MS2 for GitHub Updated 26.05.2019/yigL/MAX_14112014 Position 13-1.tif.mortality.tab\n",
      "exclude fn(itself) :  /home/xsong/mg-wt/dataset/MS2 for GitHub Updated 26.05.2019/yigL/MAX_14112014 Position 14-1.tif.mortality.tab\n",
      "exclude fn(itself) :  /home/xsong/mg-wt/dataset/MS2 for GitHub Updated 26.05.2019/yigL/MAX_14112014 Position 15-1.tif.mortality.tab\n",
      "exclude fn(itself) :  /home/xsong/mg-wt/dataset/MS2 for GitHub Updated 26.05.2019/yigL/MAX_14112014 Position 18-1.tif.mortality.tab\n",
      "exclude fn(itself) :  /home/xsong/mg-wt/dataset/MS2 for GitHub Updated 26.05.2019/yigL/MAX_14112014 Position 19-1.tif.mortality.tab\n",
      "exclude fn(itself) :  /home/xsong/mg-wt/dataset/MS2 for GitHub Updated 26.05.2019/yigL/MAX_14112014 Position 20-1.tif.mortality.tab\n",
      "exclude fn(itself) :  /home/xsong/mg-wt/dataset/MS2 for GitHub Updated 26.05.2019/yigL/MAX_14112014 Position 21-1.tif.mortality.tab\n",
      "exclude fn(itself) :  /home/xsong/mg-wt/dataset/MS2 for GitHub Updated 26.05.2019/yigL/MAX_14112014 Position 22-1.tif.mortality.tab\n",
      "exclude fn(itself) :  /home/xsong/mg-wt/dataset/MS2 for GitHub Updated 26.05.2019/yigL/MAX_14112014 Position 23-1.tif.mortality.tab\n",
      "check line duplication:  800 / 812\n",
      "exclude fn(itself) :  /home/xsong/mg-wt/dataset/MS2 for GitHub Updated 26.05.2019/yigL/MAX_14112014 Position 25-1.tif.mortality.tab\n",
      "exclude fn(itself) :  /home/xsong/mg-wt/dataset/MS2 for GitHub Updated 26.05.2019/yigL/MAX_14112014 Position 3-1.tif.mortality.tab\n",
      "exclude fn(itself) :  /home/xsong/mg-wt/dataset/MS2 for GitHub Updated 26.05.2019/yigL/MAX_14112014 Position 31-1.tif.mortality.tab\n",
      "exclude fn(itself) :  /home/xsong/mg-wt/dataset/MS2 for GitHub Updated 26.05.2019/yigL/MAX_14112014 Position 41-1.tif.mortality.tab\n",
      "exclude fn(itself) :  /home/xsong/mg-wt/dataset/MS2 for GitHub Updated 26.05.2019/yigL/MAX_14112014 Position 42-1.tif.mortality.tab\n",
      "exclude fn(itself) :  /home/xsong/mg-wt/dataset/MS2 for GitHub Updated 26.05.2019/yigL/MAX_14112014 Position 6-1.tif.mortality.tab\n",
      "exclude fn(itself) :  /home/xsong/mg-wt/dataset/MS2 for GitHub Updated 26.05.2019/yigL/MAX_14112014 Position 7-1.tif.mortality.tab\n",
      "exclude fn(itself) :  /home/xsong/mg-wt/dataset/MS2 for GitHub Updated 26.05.2019/yigL/MAX_14112014 Position 8-1.tif.mortality.tab\n",
      "exclude fn(itself) :  /home/xsong/mg-wt/dataset/MS2 for GitHub Updated 26.05.2019/yigL/MAX_14112014 Position 9-1.tif.mortality.tab\n",
      "exclude fn(itself) :  /home/xsong/mg-wt/dataset/MS2 for GitHub Updated 26.05.2019/yigL/MAX_14112014 Position 90-1.tif.mortality.tab\n",
      "exclude fn(itself) :  /home/xsong/mg-wt/dataset/MS2 for GitHub Updated 26.05.2019/yigL/MAX_14112014 Position 95-1.tif.mortality.tab\n",
      "exclude fn(itself) :  /home/xsong/mg-wt/dataset/MS2 for GitHub Updated 26.05.2019/yigL/MAX_14112014 Position 99-1.tif.mortality.tab\n"
     ]
    }
   ],
   "source": [
    "import sys,os\n",
    "python_class_path='/home/xsong/mg-wt'\n",
    "sys.path.insert(1, os.path.join(sys.path[0], python_class_path))\n",
    "from Preprocessing import PreprocessingTabFile\n",
    "current_path = '/home/xsong/mg-wt/dataset/MS2 for GitHub Updated 26.05.2019/yigL'\n",
    "prev_path = '/home/xsong/coliSurvivalAnalysis/xsong/Microfluidics Database'\n",
    "filter_file_path = ''\n",
    "selfFilter = True\n",
    "pre = PreprocessingTabFile(current_path,prev_path,filterFile=filter_file_path,autoFilter = selfFilter,report_folder_name='report',showProgress = True)\n",
    "pre.run()"
   ]
  }
 ],
 "metadata": {},
 "nbformat": 4,
 "nbformat_minor": 2
}
