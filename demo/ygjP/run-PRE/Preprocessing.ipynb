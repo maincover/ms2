{
 "cells": [
  {
   "cell_type": "markdown",
   "metadata": {},
   "source": [
    "# Preprocessing to detect duplication\n",
    "This is an auto-generated notebook."
   ]
  },
  {
   "cell_type": "code",
   "execution_count": 1,
   "metadata": {},
   "outputs": [
    {
     "name": "stdout",
     "output_type": "stream",
     "text": [
      "Total files length :  805  Filtered files length (after MD5 check) :  18\n",
      "check line duplication(open file) :  50 / 805\n",
      "check line duplication(open file) :  100 / 805\n",
      "check line duplication(open file) :  150 / 805\n",
      "check line duplication(open file) :  200 / 805\n",
      "check line duplication(open file) :  250 / 805\n",
      "check line duplication(open file) :  300 / 805\n",
      "check line duplication(open file) :  350 / 805\n",
      "check line duplication(open file) :  400 / 805\n",
      "check line duplication(open file) :  450 / 805\n",
      "check line duplication(open file) :  500 / 805\n",
      "check line duplication(open file) :  550 / 805\n",
      "check line duplication(open file) :  600 / 805\n",
      "check line duplication(open file) :  650 / 805\n",
      "check line duplication(open file) :  700 / 805\n",
      "check line duplication(open file) :  750 / 805\n",
      "check line duplication(open file) :  800 / 805\n",
      "check line duplication:  0 / 805\n",
      "check line duplication:  50 / 805\n",
      "check line duplication:  100 / 805\n",
      "check line duplication:  150 / 805\n",
      "check line duplication:  200 / 805\n",
      "check line duplication:  250 / 805\n",
      "check line duplication:  300 / 805\n",
      "check line duplication:  350 / 805\n",
      "check line duplication:  400 / 805\n",
      "check line duplication:  450 / 805\n",
      "check line duplication:  500 / 805\n",
      "check line duplication:  550 / 805\n",
      "check line duplication:  600 / 805\n",
      "check line duplication:  650 / 805\n",
      "check line duplication:  700 / 805\n",
      "check line duplication:  750 / 805\n",
      "exclude fn(itself) :  /home/xsong/mg-wt/dataset/MS2 for GitHub Updated 26.05.2019/ygjP/MAX_25092018 Position 120-1.tif.mortality.tab\n",
      "exclude fn(itself) :  /home/xsong/mg-wt/dataset/MS2 for GitHub Updated 26.05.2019/ygjP/MAX_25092018 Position 122-1.tif.mortality.tab\n",
      "exclude fn(itself) :  /home/xsong/mg-wt/dataset/MS2 for GitHub Updated 26.05.2019/ygjP/MAX_25092018 Position 123-1.tif.mortality.tab\n",
      "exclude fn(itself) :  /home/xsong/mg-wt/dataset/MS2 for GitHub Updated 26.05.2019/ygjP/MAX_25092018 Position 149-1.tif.mortality.tab\n",
      "exclude fn(itself) :  /home/xsong/mg-wt/dataset/MS2 for GitHub Updated 26.05.2019/ygjP/MAX_25092018 Position 150-1.tif.mortality.tab\n",
      "exclude fn(itself) :  /home/xsong/mg-wt/dataset/MS2 for GitHub Updated 26.05.2019/ygjP/MAX_25092018 Position 153-1.tif.mortality.tab\n",
      "exclude fn(itself) :  /home/xsong/mg-wt/dataset/MS2 for GitHub Updated 26.05.2019/ygjP/MAX_25092018 Position 158-1.tif.mortality.tab\n",
      "exclude fn(itself) :  /home/xsong/mg-wt/dataset/MS2 for GitHub Updated 26.05.2019/ygjP/MAX_25092018 Position 168-1.tif.mortality.tab\n",
      "exclude fn(itself) :  /home/xsong/mg-wt/dataset/MS2 for GitHub Updated 26.05.2019/ygjP/MAX_25092018 Position 173-1.tif.mortality.tab\n",
      "exclude fn(itself) :  /home/xsong/mg-wt/dataset/MS2 for GitHub Updated 26.05.2019/ygjP/MAX_25092018 Position 176-1.tif.mortality.tab\n",
      "exclude fn(itself) :  /home/xsong/mg-wt/dataset/MS2 for GitHub Updated 26.05.2019/ygjP/MAX_25092018 Position 179-1.tif.mortality.tab\n",
      "exclude fn(itself) :  /home/xsong/mg-wt/dataset/MS2 for GitHub Updated 26.05.2019/ygjP/MAX_25092018 Position 180-1.tif.mortality.tab\n",
      "exclude fn(itself) :  /home/xsong/mg-wt/dataset/MS2 for GitHub Updated 26.05.2019/ygjP/MAX_25092018 Position 193-1.tif.mortality.tab\n",
      "check line duplication:  800 / 805\n",
      "exclude fn(itself) :  /home/xsong/mg-wt/dataset/MS2 for GitHub Updated 26.05.2019/ygjP/MAX_25092018 Position 196-1.tif.mortality.tab\n",
      "exclude fn(itself) :  /home/xsong/mg-wt/dataset/MS2 for GitHub Updated 26.05.2019/ygjP/MAX_25092018 Position 197-1.tif.mortality.tab\n",
      "exclude fn(itself) :  /home/xsong/mg-wt/dataset/MS2 for GitHub Updated 26.05.2019/ygjP/MAX_25092018 Position 257-1.tif.mortality.tab\n",
      "exclude fn(itself) :  /home/xsong/mg-wt/dataset/MS2 for GitHub Updated 26.05.2019/ygjP/MAX_25092018 Position 262-1.tif.mortality.tab\n",
      "exclude fn(itself) :  /home/xsong/mg-wt/dataset/MS2 for GitHub Updated 26.05.2019/ygjP/MAX_25092018 Position 263-1.tif.mortality.tab\n"
     ]
    }
   ],
   "source": [
    "import sys,os\n",
    "python_class_path='/home/xsong/mg-wt'\n",
    "sys.path.insert(1, os.path.join(sys.path[0], python_class_path))\n",
    "from Preprocessing import PreprocessingTabFile\n",
    "current_path = '/home/xsong/mg-wt/dataset/MS2 for GitHub Updated 26.05.2019/ygjP'\n",
    "prev_path = '/home/xsong/coliSurvivalAnalysis/xsong/Microfluidics Database'\n",
    "filter_file_path = ''\n",
    "selfFilter = True\n",
    "pre = PreprocessingTabFile(current_path,prev_path,filterFile=filter_file_path,autoFilter = selfFilter,report_folder_name='report',showProgress = True)\n",
    "pre.run()"
   ]
  }
 ],
 "metadata": {},
 "nbformat": 4,
 "nbformat_minor": 2
}
