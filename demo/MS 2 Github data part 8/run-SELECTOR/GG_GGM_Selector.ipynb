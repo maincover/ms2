{
 "cells": [
  {
   "cell_type": "markdown",
   "metadata": {},
   "source": [
    "# GG_GGM_SELECTOR Write the result to table\n",
    "    "
   ]
  },
  {
   "cell_type": "code",
   "execution_count": 1,
   "metadata": {},
   "outputs": [
    {
     "name": "stdout",
     "output_type": "stream",
     "text": [
      "create output folder :  /home/xsong/ms2/dataset/MS 2 Github data part 8/GG_GGM_TABLE\n",
      "[['/home/xsong/ms2/dataset/MS 2 Github data part 8/pgi2/CR-TA_pgi2-1_relative_timegrid_cluster0.pickle', '/home/xsong/ms2/dataset/MS 2 Github data part 8/pgi2/CR-TA_pgi2-1_mortality_dataframe_cluster0.pickle', 'CR-TA_pgi2-1_'], ['/home/xsong/ms2/dataset/MS 2 Github data part 8/hslR2/CR-TA_hslR2-1_relative_timegrid_cluster0.pickle', '/home/xsong/ms2/dataset/MS 2 Github data part 8/hslR2/CR-TA_hslR2-1_mortality_dataframe_cluster0.pickle', 'CR-TA_hslR2-1_'], ['/home/xsong/ms2/dataset/MS 2 Github data part 8/ascG2/CR-TA_ascG2-1_relative_timegrid_cluster0.pickle', '/home/xsong/ms2/dataset/MS 2 Github data part 8/ascG2/CR-TA_ascG2-1_mortality_dataframe_cluster0.pickle', 'CR-TA_ascG2-1_'], ['/home/xsong/ms2/dataset/MS 2 Github data part 8/aqpZ2/CR-TA_aqpZ2-1_mortality_dataframe_cluster0.pickle', '/home/xsong/ms2/dataset/MS 2 Github data part 8/aqpZ2/CR-TA_aqpZ2-1_relative_timegrid_cluster0.pickle', 'CR-TA_aqpZ2-1_'], ['/home/xsong/ms2/dataset/MS 2 Github data part 8/uxuR2/CR-TA_uxuR2-1_relative_timegrid_cluster0.pickle', '/home/xsong/ms2/dataset/MS 2 Github data part 8/uxuR2/CR-TA_uxuR2-1_mortality_dataframe_cluster0.pickle', 'CR-TA_uxuR2-1_'], ['/home/xsong/ms2/dataset/MS 2 Github data part 8/yfiD2/CR-TA_yfiD2-1_relative_timegrid_cluster0.pickle', '/home/xsong/ms2/dataset/MS 2 Github data part 8/yfiD2/CR-TA_yfiD2-1_mortality_dataframe_cluster0.pickle', 'CR-TA_yfiD2-1_'], ['/home/xsong/ms2/dataset/MS 2 Github data part 8/uxaB2/CR-TA_uxaB2-1_mortality_dataframe_cluster0.pickle', '/home/xsong/ms2/dataset/MS 2 Github data part 8/uxaB2/CR-TA_uxaB2-1_relative_timegrid_cluster0.pickle', 'CR-TA_uxaB2-1_'], ['/home/xsong/ms2/dataset/MS 2 Github data part 8/ompL2/CR-TA_ompL2-1_mortality_dataframe_cluster0.pickle', '/home/xsong/ms2/dataset/MS 2 Github data part 8/ompL2/CR-TA_ompL2-1_relative_timegrid_cluster0.pickle', 'CR-TA_ompL2-1_']]\n",
      "CR-TA_pgi2-1_\n"
     ]
    },
    {
     "name": "stderr",
     "output_type": "stream",
     "text": [
      "../../../cohortMortalitySummary.py:174: RuntimeWarning: invalid value encountered in divide\n",
      "  NA_lower = NelsonAalen * np.exp( norm.ppf(ALPHA/2)*np.sqrt(NA_var)/NelsonAalen )\n",
      "../../../cohortMortalitySummary.py:175: RuntimeWarning: invalid value encountered in divide\n",
      "  NA_upper = NelsonAalen * np.exp( norm.ppf(1-ALPHA/2)*np.sqrt(NA_var)/NelsonAalen )\n"
     ]
    },
    {
     "name": "stdout",
     "output_type": "stream",
     "text": [
      "----------- /home/xsong/ms2/dataset/MS 2 Github data part 8/GG_GGM_TABLE/CR-TA_pgi2-1_.txt\n",
      "No error in flxsrv_fit\n",
      "34550.1333799\n",
      "17\n",
      "1 ['2016-04-08 00:00:00']\n",
      "No error in flxsrv_fit\n",
      "0.000428209421047 0.993835941204\n",
      "No error in flxsrv_fit\n"
     ]
    },
    {
     "name": "stderr",
     "output_type": "stream",
     "text": [
      "/home/xsong/miniconda2/lib/python2.7/site-packages/rpy2/rinterface/__init__.py:186: RRuntimeWarning: Error in (function (x, B, newdata = NULL, X = NULL, transform = FALSE,  : \n",
      "  Covariance matrix not available from non-converged model\n",
      "\n",
      "  warnings.warn(x, RRuntimeWarning)\n",
      "/home/xsong/miniconda2/lib/python2.7/site-packages/rpy2/rinterface/__init__.py:186: RRuntimeWarning: In addition: \n",
      "  warnings.warn(x, RRuntimeWarning)\n",
      "/home/xsong/miniconda2/lib/python2.7/site-packages/rpy2/rinterface/__init__.py:186: RRuntimeWarning: There were 50 or more warnings (use warnings() to see the first 50)\n",
      "  warnings.warn(x, RRuntimeWarning)\n",
      "/home/xsong/miniconda2/lib/python2.7/site-packages/rpy2/rinterface/__init__.py:186: RRuntimeWarning: \n",
      "\n",
      "  warnings.warn(x, RRuntimeWarning)\n"
     ]
    },
    {
     "name": "stdout",
     "output_type": "stream",
     "text": [
      "\u001b[31m\"ERROR in step ggmStats(df)\"\u001b[0m\n",
      "N/A, choose GGM due to AIC\n",
      "CR-TA_hslR2-1_\n",
      "----------- /home/xsong/ms2/dataset/MS 2 Github data part 8/GG_GGM_TABLE/CR-TA_hslR2-1_.txt\n",
      "No error in flxsrv_fit\n",
      "2829.10326691\n",
      "2\n",
      "1 ['2016-04-08 00:00:00']\n",
      "No error in flxsrv_fit\n",
      "0.715515177852 1.0\n",
      "No error in flxsrv_fit\n",
      "N/A, choose GGM due to AIC\n",
      "CR-TA_ascG2-1_\n",
      "----------- /home/xsong/ms2/dataset/MS 2 Github data part 8/GG_GGM_TABLE/CR-TA_ascG2-1_.txt\n",
      "No error in flxsrv_fit\n",
      "8185.86056755\n",
      "6\n",
      "1 ['2016-04-08 00:00:00']\n",
      "No error in flxsrv_fit\n",
      "0.0371946401825 1.0\n",
      "No error in flxsrv_fit\n",
      "N/A, choose GGM due to AIC\n",
      "CR-TA_aqpZ2-1_\n",
      "----------- /home/xsong/ms2/dataset/MS 2 Github data part 8/GG_GGM_TABLE/CR-TA_aqpZ2-1_.txt\n",
      "No error in flxsrv_fit\n",
      "12181.3310698\n",
      "3\n",
      "1 ['2016-04-08 00:00:00']\n",
      "No error in flxsrv_fit\n",
      "0.401815029038 1.0\n",
      "No error in flxsrv_fit\n",
      "N/A, choose GGM due to AIC\n",
      "CR-TA_uxuR2-1_\n",
      "----------- /home/xsong/ms2/dataset/MS 2 Github data part 8/GG_GGM_TABLE/CR-TA_uxuR2-1_.txt\n",
      "No error in flxsrv_fit\n",
      "6129.76579033\n",
      "2\n",
      "1 ['2016-04-08 00:00:00']\n",
      "No error in flxsrv_fit\n",
      "0.0286229634348 1.0\n",
      "No error in flxsrv_fit\n",
      "N/A, choose GGM due to AIC\n",
      "CR-TA_yfiD2-1_\n",
      "----------- /home/xsong/ms2/dataset/MS 2 Github data part 8/GG_GGM_TABLE/CR-TA_yfiD2-1_.txt\n",
      "No error in flxsrv_fit\n",
      "28289.1171132\n",
      "14\n",
      "1 ['2016-04-08 00:00:00']\n",
      "No error in flxsrv_fit\n",
      "0.0188208703668 0.998826979472\n",
      "No error in flxsrv_fit\n",
      "N/A, choose GGM due to AIC\n",
      "CR-TA_uxaB2-1_\n",
      "----------- /home/xsong/ms2/dataset/MS 2 Github data part 8/GG_GGM_TABLE/CR-TA_uxaB2-1_.txt\n",
      "No error in flxsrv_fit\n",
      "21927.3700317\n",
      "8\n",
      "1 ['2016-04-08 00:00:00']\n",
      "No error in flxsrv_fit\n",
      "0.0377956461463 1.0\n",
      "No error in flxsrv_fit\n",
      "N/A, choose GGM due to AIC\n",
      "CR-TA_ompL2-1_\n",
      "----------- /home/xsong/ms2/dataset/MS 2 Github data part 8/GG_GGM_TABLE/CR-TA_ompL2-1_.txt\n",
      "No error in flxsrv_fit\n",
      "5280.16058909\n",
      "8\n",
      "1 ['2016-04-08 00:00:00']\n",
      "No error in flxsrv_fit\n",
      "0.0229442732568 1.0\n",
      "No error in flxsrv_fit\n",
      "N/A, choose GGM due to AIC\n"
     ]
    }
   ],
   "source": [
    "import sys,os\n",
    "python_class_path='/home/xsong/ms2'\n",
    "sys.path.insert(1, os.path.join(sys.path[0], python_class_path))\n",
    "from Selector_GG_GGM import GG_GGM_Selector\n",
    "data_folder = '/home/xsong/ms2/dataset/MS 2 Github data part 8'\n",
    "out_folder = '/home/xsong/ms2/dataset/MS 2 Github data part 8/GG_GGM_TABLE'\n",
    "gg_ggm_selector = GG_GGM_Selector(data_folder,out_folder)\n",
    "gg_ggm_selector.run()"
   ]
  }
 ],
 "metadata": {},
 "nbformat": 4,
 "nbformat_minor": 2
}
