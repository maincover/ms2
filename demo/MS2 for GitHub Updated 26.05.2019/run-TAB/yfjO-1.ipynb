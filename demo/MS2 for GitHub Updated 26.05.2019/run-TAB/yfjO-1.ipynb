{
 "cells": [
  {
   "cell_type": "markdown",
   "metadata": {},
   "source": [
    "# TAB Analyzer Process (only file filter listed .tab files (existed also in pth) )\n",
    "TabPostAnalyzer.py is should be in the grand parent folder\n",
    "This is an auto-generated notebook."
   ]
  },
  {
   "cell_type": "code",
   "execution_count": null,
   "metadata": {},
   "outputs": [],
   "source": [
    "%matplotlib inline\n",
    "import sys,os\n",
    "python_class_path='/home/xsong/mg-wt'\n",
    "sys.path.insert(1, os.path.join(sys.path[0], python_class_path))\n",
    "from TabPostAnalyzer import TabPostAnalyzer\n",
    "pth='/home/xsong/mg-wt/dataset/MS2 for GitHub Updated 26.05.2019/yfjO'\n",
    "fFn='/home/xsong/mg-wt/dataset/MS2 for GitHub Updated 26.05.2019/report/finalFiles.txt'\n",
    "partial=1\n",
    "pA = TabPostAnalyzer(pth,filterFile=fFn, group=partial)"
   ]
  },
  {
   "cell_type": "code",
   "execution_count": null,
   "metadata": {},
   "outputs": [],
   "source": [
    "step0PlotOriginalFiles = True\n",
    "step1TvReg = False\n",
    "step2Output = False\n",
    "pA.process(step0PlotOriginalFiles, step1TvReg, step2Output)"
   ]
  },
  {
   "cell_type": "code",
   "execution_count": null,
   "metadata": {},
   "outputs": [],
   "source": [
    "step0PlotOriginalFiles = False\n",
    "step1TvReg = True\n",
    "step2Output = False\n",
    "pA.process(step0PlotOriginalFiles, step1TvReg, step2Output)"
   ]
  },
  {
   "cell_type": "code",
   "execution_count": null,
   "metadata": {},
   "outputs": [],
   "source": [
    "pA.denoisePlotAll(asp=0.01,onlyPlot=True)\n",
    "aIndex=130\n",
    "pA.defineAlcoholTime(more=20,aIndex=aIndex)"
   ]
  },
  {
   "cell_type": "code",
   "execution_count": null,
   "metadata": {},
   "outputs": [],
   "source": [
    "step0PlotOriginalFiles = False\n",
    "step1TvReg = False\n",
    "step2Output = True\n",
    "pA.process(step0PlotOriginalFiles, step1TvReg, step2Output)"
   ]
  },
  {
   "cell_type": "code",
   "execution_count": null,
   "metadata": {},
   "outputs": [],
   "source": [
    "pA.plotAllFiles(0.03)"
   ]
  },
  {
   "cell_type": "code",
   "execution_count": null,
   "metadata": {},
   "outputs": [],
   "source": [
    "import pickle\n",
    "f0 = open(os.path.join(pA.path,pA.subfolderName, 'TA_'+pA.saveName+'_df_relative_timegrid.pickle'), 'rb')\n",
    "df_ts = pickle.load(f0)\n",
    "df_ts.checkLength()"
   ]
  }
 ],
 "metadata": {},
 "nbformat": 4,
 "nbformat_minor": 2
}
