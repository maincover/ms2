{
 "cells": [
  {
   "cell_type": "markdown",
   "metadata": {},
   "source": [
    "# GG_GGM_SELECTOR Write the result to table\n",
    "    "
   ]
  },
  {
   "cell_type": "code",
   "execution_count": 2,
   "metadata": {},
   "outputs": [
    {
     "name": "stdout",
     "output_type": "stream",
     "text": [
      "create output folder :  /home/xsong/mg-wt/dataset/test/GG_GGM_TABLE\n",
      "[['/home/xsong/mg-wt/dataset/test/alsB/CR-TA_alsB-1_relative_timegrid_cluster0.pickle', '/home/xsong/mg-wt/dataset/test/alsB/CR-TA_alsB-1_mortality_dataframe_cluster0.pickle', 'CR-TA_alsB-1_']]\n",
      "CR-TA_alsB-1_\n",
      "----------- /home/xsong/mg-wt/dataset/test/GG_GGM_TABLE/CR-TA_alsB-1_.txt\n",
      "No error in flxsrv_fit\n",
      "12044.6674569\n",
      "2\n",
      "1 ['2018-10-18 00:00:00']\n",
      "No error in flxsrv_fit\n",
      "0.158909826893 1.0\n",
      "No error in flxsrv_fit\n",
      "Error in ggParameterStats\n"
     ]
    }
   ],
   "source": [
    "import sys,os\n",
    "python_class_path='/home/xsong/mg-wt'\n",
    "sys.path.insert(1, os.path.join(sys.path[0], python_class_path))\n",
    "from Selector_GG_GGM import GG_GGM_Selector\n",
    "data_folder = '/home/xsong/mg-wt/dataset/MS2 for GitHub Updated 26.05.2019'\n",
    "out_folder = '/home/xsong/mg-wt/dataset/MS2 for GitHub Updated 26.05.2019/GG_GGM_TABLE'\n",
    "gg_ggm_selector = GG_GGM_Selector(data_folder,out_folder)\n",
    "gg_ggm_selector.run()"
   ]
  }
 ],
 "metadata": {
  "kernelspec": {
   "display_name": "Python 2",
   "language": "python",
   "name": "python2"
  },
  "language_info": {
   "codemirror_mode": {
    "name": "ipython",
    "version": 2
   },
   "file_extension": ".py",
   "mimetype": "text/x-python",
   "name": "python",
   "nbconvert_exporter": "python",
   "pygments_lexer": "ipython2",
   "version": "2.7.15"
  }
 },
 "nbformat": 4,
 "nbformat_minor": 2
}
