{
 "cells": [
  {
   "cell_type": "markdown",
   "metadata": {},
   "source": [
    "# Preprocessing to detect duplication\n",
    "This is an auto-generated notebook."
   ]
  },
  {
   "cell_type": "code",
   "execution_count": 1,
   "metadata": {},
   "outputs": [
    {
     "name": "stdout",
     "output_type": "stream",
     "text": [
      "Total files length :  793  Filtered files length (after MD5 check) :  6\n",
      "check line duplication(open file) :  50 / 793\n",
      "check line duplication(open file) :  100 / 793\n",
      "check line duplication(open file) :  150 / 793\n",
      "check line duplication(open file) :  200 / 793\n",
      "check line duplication(open file) :  250 / 793\n",
      "check line duplication(open file) :  300 / 793\n",
      "check line duplication(open file) :  350 / 793\n",
      "check line duplication(open file) :  400 / 793\n",
      "check line duplication(open file) :  450 / 793\n",
      "check line duplication(open file) :  500 / 793\n",
      "check line duplication(open file) :  550 / 793\n",
      "check line duplication(open file) :  600 / 793\n",
      "check line duplication(open file) :  650 / 793\n",
      "check line duplication(open file) :  700 / 793\n",
      "check line duplication(open file) :  750 / 793\n",
      "check line duplication:  0 / 793\n",
      "check line duplication:  50 / 793\n",
      "check line duplication:  100 / 793\n",
      "check line duplication:  150 / 793\n",
      "check line duplication:  200 / 793\n",
      "check line duplication:  250 / 793\n",
      "check line duplication:  300 / 793\n",
      "check line duplication:  350 / 793\n",
      "check line duplication:  400 / 793\n",
      "check line duplication:  450 / 793\n",
      "check line duplication:  500 / 793\n",
      "check line duplication:  550 / 793\n",
      "check line duplication:  600 / 793\n",
      "check line duplication:  650 / 793\n",
      "check line duplication:  700 / 793\n",
      "check line duplication:  750 / 793\n",
      "exclude fn(itself) :  /home/xsong/mg-wt/dataset/MG strains tab/MG appY/02062014 mRFP Position 51 mask.tif.mortality.tab\n",
      "exclude fn(itself) :  /home/xsong/mg-wt/dataset/MG strains tab/MG appY/02062014 mRFP Position 53 mask.tif.mortality.tab\n",
      "exclude fn(itself) :  /home/xsong/mg-wt/dataset/MG strains tab/MG appY/02062014 mRFP Position 55 mask.tif.mortality.tab\n",
      "exclude fn(itself) :  /home/xsong/mg-wt/dataset/MG strains tab/MG appY/02062014 mRFP Position 56 mask.tif.mortality.tab\n",
      "exclude fn(itself) :  /home/xsong/mg-wt/dataset/MG strains tab/MG appY/02062014 mRFP Position 57 mask.tif.mortality.tab\n",
      "exclude fn(itself) :  /home/xsong/mg-wt/dataset/MG strains tab/MG appY/02062014 mRFP Position 58 mask.tif.mortality.tab\n"
     ]
    }
   ],
   "source": [
    "import sys,os\n",
    "python_class_path='/home/xsong/mg-wt'\n",
    "sys.path.insert(1, os.path.join(sys.path[0], python_class_path))\n",
    "from Preprocessing import PreprocessingTabFile\n",
    "current_path = '/home/xsong/mg-wt/dataset/MG strains tab/MG appY'\n",
    "prev_path = '/home/xsong/coliSurvivalAnalysis/xsong/Microfluidics Database'\n",
    "filter_file_path = ''\n",
    "selfFilter = True\n",
    "pre = PreprocessingTabFile(current_path,prev_path,filterFile=filter_file_path,autoFilter = selfFilter,report_folder_name='report',showProgress = True)\n",
    "pre.run()"
   ]
  }
 ],
 "metadata": {},
 "nbformat": 4,
 "nbformat_minor": 2
}
