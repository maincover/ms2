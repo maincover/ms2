{
 "cells": [
  {
   "cell_type": "markdown",
   "metadata": {},
   "source": [
    "# Preprocessing to detect duplication\n",
    "This is an auto-generated notebook."
   ]
  },
  {
   "cell_type": "code",
   "execution_count": 1,
   "metadata": {},
   "outputs": [
    {
     "name": "stdout",
     "output_type": "stream",
     "text": [
      "Total files length :  797  Filtered files length (after MD5 check) :  10\n",
      "check line duplication(open file) :  50 / 797\n",
      "check line duplication(open file) :  100 / 797\n",
      "check line duplication(open file) :  150 / 797\n",
      "check line duplication(open file) :  200 / 797\n",
      "check line duplication(open file) :  250 / 797\n",
      "check line duplication(open file) :  300 / 797\n",
      "check line duplication(open file) :  350 / 797\n",
      "check line duplication(open file) :  400 / 797\n",
      "check line duplication(open file) :  450 / 797\n",
      "check line duplication(open file) :  500 / 797\n",
      "check line duplication(open file) :  550 / 797\n",
      "check line duplication(open file) :  600 / 797\n",
      "check line duplication(open file) :  650 / 797\n",
      "check line duplication(open file) :  700 / 797\n",
      "check line duplication(open file) :  750 / 797\n",
      "check line duplication:  0 / 797\n",
      "check line duplication:  50 / 797\n",
      "check line duplication:  100 / 797\n",
      "check line duplication:  150 / 797\n",
      "check line duplication:  200 / 797\n",
      "check line duplication:  250 / 797\n",
      "check line duplication:  300 / 797\n",
      "check line duplication:  350 / 797\n",
      "check line duplication:  400 / 797\n",
      "check line duplication:  450 / 797\n",
      "check line duplication:  500 / 797\n",
      "check line duplication:  550 / 797\n",
      "check line duplication:  600 / 797\n",
      "check line duplication:  650 / 797\n",
      "check line duplication:  700 / 797\n",
      "check line duplication:  750 / 797\n",
      "exclude fn(itself) :  /home/xsong/mg-wt/dataset/MS2 for GitHub Updated 26.05.2019/flu/MAX_17112015 Position 24-1.tif.mortality.tab\n",
      "exclude fn(itself) :  /home/xsong/mg-wt/dataset/MS2 for GitHub Updated 26.05.2019/flu/MAX_17112015 Position 25-1.tif.mortality.tab\n",
      "exclude fn(itself) :  /home/xsong/mg-wt/dataset/MS2 for GitHub Updated 26.05.2019/flu/MAX_17112015 Position 26-1.tif.mortality.tab\n",
      "exclude fn(itself) :  /home/xsong/mg-wt/dataset/MS2 for GitHub Updated 26.05.2019/flu/MAX_17112015 Position 27-1.tif.mortality.tab\n",
      "exclude fn(itself) :  /home/xsong/mg-wt/dataset/MS2 for GitHub Updated 26.05.2019/flu/MAX_17112015 Position 39-1.tif.mortality.tab\n",
      "exclude fn(itself) :  /home/xsong/mg-wt/dataset/MS2 for GitHub Updated 26.05.2019/flu/MAX_17112015 Position 40-1.tif.mortality.tab\n",
      "exclude fn(itself) :  /home/xsong/mg-wt/dataset/MS2 for GitHub Updated 26.05.2019/flu/MAX_17112015 Position 41-1.tif.mortality.tab\n",
      "exclude fn(itself) :  /home/xsong/mg-wt/dataset/MS2 for GitHub Updated 26.05.2019/flu/MAX_17112015 Position 42-1.tif.mortality.tab\n",
      "exclude fn(itself) :  /home/xsong/mg-wt/dataset/MS2 for GitHub Updated 26.05.2019/flu/MAX_17112015 Position 44-1.tif.mortality.tab\n",
      "exclude fn(itself) :  /home/xsong/mg-wt/dataset/MS2 for GitHub Updated 26.05.2019/flu/MAX_17112015 Position 46-1.tif.mortality.tab\n"
     ]
    }
   ],
   "source": [
    "import sys,os\n",
    "python_class_path='/home/xsong/mg-wt'\n",
    "sys.path.insert(1, os.path.join(sys.path[0], python_class_path))\n",
    "from Preprocessing import PreprocessingTabFile\n",
    "current_path = '/home/xsong/mg-wt/dataset/MS2 for GitHub Updated 26.05.2019/flu'\n",
    "prev_path = '/home/xsong/coliSurvivalAnalysis/xsong/Microfluidics Database'\n",
    "filter_file_path = ''\n",
    "selfFilter = True\n",
    "pre = PreprocessingTabFile(current_path,prev_path,filterFile=filter_file_path,autoFilter = selfFilter,report_folder_name='report',showProgress = True)\n",
    "pre.run()"
   ]
  }
 ],
 "metadata": {
  "kernelspec": {
   "display_name": "Python 2",
   "language": "python",
   "name": "python2"
  },
  "language_info": {
   "codemirror_mode": {
    "name": "ipython",
    "version": 2
   },
   "file_extension": ".py",
   "mimetype": "text/x-python",
   "name": "python",
   "nbconvert_exporter": "python",
   "pygments_lexer": "ipython2",
   "version": "2.7.15"
  }
 },
 "nbformat": 4,
 "nbformat_minor": 2
}
