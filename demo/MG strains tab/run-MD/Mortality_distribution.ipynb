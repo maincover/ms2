{
 "cells": [
  {
   "cell_type": "markdown",
   "metadata": {},
   "source": [
    "# Mortality Distribution, generate mortality curve, compare with reference(WT for example)\n",
    "This is an auto-generated notebook."
   ]
  },
  {
   "cell_type": "code",
   "execution_count": null,
   "metadata": {},
   "outputs": [],
   "source": [
    "%matplotlib inline\n",
    "import sys,os\n",
    "python_class_path='/home/xsong/mg-wt'\n",
    "sys.path.insert(1, os.path.join(sys.path[0], python_class_path))\n",
    "from Mortality_distribution import MortalityDistribution\n",
    "folder_path='/home/xsong/mg-wt/dataset/MG strains tab'\n",
    "ref_df_path = '/home/xsong/mg-wt/dataset/MG-WT/MG_WT_CLUSTER_0_df_relative_timegrid.pickle'\n",
    "M_Distribution = MortalityDistribution(folder_path,ref_df_path)\n",
    "M_Distribution.run()"
   ]
  }
 ],
 "metadata": {},
 "nbformat": 4,
 "nbformat_minor": 2
}
