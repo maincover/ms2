{
 "cells": [
  {
   "cell_type": "markdown",
   "metadata": {},
   "source": [
    "# Preprocessing to detect duplication\n",
    "This is an auto-generated notebook."
   ]
  },
  {
   "cell_type": "code",
   "execution_count": 1,
   "metadata": {},
   "outputs": [
    {
     "name": "stdout",
     "output_type": "stream",
     "text": [
      "Total files length :  808  Filtered files length (after MD5 check) :  21\n",
      "check line duplication(open file) :  50 / 808\n",
      "check line duplication(open file) :  100 / 808\n",
      "check line duplication(open file) :  150 / 808\n",
      "check line duplication(open file) :  200 / 808\n",
      "check line duplication(open file) :  250 / 808\n",
      "check line duplication(open file) :  300 / 808\n",
      "check line duplication(open file) :  350 / 808\n",
      "check line duplication(open file) :  400 / 808\n",
      "check line duplication(open file) :  450 / 808\n",
      "check line duplication(open file) :  500 / 808\n",
      "check line duplication(open file) :  550 / 808\n",
      "check line duplication(open file) :  600 / 808\n",
      "check line duplication(open file) :  650 / 808\n",
      "check line duplication(open file) :  700 / 808\n",
      "check line duplication(open file) :  750 / 808\n",
      "check line duplication(open file) :  800 / 808\n",
      "check line duplication:  0 / 808\n",
      "check line duplication:  50 / 808\n",
      "check line duplication:  100 / 808\n",
      "check line duplication:  150 / 808\n",
      "check line duplication:  200 / 808\n",
      "check line duplication:  250 / 808\n",
      "check line duplication:  300 / 808\n",
      "check line duplication:  350 / 808\n",
      "check line duplication:  400 / 808\n",
      "check line duplication:  450 / 808\n",
      "check line duplication:  500 / 808\n",
      "check line duplication:  550 / 808\n",
      "check line duplication:  600 / 808\n",
      "check line duplication:  650 / 808\n",
      "check line duplication:  700 / 808\n",
      "check line duplication:  750 / 808\n",
      "exclude fn(itself) :  /home/xsong/mg-wt/dataset/MS2 for GitHub Updated 26.05.2019/ynaA/MAX_25092018 Position 174-1.tif.mortality.tab\n",
      "exclude fn(itself) :  /home/xsong/mg-wt/dataset/MS2 for GitHub Updated 26.05.2019/ynaA/MAX_25092018 Position 175-1.tif.mortality.tab\n",
      "exclude fn(itself) :  /home/xsong/mg-wt/dataset/MS2 for GitHub Updated 26.05.2019/ynaA/MAX_25092018 Position 181-1.tif.mortality.tab\n",
      "exclude fn(itself) :  /home/xsong/mg-wt/dataset/MS2 for GitHub Updated 26.05.2019/ynaA/MAX_25092018 Position 187-1.tif.mortality.tab\n",
      "exclude fn(itself) :  /home/xsong/mg-wt/dataset/MS2 for GitHub Updated 26.05.2019/ynaA/MAX_25092018 Position 206-1.tif.mortality.tab\n",
      "exclude fn(itself) :  /home/xsong/mg-wt/dataset/MS2 for GitHub Updated 26.05.2019/ynaA/MAX_25092018 Position 207-1.tif.mortality.tab\n",
      "exclude fn(itself) :  /home/xsong/mg-wt/dataset/MS2 for GitHub Updated 26.05.2019/ynaA/MAX_25092018 Position 208-1.tif.mortality.tab\n",
      "exclude fn(itself) :  /home/xsong/mg-wt/dataset/MS2 for GitHub Updated 26.05.2019/ynaA/MAX_25092018 Position 209-1.tif.mortality.tab\n",
      "exclude fn(itself) :  /home/xsong/mg-wt/dataset/MS2 for GitHub Updated 26.05.2019/ynaA/MAX_25092018 Position 218-1.tif.mortality.tab\n",
      "exclude fn(itself) :  /home/xsong/mg-wt/dataset/MS2 for GitHub Updated 26.05.2019/ynaA/MAX_25092018 Position 223-1.tif.mortality.tab\n",
      "exclude fn(itself) :  /home/xsong/mg-wt/dataset/MS2 for GitHub Updated 26.05.2019/ynaA/MAX_25092018 Position 224-1.tif.mortality.tab\n",
      "exclude fn(itself) :  /home/xsong/mg-wt/dataset/MS2 for GitHub Updated 26.05.2019/ynaA/MAX_25092018 Position 226-1.tif.mortality.tab\n",
      "exclude fn(itself) :  /home/xsong/mg-wt/dataset/MS2 for GitHub Updated 26.05.2019/ynaA/MAX_25092018 Position 227-1.tif.mortality.tab\n",
      "check line duplication:  800 / 808\n",
      "exclude fn(itself) :  /home/xsong/mg-wt/dataset/MS2 for GitHub Updated 26.05.2019/ynaA/MAX_25092018 Position 240-1.tif.mortality.tab\n",
      "exclude fn(itself) :  /home/xsong/mg-wt/dataset/MS2 for GitHub Updated 26.05.2019/ynaA/MAX_25092018 Position 241-1.tif.mortality.tab\n",
      "exclude fn(itself) :  /home/xsong/mg-wt/dataset/MS2 for GitHub Updated 26.05.2019/ynaA/MAX_25092018 Position 258-1.tif.mortality.tab\n",
      "exclude fn(itself) :  /home/xsong/mg-wt/dataset/MS2 for GitHub Updated 26.05.2019/ynaA/MAX_25092018 Position 267-1.tif.mortality.tab\n",
      "exclude fn(itself) :  /home/xsong/mg-wt/dataset/MS2 for GitHub Updated 26.05.2019/ynaA/MAX_25092018 Position 268-1.tif.mortality.tab\n",
      "exclude fn(itself) :  /home/xsong/mg-wt/dataset/MS2 for GitHub Updated 26.05.2019/ynaA/MAX_25092018 Position 273-1.tif.mortality.tab\n",
      "exclude fn(itself) :  /home/xsong/mg-wt/dataset/MS2 for GitHub Updated 26.05.2019/ynaA/MAX_25092018 Position 7-1.tif.mortality.tab\n",
      "exclude fn(itself) :  /home/xsong/mg-wt/dataset/MS2 for GitHub Updated 26.05.2019/ynaA/MAX_25092018 Position 8-1.tif.mortality.tab\n"
     ]
    }
   ],
   "source": [
    "import sys,os\n",
    "python_class_path='/home/xsong/mg-wt'\n",
    "sys.path.insert(1, os.path.join(sys.path[0], python_class_path))\n",
    "from Preprocessing import PreprocessingTabFile\n",
    "current_path = '/home/xsong/mg-wt/dataset/MS2 for GitHub Updated 26.05.2019/ynaA'\n",
    "prev_path = '/home/xsong/coliSurvivalAnalysis/xsong/Microfluidics Database'\n",
    "filter_file_path = ''\n",
    "selfFilter = True\n",
    "pre = PreprocessingTabFile(current_path,prev_path,filterFile=filter_file_path,autoFilter = selfFilter,report_folder_name='report',showProgress = True)\n",
    "pre.run()"
   ]
  }
 ],
 "metadata": {},
 "nbformat": 4,
 "nbformat_minor": 2
}
