{
 "cells": [
  {
   "cell_type": "markdown",
   "metadata": {},
   "source": [
    "# Preprocessing to detect duplication\n",
    "This is an auto-generated notebook."
   ]
  },
  {
   "cell_type": "code",
   "execution_count": 1,
   "metadata": {},
   "outputs": [
    {
     "name": "stdout",
     "output_type": "stream",
     "text": [
      "Total files length :  808  Filtered files length (after MD5 check) :  21\n",
      "check line duplication(open file) :  50 / 808\n",
      "check line duplication(open file) :  100 / 808\n",
      "check line duplication(open file) :  150 / 808\n",
      "check line duplication(open file) :  200 / 808\n",
      "check line duplication(open file) :  250 / 808\n",
      "check line duplication(open file) :  300 / 808\n",
      "check line duplication(open file) :  350 / 808\n",
      "check line duplication(open file) :  400 / 808\n",
      "check line duplication(open file) :  450 / 808\n",
      "check line duplication(open file) :  500 / 808\n",
      "check line duplication(open file) :  550 / 808\n",
      "check line duplication(open file) :  600 / 808\n",
      "check line duplication(open file) :  650 / 808\n",
      "check line duplication(open file) :  700 / 808\n",
      "check line duplication(open file) :  750 / 808\n",
      "check line duplication(open file) :  800 / 808\n",
      "check line duplication:  0 / 808\n",
      "check line duplication:  50 / 808\n",
      "check line duplication:  100 / 808\n",
      "check line duplication:  150 / 808\n",
      "check line duplication:  200 / 808\n",
      "check line duplication:  250 / 808\n",
      "check line duplication:  300 / 808\n",
      "check line duplication:  350 / 808\n",
      "check line duplication:  400 / 808\n",
      "check line duplication:  450 / 808\n",
      "check line duplication:  500 / 808\n",
      "check line duplication:  550 / 808\n",
      "check line duplication:  600 / 808\n",
      "check line duplication:  650 / 808\n",
      "check line duplication:  700 / 808\n",
      "check line duplication:  750 / 808\n",
      "exclude fn(itself) :  /home/xsong/mg-wt/dataset/MS2 for GitHub Updated 26.05.2019/sspA/MAX_06082014 Position 120-1.tif.mortality.tab\n",
      "exclude fn(itself) :  /home/xsong/mg-wt/dataset/MS2 for GitHub Updated 26.05.2019/sspA/MAX_06082014 Position 36-1.tif.mortality.tab\n",
      "exclude fn(itself) :  /home/xsong/mg-wt/dataset/MS2 for GitHub Updated 26.05.2019/sspA/MAX_06082014 Position 37-1.tif.mortality.tab\n",
      "exclude fn(itself) :  /home/xsong/mg-wt/dataset/MS2 for GitHub Updated 26.05.2019/sspA/MAX_06082014 Position 38-1.tif.mortality.tab\n",
      "exclude fn(itself) :  /home/xsong/mg-wt/dataset/MS2 for GitHub Updated 26.05.2019/sspA/MAX_06082014 Position 39-1.tif.mortality.tab\n",
      "exclude fn(itself) :  /home/xsong/mg-wt/dataset/MS2 for GitHub Updated 26.05.2019/sspA/MAX_06082014 Position 40-1.tif.mortality.tab\n",
      "exclude fn(itself) :  /home/xsong/mg-wt/dataset/MS2 for GitHub Updated 26.05.2019/sspA/MAX_06082014 Position 41-1.tif.mortality.tab\n",
      "exclude fn(itself) :  /home/xsong/mg-wt/dataset/MS2 for GitHub Updated 26.05.2019/sspA/MAX_06082014 Position 45-1.tif.mortality.tab\n",
      "exclude fn(itself) :  /home/xsong/mg-wt/dataset/MS2 for GitHub Updated 26.05.2019/sspA/MAX_06082014 Position 46-1.tif.mortality.tab\n",
      "exclude fn(itself) :  /home/xsong/mg-wt/dataset/MS2 for GitHub Updated 26.05.2019/sspA/MAX_06082014 Position 48-1.tif.mortality.tab\n",
      "exclude fn(itself) :  /home/xsong/mg-wt/dataset/MS2 for GitHub Updated 26.05.2019/sspA/MAX_06082014 Position 49-1.tif.mortality.tab\n",
      "exclude fn(itself) :  /home/xsong/mg-wt/dataset/MS2 for GitHub Updated 26.05.2019/sspA/MAX_06082014 Position 51-1.tif.mortality.tab\n",
      "exclude fn(itself) :  /home/xsong/mg-wt/dataset/MS2 for GitHub Updated 26.05.2019/sspA/MAX_06082014 Position 52-1.tif.mortality.tab\n",
      "check line duplication:  800 / 808\n",
      "exclude fn(itself) :  /home/xsong/mg-wt/dataset/MS2 for GitHub Updated 26.05.2019/sspA/MAX_06082014 Position 53-1.tif.mortality.tab\n",
      "exclude fn(itself) :  /home/xsong/mg-wt/dataset/MS2 for GitHub Updated 26.05.2019/sspA/MAX_06082014 Position 54-1.tif.mortality.tab\n",
      "exclude fn(itself) :  /home/xsong/mg-wt/dataset/MS2 for GitHub Updated 26.05.2019/sspA/MAX_06082014 Position 58-1.tif.mortality.tab\n",
      "exclude fn(itself) :  /home/xsong/mg-wt/dataset/MS2 for GitHub Updated 26.05.2019/sspA/MAX_06082014 Position 75-1.tif.mortality.tab\n",
      "exclude fn(itself) :  /home/xsong/mg-wt/dataset/MS2 for GitHub Updated 26.05.2019/sspA/MAX_06082014 Position 86-1.tif.mortality.tab\n",
      "exclude fn(itself) :  /home/xsong/mg-wt/dataset/MS2 for GitHub Updated 26.05.2019/sspA/MAX_06082014 Position 87-1.tif.mortality.tab\n",
      "exclude fn(itself) :  /home/xsong/mg-wt/dataset/MS2 for GitHub Updated 26.05.2019/sspA/MAX_06082014 Position 88-1.tif.mortality.tab\n",
      "exclude fn(itself) :  /home/xsong/mg-wt/dataset/MS2 for GitHub Updated 26.05.2019/sspA/MAX_06082014 Position 90-1.tif.mortality.tab\n"
     ]
    }
   ],
   "source": [
    "import sys,os\n",
    "python_class_path='/home/xsong/mg-wt'\n",
    "sys.path.insert(1, os.path.join(sys.path[0], python_class_path))\n",
    "from Preprocessing import PreprocessingTabFile\n",
    "current_path = '/home/xsong/mg-wt/dataset/MS2 for GitHub Updated 26.05.2019/sspA'\n",
    "prev_path = '/home/xsong/coliSurvivalAnalysis/xsong/Microfluidics Database'\n",
    "filter_file_path = ''\n",
    "selfFilter = True\n",
    "pre = PreprocessingTabFile(current_path,prev_path,filterFile=filter_file_path,autoFilter = selfFilter,report_folder_name='report',showProgress = True)\n",
    "pre.run()"
   ]
  }
 ],
 "metadata": {},
 "nbformat": 4,
 "nbformat_minor": 2
}
