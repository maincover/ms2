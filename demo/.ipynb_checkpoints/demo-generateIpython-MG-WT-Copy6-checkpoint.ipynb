{
 "cells": [
  {
   "cell_type": "code",
   "execution_count": 1,
   "metadata": {},
   "outputs": [
    {
     "name": "stdout",
     "output_type": "stream",
     "text": [
      "data path (abs) :  /home/xsong/mg-wt/dataset/MS 2 GitHub data part 4/syd 2\n",
      "res_folder path (abs output) :  /home/xsong/mg-wt/demo/syd 2\n",
      "prev_path (abs) :  /home/xsong/coliSurvivalAnalysis/xsong/Microfluidics Database\n",
      "python class path (abs) :  /home/xsong/mg-wt\n"
     ]
    }
   ],
   "source": [
    "import sys,os\n",
    "sys.path.insert(1, os.path.join(sys.path[0], '..'))\n",
    "from IPython_generator import IPythonNotebookGenerator\n",
    "current_path = '../dataset/MS 2 GitHub data part 4/syd 2'\n",
    "path_ext = os.path.split(current_path)[1]\n",
    "current_path = os.path.abspath(current_path)\n",
    "print 'data path (abs) : ', current_path\n",
    "res_folder = os.path.join('./',path_ext)\n",
    "res_folder = os.path.abspath(res_folder)\n",
    "print 'res_folder path (abs output) : ', res_folder\n",
    "prev_path='/home/xsong/coliSurvivalAnalysis/xsong/Microfluidics Database/'\n",
    "prev_path = os.path.abspath(prev_path)\n",
    "print \"prev_path (abs) : \", prev_path\n",
    "python_class_path = \"../\"\n",
    "python_class_path = os.path.abspath(python_class_path)\n",
    "print \"python class path (abs) : \", python_class_path\n",
    "alcohol_time = \"105\"\n",
    "cutoff=\"CheckReplication.cutoff31\"\n",
    "cutoff=\"-1\"\n",
    "\n",
    "use_mg_wt = True\n",
    "if use_mg_wt:\n",
    "    MG_WT_path = '../dataset/MG-WT'\n",
    "    MG_WT_path = os.path.abspath(MG_WT_path)"
   ]
  },
  {
   "cell_type": "markdown",
   "metadata": {},
   "source": [
    "# Preprocessing, check file duplication, generate new list"
   ]
  },
  {
   "cell_type": "code",
   "execution_count": 2,
   "metadata": {},
   "outputs": [],
   "source": [
    "#---Demo---Preprocessing auto generator and execution, modify the generated code to meet your needs\n",
    "#Veryfy inside the code, the good paths are set for the current dataset and prev dataset\n",
    "oPath = os.path.join(res_folder,'run-PRE')\n",
    "filter_file_path =''#'/Users/songxiaohu/Desktop/githubYfan/PIMortalityAnalysis/xsong/Microfluidics Database/No_dup_finalList_division.txt'\n",
    "selfFilter = 'True'\n",
    "IPythonNotebookGenerator.run_PRE(python_class_path,oPath, current_path,prev_path, filter_file_path, selfFilter)"
   ]
  },
  {
   "cell_type": "code",
   "execution_count": 3,
   "metadata": {},
   "outputs": [
    {
     "name": "stdout",
     "output_type": "stream",
     "text": [
      "---Execute ipython code---\n",
      "--Execute--  /home/xsong/mg-wt/demo/syd 2/run-PRE/Preprocessing.ipynb\n"
     ]
    }
   ],
   "source": [
    "IPythonNotebookGenerator.execute(oPath)"
   ]
  },
  {
   "cell_type": "markdown",
   "metadata": {},
   "source": [
    "# .tab files in replicate group in finalFiles.txt TAB Analyzer"
   ]
  },
  {
   "cell_type": "code",
   "execution_count": 4,
   "metadata": {},
   "outputs": [
    {
     "name": "stdout",
     "output_type": "stream",
     "text": [
      "Initialization of Ipython auto generator\n",
      "---Ipython code generation process---\n",
      "/home/xsong/mg-wt/demo/syd 2/run-TAB/WT-1.ipynb\n",
      "/home/xsong/mg-wt/demo/syd 2/run-TAB/abgR-1.ipynb\n",
      "/home/xsong/mg-wt/demo/syd 2/run-TAB/aceF-1.ipynb\n",
      "/home/xsong/mg-wt/demo/syd 2/run-TAB/agaR-1.ipynb\n",
      "/home/xsong/mg-wt/demo/syd 2/run-TAB/agaV_new-1.ipynb\n",
      "remove file :  /home/xsong/coliSurvivalAnalysis/xsong/Microfluidics Database/alsB/TA_alsB-1_colomap_by_files.png\n",
      "/home/xsong/mg-wt/demo/syd 2/run-TAB/alsB-1.ipynb\n",
      "/home/xsong/mg-wt/demo/syd 2/run-TAB/appY-1.ipynb\n",
      "/home/xsong/mg-wt/demo/syd 2/run-TAB/aqpZ-1.ipynb\n",
      "/home/xsong/mg-wt/demo/syd 2/run-TAB/ascG-1.ipynb\n",
      "/home/xsong/mg-wt/demo/syd 2/run-TAB/barA_new-1.ipynb\n",
      "/home/xsong/mg-wt/demo/syd 2/run-TAB/bipA-1.ipynb\n",
      "/home/xsong/mg-wt/demo/syd 2/run-TAB/brnQ_new-1.ipynb\n",
      "/home/xsong/mg-wt/demo/syd 2/run-TAB/caiT-1.ipynb\n",
      "/home/xsong/mg-wt/demo/syd 2/run-TAB/caiT_new-1.ipynb\n",
      "/home/xsong/mg-wt/demo/syd 2/run-TAB/crcA-1.ipynb\n",
      "/home/xsong/mg-wt/demo/syd 2/run-TAB/cynX-1.ipynb\n",
      "/home/xsong/mg-wt/demo/syd 2/run-TAB/dnaT_new-1.ipynb\n",
      "/home/xsong/mg-wt/demo/syd 2/run-TAB/eptB-1.ipynb\n",
      "/home/xsong/mg-wt/demo/syd 2/run-TAB/fepG-1.ipynb\n",
      "/home/xsong/mg-wt/demo/syd 2/run-TAB/fkpA-1.ipynb\n",
      "/home/xsong/mg-wt/demo/syd 2/run-TAB/hchA-1.ipynb\n",
      "/home/xsong/mg-wt/demo/syd 2/run-TAB/hns-1.ipynb\n",
      "/home/xsong/mg-wt/demo/syd 2/run-TAB/kdpF_new-1.ipynb\n",
      "/home/xsong/mg-wt/demo/syd 2/run-TAB/lipA-1.ipynb\n",
      "/home/xsong/mg-wt/demo/syd 2/run-TAB/lipB-1.ipynb\n",
      "/home/xsong/mg-wt/demo/syd 2/run-TAB/lpd-1.ipynb\n",
      "/home/xsong/mg-wt/demo/syd 2/run-TAB/moaE-1.ipynb\n",
      "/home/xsong/mg-wt/demo/syd 2/run-TAB/ompL_new-1.ipynb\n",
      "/home/xsong/mg-wt/demo/syd 2/run-TAB/pfkA-1.ipynb\n",
      "/home/xsong/mg-wt/demo/syd 2/run-TAB/pgi-1.ipynb\n",
      "/home/xsong/mg-wt/demo/syd 2/run-TAB/pnp-1.ipynb\n",
      "/home/xsong/mg-wt/demo/syd 2/run-TAB/pspB-1.ipynb\n",
      "/home/xsong/mg-wt/demo/syd 2/run-TAB/ptsH-1.ipynb\n",
      "/home/xsong/mg-wt/demo/syd 2/run-TAB/puuB-1.ipynb\n",
      "/home/xsong/mg-wt/demo/syd 2/run-TAB/recF-1.ipynb\n",
      "/home/xsong/mg-wt/demo/syd 2/run-TAB/rsxC-1.ipynb\n",
      "/home/xsong/mg-wt/demo/syd 2/run-TAB/sspA-1.ipynb\n",
      "/home/xsong/mg-wt/demo/syd 2/run-TAB/thiQ_new-1.ipynb\n",
      "/home/xsong/mg-wt/demo/syd 2/run-TAB/treC-1.ipynb\n",
      "/home/xsong/mg-wt/demo/syd 2/run-TAB/unidentified-1.ipynb\n",
      "/home/xsong/mg-wt/demo/syd 2/run-TAB/uxaB_new-1.ipynb\n",
      "/home/xsong/mg-wt/demo/syd 2/run-TAB/wcaM_new-1.ipynb\n",
      "/home/xsong/mg-wt/demo/syd 2/run-TAB/yafX-1.ipynb\n",
      "/home/xsong/mg-wt/demo/syd 2/run-TAB/yagS-1.ipynb\n",
      "/home/xsong/mg-wt/demo/syd 2/run-TAB/ycaL-1.ipynb\n",
      "/home/xsong/mg-wt/demo/syd 2/run-TAB/ychF-1.ipynb\n",
      "/home/xsong/mg-wt/demo/syd 2/run-TAB/ydcY-1.ipynb\n",
      "/home/xsong/mg-wt/demo/syd 2/run-TAB/yecI-1.ipynb\n",
      "/home/xsong/mg-wt/demo/syd 2/run-TAB/yecP-1.ipynb\n",
      "/home/xsong/mg-wt/demo/syd 2/run-TAB/yehY-1.ipynb\n",
      "/home/xsong/mg-wt/demo/syd 2/run-TAB/yfiD_new-1.ipynb\n",
      "/home/xsong/mg-wt/demo/syd 2/run-TAB/yggJ-1.ipynb\n",
      "/home/xsong/mg-wt/demo/syd 2/run-TAB/yigL-1.ipynb\n",
      "/home/xsong/mg-wt/demo/syd 2/run-TAB/yihS_new-1.ipynb\n",
      "/home/xsong/mg-wt/demo/syd 2/run-TAB/yjeB-1.ipynb\n",
      "/home/xsong/mg-wt/demo/syd 2/run-TAB/yjgH-1.ipynb\n",
      "/home/xsong/mg-wt/demo/syd 2/run-TAB/yjhG-1.ipynb\n",
      "/home/xsong/mg-wt/demo/syd 2/run-TAB/ykfF-1.ipynb\n",
      "/home/xsong/mg-wt/demo/syd 2/run-TAB/ytfH_new-1.ipynb\n"
     ]
    }
   ],
   "source": [
    "#---Demo--- TAB processing auto generator and execution\n",
    "#data_path = '/Users/songxiaohu/Desktop/githubYfan/PIMortalityAnalysis/xsong/Microfluidics New Data'\n",
    "filter_path = os.path.join(current_path+'/'+'report','finalFiles.txt')#'/Users/songxiaohu/Desktop/githubYfan/PIMortalityAnalysis/xsong/main/test dataset/new data ana/report/finalFiles.txt'\n",
    "oPath = os.path.join(res_folder,'run-TAB')\n",
    "nbGenerator = IPythonNotebookGenerator(filterPath=filter_path,outputPath=oPath)\n",
    "#fFn_parent_path for non relative path in the filter file path\n",
    "fFn_parent_path=current_path#'/Users/songxiaohu/Desktop/githubYfan/PIMortalityAnalysis/xsong/Microfluidics Database' \n",
    "nbGenerator.run_TAB_PIP(python_class_path,alcohol_time,fFn_parent_path)"
   ]
  },
  {
   "cell_type": "code",
   "execution_count": 5,
   "metadata": {},
   "outputs": [
    {
     "name": "stdout",
     "output_type": "stream",
     "text": [
      "---Execute ipython code---\n",
      "--Execute--  /home/xsong/mg-wt/demo/syd 2/run-TAB/alsB-1.ipynb\n",
      "--Execute--  /home/xsong/mg-wt/demo/syd 2/run-TAB/yecP-1.ipynb\n",
      "--Execute--  /home/xsong/mg-wt/demo/syd 2/run-TAB/hchA-1.ipynb\n",
      "--Execute--  /home/xsong/mg-wt/demo/syd 2/run-TAB/bipA-1.ipynb\n",
      "--Execute--  /home/xsong/mg-wt/demo/syd 2/run-TAB/fepG-1.ipynb\n",
      "--Execute--  /home/xsong/mg-wt/demo/syd 2/run-TAB/crcA-1.ipynb\n",
      "--Execute--  /home/xsong/mg-wt/demo/syd 2/run-TAB/yjhG-1.ipynb\n",
      "--Execute--  /home/xsong/mg-wt/demo/syd 2/run-TAB/ytfH_new-1.ipynb\n",
      "--Execute--  /home/xsong/mg-wt/demo/syd 2/run-TAB/yjeB-1.ipynb\n",
      "--Execute--  /home/xsong/mg-wt/demo/syd 2/run-TAB/ydcY-1.ipynb\n",
      "--Execute--  /home/xsong/mg-wt/demo/syd 2/run-TAB/cynX-1.ipynb\n",
      "--Execute--  /home/xsong/mg-wt/demo/syd 2/run-TAB/yjgH-1.ipynb\n",
      "--Execute--  /home/xsong/mg-wt/demo/syd 2/run-TAB/wcaM_new-1.ipynb\n",
      "--Execute--  /home/xsong/mg-wt/demo/syd 2/run-TAB/eptB-1.ipynb\n",
      "--Execute--  /home/xsong/mg-wt/demo/syd 2/run-TAB/caiT_new-1.ipynb\n",
      "--Execute--  /home/xsong/mg-wt/demo/syd 2/run-TAB/dnaT_new-1.ipynb\n",
      "--Execute--  /home/xsong/mg-wt/demo/syd 2/run-TAB/yecI-1.ipynb\n",
      "--Execute--  /home/xsong/mg-wt/demo/syd 2/run-TAB/caiT-1.ipynb\n",
      "--Execute--  /home/xsong/mg-wt/demo/syd 2/run-TAB/yagS-1.ipynb\n",
      "--Execute--  /home/xsong/mg-wt/demo/syd 2/run-TAB/yfiD_new-1.ipynb\n",
      "--Execute--  /home/xsong/mg-wt/demo/syd 2/run-TAB/puuB-1.ipynb\n",
      "--Execute--  /home/xsong/mg-wt/demo/syd 2/run-TAB/yehY-1.ipynb\n",
      "--Execute--  /home/xsong/mg-wt/demo/syd 2/run-TAB/barA_new-1.ipynb\n",
      "--Execute--  /home/xsong/mg-wt/demo/syd 2/run-TAB/WT-1.ipynb\n",
      "--Execute--  /home/xsong/mg-wt/demo/syd 2/run-TAB/treC-1.ipynb\n",
      "--Execute--  /home/xsong/mg-wt/demo/syd 2/run-TAB/lipA-1.ipynb\n",
      "--Execute--  /home/xsong/mg-wt/demo/syd 2/run-TAB/abgR-1.ipynb\n",
      "--Execute--  /home/xsong/mg-wt/demo/syd 2/run-TAB/ptsH-1.ipynb\n",
      "--Execute--  /home/xsong/mg-wt/demo/syd 2/run-TAB/fkpA-1.ipynb\n",
      "--Execute--  /home/xsong/mg-wt/demo/syd 2/run-TAB/ycaL-1.ipynb\n",
      "--Execute--  /home/xsong/mg-wt/demo/syd 2/run-TAB/brnQ_new-1.ipynb\n",
      "--Execute--  /home/xsong/mg-wt/demo/syd 2/run-TAB/yafX-1.ipynb\n",
      "--Execute--  /home/xsong/mg-wt/demo/syd 2/run-TAB/appY-1.ipynb\n",
      "--Execute--  /home/xsong/mg-wt/demo/syd 2/run-TAB/yigL-1.ipynb\n",
      "--Execute--  /home/xsong/mg-wt/demo/syd 2/run-TAB/aqpZ-1.ipynb\n",
      "--Execute--  /home/xsong/mg-wt/demo/syd 2/run-TAB/ascG-1.ipynb\n",
      "--Execute--  /home/xsong/mg-wt/demo/syd 2/run-TAB/unidentified-1.ipynb\n",
      "--Execute--  /home/xsong/mg-wt/demo/syd 2/run-TAB/recF-1.ipynb\n",
      "--Execute--  /home/xsong/mg-wt/demo/syd 2/run-TAB/moaE-1.ipynb\n",
      "--Execute--  /home/xsong/mg-wt/demo/syd 2/run-TAB/ykfF-1.ipynb\n",
      "--Execute--  /home/xsong/mg-wt/demo/syd 2/run-TAB/hns-1.ipynb\n",
      "--Execute--  /home/xsong/mg-wt/demo/syd 2/run-TAB/sspA-1.ipynb\n",
      "--Execute--  /home/xsong/mg-wt/demo/syd 2/run-TAB/pnp-1.ipynb\n",
      "--Execute--  /home/xsong/mg-wt/demo/syd 2/run-TAB/yihS_new-1.ipynb\n",
      "--Execute--  /home/xsong/mg-wt/demo/syd 2/run-TAB/syd 2-1.ipynb\n"
     ]
    },
    {
     "ename": "CalledProcessError",
     "evalue": "Command '['jupyter', 'nbconvert', '--execute', '--inplace', '--ExecutePreprocessor.timeout=-1', '/home/xsong/mg-wt/demo/syd 2/run-TAB/syd 2-1.ipynb']' returned non-zero exit status 1",
     "output_type": "error",
     "traceback": [
      "\u001b[0;31m---------------------------------------------------------------------------\u001b[0m",
      "\u001b[0;31mCalledProcessError\u001b[0m                        Traceback (most recent call last)",
      "\u001b[0;32m<ipython-input-5-765ee562b514>\u001b[0m in \u001b[0;36m<module>\u001b[0;34m()\u001b[0m\n\u001b[0;32m----> 1\u001b[0;31m \u001b[0mIPythonNotebookGenerator\u001b[0m\u001b[0;34m.\u001b[0m\u001b[0mexecute\u001b[0m\u001b[0;34m(\u001b[0m\u001b[0moPath\u001b[0m\u001b[0;34m)\u001b[0m\u001b[0;34m\u001b[0m\u001b[0m\n\u001b[0m",
      "\u001b[0;32m/home/xsong/mg-wt/IPython_generator.pyc\u001b[0m in \u001b[0;36mexecute\u001b[0;34m(folder_path, filterNames)\u001b[0m\n\u001b[1;32m    352\u001b[0m \u001b[0;34m\u001b[0m\u001b[0m\n\u001b[1;32m    353\u001b[0m         \u001b[0mpaths\u001b[0m \u001b[0;34m=\u001b[0m \u001b[0mIPythonNotebookGenerator\u001b[0m\u001b[0;34m.\u001b[0m\u001b[0mlistFilesFromFolder\u001b[0m\u001b[0;34m(\u001b[0m\u001b[0mfolder_path\u001b[0m\u001b[0;34m)\u001b[0m\u001b[0;34m\u001b[0m\u001b[0m\n\u001b[0;32m--> 354\u001b[0;31m         \u001b[0mIPythonNotebookGenerator\u001b[0m\u001b[0;34m.\u001b[0m\u001b[0mcallPython\u001b[0m\u001b[0;34m(\u001b[0m\u001b[0mpaths\u001b[0m\u001b[0;34m,\u001b[0m\u001b[0mfilterNames\u001b[0m\u001b[0;34m)\u001b[0m\u001b[0;34m\u001b[0m\u001b[0m\n\u001b[0m\u001b[1;32m    355\u001b[0m \u001b[0;34m\u001b[0m\u001b[0m\n\u001b[1;32m    356\u001b[0m     \u001b[0;34m@\u001b[0m\u001b[0mstaticmethod\u001b[0m\u001b[0;34m\u001b[0m\u001b[0m\n",
      "\u001b[0;32m/home/xsong/mg-wt/IPython_generator.pyc\u001b[0m in \u001b[0;36mcallPython\u001b[0;34m(paths, filterList)\u001b[0m\n\u001b[1;32m    574\u001b[0m         \u001b[0;32mfor\u001b[0m \u001b[0mp\u001b[0m \u001b[0;32min\u001b[0m \u001b[0mpath_filtered\u001b[0m\u001b[0;34m:\u001b[0m\u001b[0;34m\u001b[0m\u001b[0m\n\u001b[1;32m    575\u001b[0m             \u001b[0;32mprint\u001b[0m \u001b[0;34m\"--Execute-- \"\u001b[0m\u001b[0;34m,\u001b[0m\u001b[0mp\u001b[0m\u001b[0;34m\u001b[0m\u001b[0m\n\u001b[0;32m--> 576\u001b[0;31m             \u001b[0mIPythonNotebookGenerator\u001b[0m\u001b[0;34m.\u001b[0m\u001b[0mrunIpython\u001b[0m\u001b[0;34m(\u001b[0m\u001b[0mp\u001b[0m\u001b[0;34m)\u001b[0m\u001b[0;34m\u001b[0m\u001b[0m\n\u001b[0m\u001b[1;32m    577\u001b[0m \u001b[0;34m\u001b[0m\u001b[0m\n\u001b[1;32m    578\u001b[0m \u001b[0;34m\u001b[0m\u001b[0m\n",
      "\u001b[0;32m/home/xsong/mg-wt/IPython_generator.pyc\u001b[0m in \u001b[0;36mrunIpython\u001b[0;34m(path)\u001b[0m\n\u001b[1;32m    547\u001b[0m     \u001b[0;32mdef\u001b[0m \u001b[0mrunIpython\u001b[0m\u001b[0;34m(\u001b[0m\u001b[0mpath\u001b[0m\u001b[0;34m)\u001b[0m\u001b[0;34m:\u001b[0m\u001b[0;34m\u001b[0m\u001b[0m\n\u001b[1;32m    548\u001b[0m         \u001b[0;32mimport\u001b[0m \u001b[0msubprocess\u001b[0m\u001b[0;34m\u001b[0m\u001b[0m\n\u001b[0;32m--> 549\u001b[0;31m         \u001b[0mp\u001b[0m \u001b[0;34m=\u001b[0m \u001b[0msubprocess\u001b[0m\u001b[0;34m.\u001b[0m\u001b[0mcheck_call\u001b[0m\u001b[0;34m(\u001b[0m\u001b[0;34m[\u001b[0m\u001b[0;34m'jupyter'\u001b[0m \u001b[0;34m,\u001b[0m\u001b[0;34m'nbconvert'\u001b[0m\u001b[0;34m,\u001b[0m \u001b[0;34m'--execute'\u001b[0m\u001b[0;34m,\u001b[0m \u001b[0;34m'--inplace'\u001b[0m\u001b[0;34m,\u001b[0m\u001b[0;34m'--ExecutePreprocessor.timeout=-1'\u001b[0m\u001b[0;34m,\u001b[0m\u001b[0mpath\u001b[0m\u001b[0;34m]\u001b[0m\u001b[0;34m)\u001b[0m\u001b[0;34m\u001b[0m\u001b[0m\n\u001b[0m\u001b[1;32m    550\u001b[0m         \u001b[0;32mif\u001b[0m \u001b[0mp\u001b[0m\u001b[0;34m:\u001b[0m\u001b[0;34m\u001b[0m\u001b[0m\n\u001b[1;32m    551\u001b[0m             \u001b[0;32mprint\u001b[0m \u001b[0;34m\"Raise Call Error : \"\u001b[0m\u001b[0;34m,\u001b[0m \u001b[0mpath\u001b[0m\u001b[0;34m\u001b[0m\u001b[0m\n",
      "\u001b[0;32m/home/xsong/miniconda2/lib/python2.7/subprocess.pyc\u001b[0m in \u001b[0;36mcheck_call\u001b[0;34m(*popenargs, **kwargs)\u001b[0m\n\u001b[1;32m    188\u001b[0m         \u001b[0;32mif\u001b[0m \u001b[0mcmd\u001b[0m \u001b[0;32mis\u001b[0m \u001b[0mNone\u001b[0m\u001b[0;34m:\u001b[0m\u001b[0;34m\u001b[0m\u001b[0m\n\u001b[1;32m    189\u001b[0m             \u001b[0mcmd\u001b[0m \u001b[0;34m=\u001b[0m \u001b[0mpopenargs\u001b[0m\u001b[0;34m[\u001b[0m\u001b[0;36m0\u001b[0m\u001b[0;34m]\u001b[0m\u001b[0;34m\u001b[0m\u001b[0m\n\u001b[0;32m--> 190\u001b[0;31m         \u001b[0;32mraise\u001b[0m \u001b[0mCalledProcessError\u001b[0m\u001b[0;34m(\u001b[0m\u001b[0mretcode\u001b[0m\u001b[0;34m,\u001b[0m \u001b[0mcmd\u001b[0m\u001b[0;34m)\u001b[0m\u001b[0;34m\u001b[0m\u001b[0m\n\u001b[0m\u001b[1;32m    191\u001b[0m     \u001b[0;32mreturn\u001b[0m \u001b[0;36m0\u001b[0m\u001b[0;34m\u001b[0m\u001b[0m\n\u001b[1;32m    192\u001b[0m \u001b[0;34m\u001b[0m\u001b[0m\n",
      "\u001b[0;31mCalledProcessError\u001b[0m: Command '['jupyter', 'nbconvert', '--execute', '--inplace', '--ExecutePreprocessor.timeout=-1', '/home/xsong/mg-wt/demo/syd 2/run-TAB/syd 2-1.ipynb']' returned non-zero exit status 1"
     ]
    }
   ],
   "source": [
    "IPythonNotebookGenerator.execute(oPath)"
   ]
  },
  {
   "cell_type": "markdown",
   "metadata": {},
   "source": [
    "# generate Mortality Distribution ipython file, modify the input in the file"
   ]
  },
  {
   "cell_type": "code",
   "execution_count": null,
   "metadata": {
    "scrolled": true
   },
   "outputs": [],
   "source": [
    "oPath =os.path.join(res_folder,'run-MD')\n",
    "data_folder_path = current_path#'/Users/songxiaohu/Desktop/githubYfan/PIMortalityAnalysis/xsong/main/test dataset/new data ana/'\n",
    "if use_mg_wt:\n",
    "    ref_df_path = os.path.join(MG_WT_path,'MG_WT_CLUSTER_0_df_relative_timegrid.pickle')\n",
    "else:\n",
    "    ref_df_path=os.path.join(prev_path,'WT/WT-1_df_relative_timegrid.pickle')\n",
    "print ref_df_path\n",
    "IPythonNotebookGenerator.run_MD(python_class_path,oPath,data_folder_path,ref_df_path)"
   ]
  },
  {
   "cell_type": "code",
   "execution_count": null,
   "metadata": {},
   "outputs": [],
   "source": [
    "IPythonNotebookGenerator.execute(oPath)"
   ]
  },
  {
   "cell_type": "markdown",
   "metadata": {},
   "source": [
    "# Check Replication\n"
   ]
  },
  {
   "cell_type": "code",
   "execution_count": null,
   "metadata": {},
   "outputs": [],
   "source": [
    "oPath = os.path.join(res_folder,'run-CR')\n",
    "folderPath = current_path\n",
    "if use_mg_wt:\n",
    "    path_ref_folder = os.path.split(MG_WT_path)[0]\n",
    "else:\n",
    "    path_ref_folder = os.path.join(prev_path,'WT')\n",
    "IPythonNotebookGenerator.run_CR(python_class_path,oPath,folderPath,path_ref_folder,cutoff)"
   ]
  },
  {
   "cell_type": "code",
   "execution_count": null,
   "metadata": {},
   "outputs": [],
   "source": [
    "IPythonNotebookGenerator.execute(oPath)"
   ]
  },
  {
   "cell_type": "markdown",
   "metadata": {},
   "source": [
    "# GG GGM Selector"
   ]
  },
  {
   "cell_type": "code",
   "execution_count": null,
   "metadata": {},
   "outputs": [],
   "source": [
    "oPath = os.path.join(res_folder,'run-SELECTOR')\n",
    "data_folder_path = current_path\n",
    "IPythonNotebookGenerator.run_SELECTOR(python_class_path,oPath,data_folder_path)"
   ]
  },
  {
   "cell_type": "code",
   "execution_count": null,
   "metadata": {},
   "outputs": [],
   "source": [
    "IPythonNotebookGenerator.execute(oPath)"
   ]
  },
  {
   "cell_type": "code",
   "execution_count": null,
   "metadata": {},
   "outputs": [],
   "source": []
  },
  {
   "cell_type": "code",
   "execution_count": null,
   "metadata": {},
   "outputs": [],
   "source": []
  }
 ],
 "metadata": {
  "kernelspec": {
   "display_name": "Python 2",
   "language": "python",
   "name": "python2"
  },
  "language_info": {
   "codemirror_mode": {
    "name": "ipython",
    "version": 2
   },
   "file_extension": ".py",
   "mimetype": "text/x-python",
   "name": "python",
   "nbconvert_exporter": "python",
   "pygments_lexer": "ipython2",
   "version": "2.7.15"
  }
 },
 "nbformat": 4,
 "nbformat_minor": 1
}
