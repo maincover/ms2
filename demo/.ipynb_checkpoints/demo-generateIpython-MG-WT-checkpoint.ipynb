{
 "cells": [
  {
   "cell_type": "code",
   "execution_count": 1,
   "metadata": {},
   "outputs": [
    {
     "name": "stdout",
     "output_type": "stream",
     "text": [
      "data path (abs) :  /home/xsong/mg-wt/dataset/MS2 for GitHub Updated 26.05.2019\n",
      "res_folder path (abs output) :  /home/xsong/mg-wt/demo/MS2 for GitHub Updated 26.05.2019\n",
      "prev_path (abs) :  /home/xsong/coliSurvivalAnalysis/xsong/Microfluidics Database\n",
      "python class path (abs) :  /home/xsong/mg-wt\n"
     ]
    }
   ],
   "source": [
    "import sys,os\n",
    "sys.path.insert(1, os.path.join(sys.path[0], '..'))\n",
    "from IPython_generator import IPythonNotebookGenerator\n",
    "current_path = '../dataset/MS 2 Github data part 2'\n",
    "path_ext = os.path.split(current_path)[1]\n",
    "current_path = os.path.abspath(current_path)\n",
    "print 'data path (abs) : ', current_path\n",
    "res_folder = os.path.join('./',path_ext)\n",
    "res_folder = os.path.abspath(res_folder)\n",
    "print 'res_folder path (abs output) : ', res_folder\n",
    "prev_path='/home/xsong/coliSurvivalAnalysis/xsong/Microfluidics Database/'\n",
    "prev_path = os.path.abspath(prev_path)\n",
    "print \"prev_path (abs) : \", prev_path\n",
    "python_class_path = \"../\"\n",
    "python_class_path = os.path.abspath(python_class_path)\n",
    "print \"python class path (abs) : \", python_class_path\n",
    "alcohol_time = \"120\"\n",
    "cutoff=\"CheckReplication.cutoff31\"\n",
    "cutoff=\"-1\"\n",
    "\n",
    "use_mg_wt = True\n",
    "if use_mg_wt:\n",
    "    MG_WT_path = '../dataset/MG-WT'\n",
    "    MG_WT_path = os.path.abspath(MG_WT_path)"
   ]
  },
  {
   "cell_type": "markdown",
   "metadata": {},
   "source": [
    "# Preprocessing, check file duplication, generate new list"
   ]
  },
  {
   "cell_type": "code",
   "execution_count": 2,
   "metadata": {},
   "outputs": [
    {
     "name": "stdout",
     "output_type": "stream",
     "text": [
      "/home/xsong/mg-wt/demo/MS2 for GitHub Updated 26.05.2019/run-PRE\n"
     ]
    }
   ],
   "source": [
    "#---Demo---Preprocessing auto generator and execution, modify the generated code to meet your needs\n",
    "#Veryfy inside the code, the good paths are set for the current dataset and prev dataset\n",
    "oPath = os.path.join(res_folder,'run-PRE')\n",
    "filter_file_path =''#'/Users/songxiaohu/Desktop/githubYfan/PIMortalityAnalysis/xsong/Microfluidics Database/No_dup_finalList_division.txt'\n",
    "selfFilter = 'True'\n",
    "IPythonNotebookGenerator.run_PRE(python_class_path,oPath, current_path,prev_path, filter_file_path, selfFilter)"
   ]
  },
  {
   "cell_type": "code",
   "execution_count": 3,
   "metadata": {},
   "outputs": [
    {
     "name": "stdout",
     "output_type": "stream",
     "text": [
      "---Execute ipython code---\n",
      "--Execute--  /home/xsong/mg-wt/demo/MS2 for GitHub Updated 26.05.2019/run-PRE/Preprocessing.ipynb\n"
     ]
    }
   ],
   "source": [
    "IPythonNotebookGenerator.execute(oPath)"
   ]
  },
  {
   "cell_type": "markdown",
   "metadata": {},
   "source": [
    "# .tab files in replicate group in finalFiles.txt TAB Analyzer"
   ]
  },
  {
   "cell_type": "code",
   "execution_count": 4,
   "metadata": {},
   "outputs": [
    {
     "name": "stdout",
     "output_type": "stream",
     "text": [
      "Initialization of Ipython auto generator\n",
      "---Ipython code generation process---\n",
      "/home/xsong/mg-wt/demo/MS2 for GitHub Updated 26.05.2019/run-TAB/agaA-1.ipynb\n",
      "/home/xsong/mg-wt/demo/MS2 for GitHub Updated 26.05.2019/run-TAB\n",
      "/home/xsong/mg-wt/demo/MS2 for GitHub Updated 26.05.2019/run-TAB/agaR-1.ipynb\n",
      "/home/xsong/mg-wt/demo/MS2 for GitHub Updated 26.05.2019/run-TAB/agaV-1.ipynb\n",
      "/home/xsong/mg-wt/demo/MS2 for GitHub Updated 26.05.2019/run-TAB/alr-1.ipynb\n",
      "/home/xsong/mg-wt/demo/MS2 for GitHub Updated 26.05.2019/run-TAB/alsB-1.ipynb\n",
      "/home/xsong/mg-wt/demo/MS2 for GitHub Updated 26.05.2019/run-TAB/appA-1.ipynb\n",
      "/home/xsong/mg-wt/demo/MS2 for GitHub Updated 26.05.2019/run-TAB/appB-1.ipynb\n",
      "/home/xsong/mg-wt/demo/MS2 for GitHub Updated 26.05.2019/run-TAB/atoS-1.ipynb\n",
      "/home/xsong/mg-wt/demo/MS2 for GitHub Updated 26.05.2019/run-TAB/bglF-1.ipynb\n",
      "/home/xsong/mg-wt/demo/MS2 for GitHub Updated 26.05.2019/run-TAB/bipA-1.ipynb\n",
      "/home/xsong/mg-wt/demo/MS2 for GitHub Updated 26.05.2019/run-TAB/caiB-1.ipynb\n",
      "/home/xsong/mg-wt/demo/MS2 for GitHub Updated 26.05.2019/run-TAB/casE-1.ipynb\n",
      "/home/xsong/mg-wt/demo/MS2 for GitHub Updated 26.05.2019/run-TAB/cbpM-1.ipynb\n",
      "/home/xsong/mg-wt/demo/MS2 for GitHub Updated 26.05.2019/run-TAB/citT-1.ipynb\n",
      "/home/xsong/mg-wt/demo/MS2 for GitHub Updated 26.05.2019/run-TAB/crcA-1.ipynb\n",
      "/home/xsong/mg-wt/demo/MS2 for GitHub Updated 26.05.2019/run-TAB/cstA-1.ipynb\n",
      "/home/xsong/mg-wt/demo/MS2 for GitHub Updated 26.05.2019/run-TAB/cynX-1.ipynb\n",
      "/home/xsong/mg-wt/demo/MS2 for GitHub Updated 26.05.2019/run-TAB/dcp-1.ipynb\n",
      "/home/xsong/mg-wt/demo/MS2 for GitHub Updated 26.05.2019/run-TAB/dcuA-1.ipynb\n",
      "/home/xsong/mg-wt/demo/MS2 for GitHub Updated 26.05.2019/run-TAB/dnaT-1.ipynb\n",
      "/home/xsong/mg-wt/demo/MS2 for GitHub Updated 26.05.2019/run-TAB/eptA-1.ipynb\n",
      "/home/xsong/mg-wt/demo/MS2 for GitHub Updated 26.05.2019/run-TAB/eutQ-1.ipynb\n",
      "/home/xsong/mg-wt/demo/MS2 for GitHub Updated 26.05.2019/run-TAB/fabR-1.ipynb\n",
      "/home/xsong/mg-wt/demo/MS2 for GitHub Updated 26.05.2019/run-TAB/fixC-1.ipynb\n",
      "/home/xsong/mg-wt/demo/MS2 for GitHub Updated 26.05.2019/run-TAB/fkpA-1.ipynb\n",
      "/home/xsong/mg-wt/demo/MS2 for GitHub Updated 26.05.2019/run-TAB/flu-1.ipynb\n",
      "/home/xsong/mg-wt/demo/MS2 for GitHub Updated 26.05.2019/run-TAB/fruB-1.ipynb\n",
      "/home/xsong/mg-wt/demo/MS2 for GitHub Updated 26.05.2019/run-TAB/fruR-1.ipynb\n",
      "/home/xsong/mg-wt/demo/MS2 for GitHub Updated 26.05.2019/run-TAB/fsr-1.ipynb\n",
      "/home/xsong/mg-wt/demo/MS2 for GitHub Updated 26.05.2019/run-TAB/glf-1.ipynb\n",
      "/home/xsong/mg-wt/demo/MS2 for GitHub Updated 26.05.2019/run-TAB/glpX-1.ipynb\n",
      "/home/xsong/mg-wt/demo/MS2 for GitHub Updated 26.05.2019/run-TAB/gltD-1.ipynb\n",
      "/home/xsong/mg-wt/demo/MS2 for GitHub Updated 26.05.2019/run-TAB/gltL-1.ipynb\n",
      "/home/xsong/mg-wt/demo/MS2 for GitHub Updated 26.05.2019/run-TAB/gnsA-1.ipynb\n",
      "/home/xsong/mg-wt/demo/MS2 for GitHub Updated 26.05.2019/run-TAB/gspF-1.ipynb\n",
      "/home/xsong/mg-wt/demo/MS2 for GitHub Updated 26.05.2019/run-TAB/gspL-1.ipynb\n",
      "/home/xsong/mg-wt/demo/MS2 for GitHub Updated 26.05.2019/run-TAB/gspM-1.ipynb\n",
      "/home/xsong/mg-wt/demo/MS2 for GitHub Updated 26.05.2019/run-TAB/hybG-1.ipynb\n",
      "/home/xsong/mg-wt/demo/MS2 for GitHub Updated 26.05.2019/run-TAB/hycA-1.ipynb\n",
      "/home/xsong/mg-wt/demo/MS2 for GitHub Updated 26.05.2019/run-TAB/idnD-1.ipynb\n",
      "/home/xsong/mg-wt/demo/MS2 for GitHub Updated 26.05.2019/run-TAB/ldcC-1.ipynb\n",
      "/home/xsong/mg-wt/demo/MS2 for GitHub Updated 26.05.2019/run-TAB/lsrC-1.ipynb\n",
      "/home/xsong/mg-wt/demo/MS2 for GitHub Updated 26.05.2019/run-TAB/mprA-1.ipynb\n",
      "/home/xsong/mg-wt/demo/MS2 for GitHub Updated 26.05.2019/run-TAB/nagK-1.ipynb\n",
      "/home/xsong/mg-wt/demo/MS2 for GitHub Updated 26.05.2019/run-TAB/nagZ-1.ipynb\n",
      "/home/xsong/mg-wt/demo/MS2 for GitHub Updated 26.05.2019/run-TAB/napC-1.ipynb\n",
      "/home/xsong/mg-wt/demo/MS2 for GitHub Updated 26.05.2019/run-TAB/norW-1.ipynb\n",
      "/home/xsong/mg-wt/demo/MS2 for GitHub Updated 26.05.2019/run-TAB/nsrR-1.ipynb\n",
      "/home/xsong/mg-wt/demo/MS2 for GitHub Updated 26.05.2019/run-TAB/osmY-1.ipynb\n",
      "/home/xsong/mg-wt/demo/MS2 for GitHub Updated 26.05.2019/run-TAB/paoB-1.ipynb\n",
      "/home/xsong/mg-wt/demo/MS2 for GitHub Updated 26.05.2019/run-TAB/pfkA-1.ipynb\n",
      "/home/xsong/mg-wt/demo/MS2 for GitHub Updated 26.05.2019/run-TAB/pflC-1.ipynb\n",
      "/home/xsong/mg-wt/demo/MS2 for GitHub Updated 26.05.2019/run-TAB/pflD-1.ipynb\n",
      "/home/xsong/mg-wt/demo/MS2 for GitHub Updated 26.05.2019/run-TAB/phnH-1.ipynb\n",
      "/home/xsong/mg-wt/demo/MS2 for GitHub Updated 26.05.2019/run-TAB/ptsH-1.ipynb\n",
      "/home/xsong/mg-wt/demo/MS2 for GitHub Updated 26.05.2019/run-TAB/rarD-1.ipynb\n",
      "/home/xsong/mg-wt/demo/MS2 for GitHub Updated 26.05.2019/run-TAB/recF-1.ipynb\n",
      "/home/xsong/mg-wt/demo/MS2 for GitHub Updated 26.05.2019/run-TAB/rsd-1.ipynb\n",
      "/home/xsong/mg-wt/demo/MS2 for GitHub Updated 26.05.2019/run-TAB/sspA-1.ipynb\n",
      "/home/xsong/mg-wt/demo/MS2 for GitHub Updated 26.05.2019/run-TAB/ssuA-1.ipynb\n",
      "/home/xsong/mg-wt/demo/MS2 for GitHub Updated 26.05.2019/run-TAB/sugE-1.ipynb\n",
      "/home/xsong/mg-wt/demo/MS2 for GitHub Updated 26.05.2019/run-TAB/tdcE-1.ipynb\n",
      "/home/xsong/mg-wt/demo/MS2 for GitHub Updated 26.05.2019/run-TAB/treC-1.ipynb\n",
      "/home/xsong/mg-wt/demo/MS2 for GitHub Updated 26.05.2019/run-TAB/tyrB-1.ipynb\n",
      "/home/xsong/mg-wt/demo/MS2 for GitHub Updated 26.05.2019/run-TAB/ulaD-1.ipynb\n",
      "/home/xsong/mg-wt/demo/MS2 for GitHub Updated 26.05.2019/run-TAB/xdhB-1.ipynb\n",
      "/home/xsong/mg-wt/demo/MS2 for GitHub Updated 26.05.2019/run-TAB/xdhC-1.ipynb\n",
      "/home/xsong/mg-wt/demo/MS2 for GitHub Updated 26.05.2019/run-TAB/yafV-1.ipynb\n",
      "/home/xsong/mg-wt/demo/MS2 for GitHub Updated 26.05.2019/run-TAB/yafX-1.ipynb\n",
      "/home/xsong/mg-wt/demo/MS2 for GitHub Updated 26.05.2019/run-TAB/yagH-1.ipynb\n",
      "/home/xsong/mg-wt/demo/MS2 for GitHub Updated 26.05.2019/run-TAB/yagL-1.ipynb\n",
      "/home/xsong/mg-wt/demo/MS2 for GitHub Updated 26.05.2019/run-TAB/yagQ-1.ipynb\n",
      "/home/xsong/mg-wt/demo/MS2 for GitHub Updated 26.05.2019/run-TAB/ybaJ-1.ipynb\n",
      "/home/xsong/mg-wt/demo/MS2 for GitHub Updated 26.05.2019/run-TAB/ybbP-1.ipynb\n",
      "/home/xsong/mg-wt/demo/MS2 for GitHub Updated 26.05.2019/run-TAB/ybdK-1.ipynb\n",
      "/home/xsong/mg-wt/demo/MS2 for GitHub Updated 26.05.2019/run-TAB/ybgD-1.ipynb\n",
      "/home/xsong/mg-wt/demo/MS2 for GitHub Updated 26.05.2019/run-TAB/ycaD-1.ipynb\n",
      "/home/xsong/mg-wt/demo/MS2 for GitHub Updated 26.05.2019/run-TAB/ycaL-1.ipynb\n",
      "/home/xsong/mg-wt/demo/MS2 for GitHub Updated 26.05.2019/run-TAB/ydcP-1.ipynb\n",
      "/home/xsong/mg-wt/demo/MS2 for GitHub Updated 26.05.2019/run-TAB/ydgT-1.ipynb\n",
      "/home/xsong/mg-wt/demo/MS2 for GitHub Updated 26.05.2019/run-TAB/ydjK-1.ipynb\n",
      "/home/xsong/mg-wt/demo/MS2 for GitHub Updated 26.05.2019/run-TAB/ydjQ-1.ipynb\n",
      "/home/xsong/mg-wt/demo/MS2 for GitHub Updated 26.05.2019/run-TAB/yecP-1.ipynb\n",
      "/home/xsong/mg-wt/demo/MS2 for GitHub Updated 26.05.2019/run-TAB/yeeW-1.ipynb\n",
      "/home/xsong/mg-wt/demo/MS2 for GitHub Updated 26.05.2019/run-TAB/yehA-1.ipynb\n",
      "/home/xsong/mg-wt/demo/MS2 for GitHub Updated 26.05.2019/run-TAB/yfbM-1.ipynb\n",
      "/home/xsong/mg-wt/demo/MS2 for GitHub Updated 26.05.2019/run-TAB/yfjO-1.ipynb\n",
      "/home/xsong/mg-wt/demo/MS2 for GitHub Updated 26.05.2019/run-TAB/ygcQ-1.ipynb\n",
      "/home/xsong/mg-wt/demo/MS2 for GitHub Updated 26.05.2019/run-TAB/ygfO-1.ipynb\n",
      "/home/xsong/mg-wt/demo/MS2 for GitHub Updated 26.05.2019/run-TAB/yggE-1.ipynb\n",
      "/home/xsong/mg-wt/demo/MS2 for GitHub Updated 26.05.2019/run-TAB/yggF-1.ipynb\n",
      "/home/xsong/mg-wt/demo/MS2 for GitHub Updated 26.05.2019/run-TAB/ygjP-1.ipynb\n",
      "/home/xsong/mg-wt/demo/MS2 for GitHub Updated 26.05.2019/run-TAB/yhbP-1.ipynb\n",
      "/home/xsong/mg-wt/demo/MS2 for GitHub Updated 26.05.2019/run-TAB/yhbS-1.ipynb\n",
      "/home/xsong/mg-wt/demo/MS2 for GitHub Updated 26.05.2019/run-TAB/yhbW-1.ipynb\n",
      "/home/xsong/mg-wt/demo/MS2 for GitHub Updated 26.05.2019/run-TAB/yhdX-1.ipynb\n",
      "/home/xsong/mg-wt/demo/MS2 for GitHub Updated 26.05.2019/run-TAB/yiaG-1.ipynb\n",
      "/home/xsong/mg-wt/demo/MS2 for GitHub Updated 26.05.2019/run-TAB/yiaW-1.ipynb\n",
      "/home/xsong/mg-wt/demo/MS2 for GitHub Updated 26.05.2019/run-TAB/yicH-1.ipynb\n",
      "/home/xsong/mg-wt/demo/MS2 for GitHub Updated 26.05.2019/run-TAB/yicM-1.ipynb\n",
      "/home/xsong/mg-wt/demo/MS2 for GitHub Updated 26.05.2019/run-TAB/yidH-1.ipynb\n",
      "/home/xsong/mg-wt/demo/MS2 for GitHub Updated 26.05.2019/run-TAB/yigL-1.ipynb\n",
      "/home/xsong/mg-wt/demo/MS2 for GitHub Updated 26.05.2019/run-TAB/yigZ-1.ipynb\n",
      "/home/xsong/mg-wt/demo/MS2 for GitHub Updated 26.05.2019/run-TAB/yihS-1.ipynb\n",
      "/home/xsong/mg-wt/demo/MS2 for GitHub Updated 26.05.2019/run-TAB/yihV-1.ipynb\n",
      "/home/xsong/mg-wt/demo/MS2 for GitHub Updated 26.05.2019/run-TAB/yjeL-1.ipynb\n",
      "/home/xsong/mg-wt/demo/MS2 for GitHub Updated 26.05.2019/run-TAB/yjfC-1.ipynb\n",
      "/home/xsong/mg-wt/demo/MS2 for GitHub Updated 26.05.2019/run-TAB/yjfF-1.ipynb\n",
      "/home/xsong/mg-wt/demo/MS2 for GitHub Updated 26.05.2019/run-TAB/yjfJ-1.ipynb\n",
      "/home/xsong/mg-wt/demo/MS2 for GitHub Updated 26.05.2019/run-TAB/yjfL-1.ipynb\n",
      "/home/xsong/mg-wt/demo/MS2 for GitHub Updated 26.05.2019/run-TAB/yjgB-1.ipynb\n",
      "/home/xsong/mg-wt/demo/MS2 for GitHub Updated 26.05.2019/run-TAB/yjhG-1.ipynb\n",
      "/home/xsong/mg-wt/demo/MS2 for GitHub Updated 26.05.2019/run-TAB/ykfF-1.ipynb\n",
      "/home/xsong/mg-wt/demo/MS2 for GitHub Updated 26.05.2019/run-TAB/ykfI-1.ipynb\n",
      "/home/xsong/mg-wt/demo/MS2 for GitHub Updated 26.05.2019/run-TAB/ynaA-1.ipynb\n",
      "/home/xsong/mg-wt/demo/MS2 for GitHub Updated 26.05.2019/run-TAB/yncI-1.ipynb\n",
      "/home/xsong/mg-wt/demo/MS2 for GitHub Updated 26.05.2019/run-TAB/yoaF-1.ipynb\n",
      "/home/xsong/mg-wt/demo/MS2 for GitHub Updated 26.05.2019/run-TAB/yobH-1.ipynb\n",
      "/home/xsong/mg-wt/demo/MS2 for GitHub Updated 26.05.2019/run-TAB/yphG-1.ipynb\n",
      "/home/xsong/mg-wt/demo/MS2 for GitHub Updated 26.05.2019/run-TAB/yqjE-1.ipynb\n",
      "/home/xsong/mg-wt/demo/MS2 for GitHub Updated 26.05.2019/run-TAB/ytfF-1.ipynb\n",
      "/home/xsong/mg-wt/demo/MS2 for GitHub Updated 26.05.2019/run-TAB/ytfL-1.ipynb\n"
     ]
    },
    {
     "name": "stdout",
     "output_type": "stream",
     "text": [
      "/home/xsong/mg-wt/demo/MS2 for GitHub Updated 26.05.2019/run-TAB/zapE-1.ipynb\n"
     ]
    }
   ],
   "source": [
    "#---Demo--- TAB processing auto generator and execution\n",
    "#data_path = '/Users/songxiaohu/Desktop/githubYfan/PIMortalityAnalysis/xsong/Microfluidics New Data'\n",
    "filter_path = os.path.join(current_path+'/'+'report','finalFiles.txt')#'/Users/songxiaohu/Desktop/githubYfan/PIMortalityAnalysis/xsong/main/test dataset/new data ana/report/finalFiles.txt'\n",
    "oPath = os.path.join(res_folder,'run-TAB')\n",
    "nbGenerator = IPythonNotebookGenerator(filterPath=filter_path,outputPath=oPath)\n",
    "#fFn_parent_path for non relative path in the filter file path\n",
    "fFn_parent_path=current_path#'/Users/songxiaohu/Desktop/githubYfan/PIMortalityAnalysis/xsong/Microfluidics Database' \n",
    "nbGenerator.run_TAB_PIP(python_class_path,alcohol_time,fFn_parent_path)"
   ]
  },
  {
   "cell_type": "code",
   "execution_count": 5,
   "metadata": {},
   "outputs": [
    {
     "name": "stdout",
     "output_type": "stream",
     "text": [
      "---Execute ipython code---\n",
      "--Execute--  /home/xsong/mg-wt/demo/MS2 for GitHub Updated 26.05.2019/run-TAB/ydgT-1.ipynb\n",
      "--Execute--  /home/xsong/mg-wt/demo/MS2 for GitHub Updated 26.05.2019/run-TAB/alsB-1.ipynb\n",
      "--Execute--  /home/xsong/mg-wt/demo/MS2 for GitHub Updated 26.05.2019/run-TAB/yecP-1.ipynb\n",
      "--Execute--  /home/xsong/mg-wt/demo/MS2 for GitHub Updated 26.05.2019/run-TAB/fixC-1.ipynb\n",
      "--Execute--  /home/xsong/mg-wt/demo/MS2 for GitHub Updated 26.05.2019/run-TAB/yjfJ-1.ipynb\n",
      "--Execute--  /home/xsong/mg-wt/demo/MS2 for GitHub Updated 26.05.2019/run-TAB/yhbS-1.ipynb\n",
      "--Execute--  /home/xsong/mg-wt/demo/MS2 for GitHub Updated 26.05.2019/run-TAB/ybaJ-1.ipynb\n",
      "--Execute--  /home/xsong/mg-wt/demo/MS2 for GitHub Updated 26.05.2019/run-TAB/yncI-1.ipynb\n",
      "--Execute--  /home/xsong/mg-wt/demo/MS2 for GitHub Updated 26.05.2019/run-TAB/bipA-1.ipynb\n",
      "--Execute--  /home/xsong/mg-wt/demo/MS2 for GitHub Updated 26.05.2019/run-TAB/crcA-1.ipynb\n",
      "--Execute--  /home/xsong/mg-wt/demo/MS2 for GitHub Updated 26.05.2019/run-TAB/fabR-1.ipynb\n",
      "--Execute--  /home/xsong/mg-wt/demo/MS2 for GitHub Updated 26.05.2019/run-TAB/yhdX-1.ipynb\n",
      "--Execute--  /home/xsong/mg-wt/demo/MS2 for GitHub Updated 26.05.2019/run-TAB/caiB-1.ipynb\n",
      "--Execute--  /home/xsong/mg-wt/demo/MS2 for GitHub Updated 26.05.2019/run-TAB/yjfL-1.ipynb\n",
      "--Execute--  /home/xsong/mg-wt/demo/MS2 for GitHub Updated 26.05.2019/run-TAB/yjhG-1.ipynb\n",
      "--Execute--  /home/xsong/mg-wt/demo/MS2 for GitHub Updated 26.05.2019/run-TAB/glf-1.ipynb\n",
      "--Execute--  /home/xsong/mg-wt/demo/MS2 for GitHub Updated 26.05.2019/run-TAB/bglF-1.ipynb\n",
      "--Execute--  /home/xsong/mg-wt/demo/MS2 for GitHub Updated 26.05.2019/run-TAB/gltL-1.ipynb\n",
      "--Execute--  /home/xsong/mg-wt/demo/MS2 for GitHub Updated 26.05.2019/run-TAB/eptA-1.ipynb\n",
      "--Execute--  /home/xsong/mg-wt/demo/MS2 for GitHub Updated 26.05.2019/run-TAB/fruB-1.ipynb\n",
      "--Execute--  /home/xsong/mg-wt/demo/MS2 for GitHub Updated 26.05.2019/run-TAB/cynX-1.ipynb\n",
      "--Execute--  /home/xsong/mg-wt/demo/MS2 for GitHub Updated 26.05.2019/run-TAB/nagZ-1.ipynb\n",
      "--Execute--  /home/xsong/mg-wt/demo/MS2 for GitHub Updated 26.05.2019/run-TAB/zapE-1.ipynb\n",
      "--Execute--  /home/xsong/mg-wt/demo/MS2 for GitHub Updated 26.05.2019/run-TAB/ybbP-1.ipynb\n",
      "--Execute--  /home/xsong/mg-wt/demo/MS2 for GitHub Updated 26.05.2019/run-TAB/dcuA-1.ipynb\n",
      "--Execute--  /home/xsong/mg-wt/demo/MS2 for GitHub Updated 26.05.2019/run-TAB/napC-1.ipynb\n",
      "--Execute--  /home/xsong/mg-wt/demo/MS2 for GitHub Updated 26.05.2019/run-TAB/ybdK-1.ipynb\n",
      "--Execute--  /home/xsong/mg-wt/demo/MS2 for GitHub Updated 26.05.2019/run-TAB/pflD-1.ipynb\n",
      "--Execute--  /home/xsong/mg-wt/demo/MS2 for GitHub Updated 26.05.2019/run-TAB/yoaF-1.ipynb\n",
      "--Execute--  /home/xsong/mg-wt/demo/MS2 for GitHub Updated 26.05.2019/run-TAB/ygcQ-1.ipynb\n",
      "--Execute--  /home/xsong/mg-wt/demo/MS2 for GitHub Updated 26.05.2019/run-TAB/mprA-1.ipynb\n",
      "--Execute--  /home/xsong/mg-wt/demo/MS2 for GitHub Updated 26.05.2019/run-TAB/xdhB-1.ipynb\n",
      "--Execute--  /home/xsong/mg-wt/demo/MS2 for GitHub Updated 26.05.2019/run-TAB/casE-1.ipynb\n",
      "--Execute--  /home/xsong/mg-wt/demo/MS2 for GitHub Updated 26.05.2019/run-TAB/yiaG-1.ipynb\n",
      "--Execute--  /home/xsong/mg-wt/demo/MS2 for GitHub Updated 26.05.2019/run-TAB/ydjQ-1.ipynb\n",
      "--Execute--  /home/xsong/mg-wt/demo/MS2 for GitHub Updated 26.05.2019/run-TAB/fsr-1.ipynb\n",
      "--Execute--  /home/xsong/mg-wt/demo/MS2 for GitHub Updated 26.05.2019/run-TAB/paoB-1.ipynb\n",
      "--Execute--  /home/xsong/mg-wt/demo/MS2 for GitHub Updated 26.05.2019/run-TAB/appA-1.ipynb\n",
      "--Execute--  /home/xsong/mg-wt/demo/MS2 for GitHub Updated 26.05.2019/run-TAB/ssuA-1.ipynb\n",
      "--Execute--  /home/xsong/mg-wt/demo/MS2 for GitHub Updated 26.05.2019/run-TAB/flu-1.ipynb\n",
      "--Execute--  /home/xsong/mg-wt/demo/MS2 for GitHub Updated 26.05.2019/run-TAB/nsrR-1.ipynb\n",
      "--Execute--  /home/xsong/mg-wt/demo/MS2 for GitHub Updated 26.05.2019/run-TAB/yjeL-1.ipynb\n",
      "--Execute--  /home/xsong/mg-wt/demo/MS2 for GitHub Updated 26.05.2019/run-TAB/ldcC-1.ipynb\n",
      "--Execute--  /home/xsong/mg-wt/demo/MS2 for GitHub Updated 26.05.2019/run-TAB/treC-1.ipynb\n",
      "--Execute--  /home/xsong/mg-wt/demo/MS2 for GitHub Updated 26.05.2019/run-TAB/ykfI-1.ipynb\n",
      "--Execute--  /home/xsong/mg-wt/demo/MS2 for GitHub Updated 26.05.2019/run-TAB/citT-1.ipynb\n",
      "--Execute--  /home/xsong/mg-wt/demo/MS2 for GitHub Updated 26.05.2019/run-TAB/yihV-1.ipynb\n",
      "--Execute--  /home/xsong/mg-wt/demo/MS2 for GitHub Updated 26.05.2019/run-TAB/ycaD-1.ipynb\n",
      "--Execute--  /home/xsong/mg-wt/demo/MS2 for GitHub Updated 26.05.2019/run-TAB/yhbW-1.ipynb\n",
      "--Execute--  /home/xsong/mg-wt/demo/MS2 for GitHub Updated 26.05.2019/run-TAB/yggF-1.ipynb\n",
      "--Execute--  /home/xsong/mg-wt/demo/MS2 for GitHub Updated 26.05.2019/run-TAB/yagH-1.ipynb\n",
      "--Execute--  /home/xsong/mg-wt/demo/MS2 for GitHub Updated 26.05.2019/run-TAB/yihS-1.ipynb\n",
      "--Execute--  /home/xsong/mg-wt/demo/MS2 for GitHub Updated 26.05.2019/run-TAB/xdhC-1.ipynb\n",
      "--Execute--  /home/xsong/mg-wt/demo/MS2 for GitHub Updated 26.05.2019/run-TAB/ygfO-1.ipynb\n",
      "--Execute--  /home/xsong/mg-wt/demo/MS2 for GitHub Updated 26.05.2019/run-TAB/hycA-1.ipynb\n",
      "--Execute--  /home/xsong/mg-wt/demo/MS2 for GitHub Updated 26.05.2019/run-TAB/dnaT-1.ipynb\n",
      "--Execute--  /home/xsong/mg-wt/demo/MS2 for GitHub Updated 26.05.2019/run-TAB/yjfF-1.ipynb\n",
      "--Execute--  /home/xsong/mg-wt/demo/MS2 for GitHub Updated 26.05.2019/run-TAB/osmY-1.ipynb\n",
      "--Execute--  /home/xsong/mg-wt/demo/MS2 for GitHub Updated 26.05.2019/run-TAB/dcp-1.ipynb\n",
      "--Execute--  /home/xsong/mg-wt/demo/MS2 for GitHub Updated 26.05.2019/run-TAB/yjfC-1.ipynb\n",
      "--Execute--  /home/xsong/mg-wt/demo/MS2 for GitHub Updated 26.05.2019/run-TAB/ybgD-1.ipynb\n",
      "--Execute--  /home/xsong/mg-wt/demo/MS2 for GitHub Updated 26.05.2019/run-TAB/agaV-1.ipynb\n",
      "--Execute--  /home/xsong/mg-wt/demo/MS2 for GitHub Updated 26.05.2019/run-TAB/yeeW-1.ipynb\n",
      "--Execute--  /home/xsong/mg-wt/demo/MS2 for GitHub Updated 26.05.2019/run-TAB/ptsH-1.ipynb\n",
      "--Execute--  /home/xsong/mg-wt/demo/MS2 for GitHub Updated 26.05.2019/run-TAB/fkpA-1.ipynb\n",
      "--Execute--  /home/xsong/mg-wt/demo/MS2 for GitHub Updated 26.05.2019/run-TAB/ycaL-1.ipynb\n",
      "--Execute--  /home/xsong/mg-wt/demo/MS2 for GitHub Updated 26.05.2019/run-TAB/alr-1.ipynb\n",
      "--Execute--  /home/xsong/mg-wt/demo/MS2 for GitHub Updated 26.05.2019/run-TAB/yagL-1.ipynb\n",
      "--Execute--  /home/xsong/mg-wt/demo/MS2 for GitHub Updated 26.05.2019/run-TAB/yafX-1.ipynb\n",
      "--Execute--  /home/xsong/mg-wt/demo/MS2 for GitHub Updated 26.05.2019/run-TAB/yigZ-1.ipynb\n",
      "--Execute--  /home/xsong/mg-wt/demo/MS2 for GitHub Updated 26.05.2019/run-TAB/gspL-1.ipynb\n",
      "--Execute--  /home/xsong/mg-wt/demo/MS2 for GitHub Updated 26.05.2019/run-TAB/norW-1.ipynb\n",
      "--Execute--  /home/xsong/mg-wt/demo/MS2 for GitHub Updated 26.05.2019/run-TAB/yigL-1.ipynb\n",
      "--Execute--  /home/xsong/mg-wt/demo/MS2 for GitHub Updated 26.05.2019/run-TAB/yehA-1.ipynb\n",
      "--Execute--  /home/xsong/mg-wt/demo/MS2 for GitHub Updated 26.05.2019/run-TAB/yqjE-1.ipynb\n",
      "--Execute--  /home/xsong/mg-wt/demo/MS2 for GitHub Updated 26.05.2019/run-TAB/sugE-1.ipynb\n",
      "--Execute--  /home/xsong/mg-wt/demo/MS2 for GitHub Updated 26.05.2019/run-TAB/rarD-1.ipynb\n",
      "--Execute--  /home/xsong/mg-wt/demo/MS2 for GitHub Updated 26.05.2019/run-TAB/yfjO-1.ipynb\n",
      "--Execute--  /home/xsong/mg-wt/demo/MS2 for GitHub Updated 26.05.2019/run-TAB/appB-1.ipynb\n",
      "--Execute--  /home/xsong/mg-wt/demo/MS2 for GitHub Updated 26.05.2019/run-TAB/tyrB-1.ipynb\n",
      "--Execute--  /home/xsong/mg-wt/demo/MS2 for GitHub Updated 26.05.2019/run-TAB/idnD-1.ipynb\n",
      "--Execute--  /home/xsong/mg-wt/demo/MS2 for GitHub Updated 26.05.2019/run-TAB/yhbP-1.ipynb\n",
      "--Execute--  /home/xsong/mg-wt/demo/MS2 for GitHub Updated 26.05.2019/run-TAB/fruR-1.ipynb\n",
      "--Execute--  /home/xsong/mg-wt/demo/MS2 for GitHub Updated 26.05.2019/run-TAB/yicM-1.ipynb\n",
      "--Execute--  /home/xsong/mg-wt/demo/MS2 for GitHub Updated 26.05.2019/run-TAB/recF-1.ipynb\n",
      "--Execute--  /home/xsong/mg-wt/demo/MS2 for GitHub Updated 26.05.2019/run-TAB/ytfF-1.ipynb\n",
      "--Execute--  /home/xsong/mg-wt/demo/MS2 for GitHub Updated 26.05.2019/run-TAB/ydcP-1.ipynb\n",
      "--Execute--  /home/xsong/mg-wt/demo/MS2 for GitHub Updated 26.05.2019/run-TAB/ykfF-1.ipynb\n",
      "--Execute--  /home/xsong/mg-wt/demo/MS2 for GitHub Updated 26.05.2019/run-TAB/cstA-1.ipynb\n",
      "--Execute--  /home/xsong/mg-wt/demo/MS2 for GitHub Updated 26.05.2019/run-TAB/yidH-1.ipynb\n"
     ]
    },
    {
     "name": "stdout",
     "output_type": "stream",
     "text": [
      "--Execute--  /home/xsong/mg-wt/demo/MS2 for GitHub Updated 26.05.2019/run-TAB/gspM-1.ipynb\n",
      "--Execute--  /home/xsong/mg-wt/demo/MS2 for GitHub Updated 26.05.2019/run-TAB/sspA-1.ipynb\n",
      "--Execute--  /home/xsong/mg-wt/demo/MS2 for GitHub Updated 26.05.2019/run-TAB/ytfL-1.ipynb\n",
      "--Execute--  /home/xsong/mg-wt/demo/MS2 for GitHub Updated 26.05.2019/run-TAB/gspF-1.ipynb\n",
      "--Execute--  /home/xsong/mg-wt/demo/MS2 for GitHub Updated 26.05.2019/run-TAB/phnH-1.ipynb\n",
      "--Execute--  /home/xsong/mg-wt/demo/MS2 for GitHub Updated 26.05.2019/run-TAB/pflC-1.ipynb\n",
      "--Execute--  /home/xsong/mg-wt/demo/MS2 for GitHub Updated 26.05.2019/run-TAB/cbpM-1.ipynb\n",
      "--Execute--  /home/xsong/mg-wt/demo/MS2 for GitHub Updated 26.05.2019/run-TAB/agaA-1.ipynb\n",
      "--Execute--  /home/xsong/mg-wt/demo/MS2 for GitHub Updated 26.05.2019/run-TAB/hybG-1.ipynb\n",
      "--Execute--  /home/xsong/mg-wt/demo/MS2 for GitHub Updated 26.05.2019/run-TAB/yafV-1.ipynb\n",
      "--Execute--  /home/xsong/mg-wt/demo/MS2 for GitHub Updated 26.05.2019/run-TAB/yjgB-1.ipynb\n",
      "--Execute--  /home/xsong/mg-wt/demo/MS2 for GitHub Updated 26.05.2019/run-TAB/yphG-1.ipynb\n",
      "--Execute--  /home/xsong/mg-wt/demo/MS2 for GitHub Updated 26.05.2019/run-TAB/yiaW-1.ipynb\n",
      "--Execute--  /home/xsong/mg-wt/demo/MS2 for GitHub Updated 26.05.2019/run-TAB/gnsA-1.ipynb\n",
      "--Execute--  /home/xsong/mg-wt/demo/MS2 for GitHub Updated 26.05.2019/run-TAB/pfkA-1.ipynb\n",
      "--Execute--  /home/xsong/mg-wt/demo/MS2 for GitHub Updated 26.05.2019/run-TAB/agaR-1.ipynb\n",
      "--Execute--  /home/xsong/mg-wt/demo/MS2 for GitHub Updated 26.05.2019/run-TAB/yicH-1.ipynb\n",
      "--Execute--  /home/xsong/mg-wt/demo/MS2 for GitHub Updated 26.05.2019/run-TAB/lsrC-1.ipynb\n",
      "--Execute--  /home/xsong/mg-wt/demo/MS2 for GitHub Updated 26.05.2019/run-TAB/yfbM-1.ipynb\n",
      "--Execute--  /home/xsong/mg-wt/demo/MS2 for GitHub Updated 26.05.2019/run-TAB/eutQ-1.ipynb\n",
      "--Execute--  /home/xsong/mg-wt/demo/MS2 for GitHub Updated 26.05.2019/run-TAB/yobH-1.ipynb\n",
      "--Execute--  /home/xsong/mg-wt/demo/MS2 for GitHub Updated 26.05.2019/run-TAB/gltD-1.ipynb\n",
      "--Execute--  /home/xsong/mg-wt/demo/MS2 for GitHub Updated 26.05.2019/run-TAB/ynaA-1.ipynb\n",
      "--Execute--  /home/xsong/mg-wt/demo/MS2 for GitHub Updated 26.05.2019/run-TAB/ygjP-1.ipynb\n",
      "--Execute--  /home/xsong/mg-wt/demo/MS2 for GitHub Updated 26.05.2019/run-TAB/ulaD-1.ipynb\n",
      "--Execute--  /home/xsong/mg-wt/demo/MS2 for GitHub Updated 26.05.2019/run-TAB/yagQ-1.ipynb\n",
      "--Execute--  /home/xsong/mg-wt/demo/MS2 for GitHub Updated 26.05.2019/run-TAB/ydjK-1.ipynb\n",
      "--Execute--  /home/xsong/mg-wt/demo/MS2 for GitHub Updated 26.05.2019/run-TAB/nagK-1.ipynb\n",
      "--Execute--  /home/xsong/mg-wt/demo/MS2 for GitHub Updated 26.05.2019/run-TAB/tdcE-1.ipynb\n",
      "--Execute--  /home/xsong/mg-wt/demo/MS2 for GitHub Updated 26.05.2019/run-TAB/rsd-1.ipynb\n",
      "--Execute--  /home/xsong/mg-wt/demo/MS2 for GitHub Updated 26.05.2019/run-TAB/atoS-1.ipynb\n",
      "--Execute--  /home/xsong/mg-wt/demo/MS2 for GitHub Updated 26.05.2019/run-TAB/yggE-1.ipynb\n",
      "--Execute--  /home/xsong/mg-wt/demo/MS2 for GitHub Updated 26.05.2019/run-TAB/glpX-1.ipynb\n"
     ]
    }
   ],
   "source": [
    "IPythonNotebookGenerator.execute(oPath)"
   ]
  },
  {
   "cell_type": "markdown",
   "metadata": {},
   "source": [
    "# generate Mortality Distribution ipython file, modify the input in the file"
   ]
  },
  {
   "cell_type": "code",
   "execution_count": 11,
   "metadata": {
    "scrolled": true
   },
   "outputs": [
    {
     "name": "stdout",
     "output_type": "stream",
     "text": [
      "/home/xsong/mg-wt/dataset/MG-WT/MG_WT_CLUSTER_0_df_relative_timegrid.pickle\n",
      "remove file :  /home/xsong/mg-wt/dataset/MS2 for GitHub Updated 26.05.2019/ptsH/MD-TA_ptsH-1_df_relative_timegrid-vs-TA_ptsH-1_timeseries_dataframe-vs-MG_WT_CLUSTER_0_df_relative_timegrid_KM_NA_BSH_GGMfit.png\n",
      "remove file :  /home/xsong/mg-wt/dataset/MS2 for GitHub Updated 26.05.2019/ptsH/MD-TA_ptsH-1_df_relative_timegrid-vs-TA_ptsH-1_timeseries_dataframe-vs-MG_WT_CLUSTER_0_df_relative_timegrid_GG_GGM_parameters.txt\n",
      "remove file :  /home/xsong/mg-wt/dataset/MS2 for GitHub Updated 26.05.2019/ptsH/MD-TA_ptsH-1_df_relative_timegrid-vs-TA_ptsH-1_timeseries_dataframe-vs-MG_WT_CLUSTER_0_df_relative_timegrid_KM_NA_BSH_GGMfit_LogScale.png\n",
      "remove file :  /home/xsong/mg-wt/dataset/MS2 for GitHub Updated 26.05.2019/cbpM/MD-TA_cbpM-1_df_relative_timegrid-vs-TA_cbpM-1_timeseries_dataframe-vs-MG_WT_CLUSTER_0_df_relative_timegrid_KM_NA_BSH_GGMfit.png\n",
      "remove file :  /home/xsong/mg-wt/dataset/MS2 for GitHub Updated 26.05.2019/cbpM/MD-TA_cbpM-1_df_relative_timegrid-vs-TA_cbpM-1_timeseries_dataframe-vs-MG_WT_CLUSTER_0_df_relative_timegrid_GG_GGM_parameters.txt\n",
      "remove file :  /home/xsong/mg-wt/dataset/MS2 for GitHub Updated 26.05.2019/cbpM/MD-TA_cbpM-1_df_relative_timegrid-vs-TA_cbpM-1_timeseries_dataframe-vs-MG_WT_CLUSTER_0_df_relative_timegrid_KM_NA_BSH_GGMfit_LogScale.png\n"
     ]
    }
   ],
   "source": [
    "oPath =os.path.join(res_folder,'run-MD')\n",
    "data_folder_path = current_path#'/Users/songxiaohu/Desktop/githubYfan/PIMortalityAnalysis/xsong/main/test dataset/new data ana/'\n",
    "if use_mg_wt:\n",
    "    ref_df_path = os.path.join(MG_WT_path,'MG_WT_CLUSTER_0_df_relative_timegrid.pickle')\n",
    "else:\n",
    "    ref_df_path=os.path.join(prev_path,'WT/WT-1_df_relative_timegrid.pickle')\n",
    "print ref_df_path\n",
    "IPythonNotebookGenerator.run_MD(python_class_path,oPath,data_folder_path,ref_df_path)"
   ]
  },
  {
   "cell_type": "code",
   "execution_count": 12,
   "metadata": {},
   "outputs": [
    {
     "name": "stdout",
     "output_type": "stream",
     "text": [
      "---Execute ipython code---\n",
      "--Execute--  /home/xsong/mg-wt/demo/MS2 for GitHub Updated 26.05.2019/run-MD/Mortality_distribution.ipynb\n"
     ]
    }
   ],
   "source": [
    "IPythonNotebookGenerator.execute(oPath)"
   ]
  },
  {
   "cell_type": "markdown",
   "metadata": {},
   "source": [
    "# Check Replication\n"
   ]
  },
  {
   "cell_type": "code",
   "execution_count": 13,
   "metadata": {},
   "outputs": [
    {
     "name": "stdout",
     "output_type": "stream",
     "text": [
      "/home/xsong/mg-wt/demo/MS2 for GitHub Updated 26.05.2019/run-CR\n"
     ]
    }
   ],
   "source": [
    "oPath = os.path.join(res_folder,'run-CR')\n",
    "folderPath = current_path\n",
    "if use_mg_wt:\n",
    "    path_ref_folder = os.path.split(MG_WT_path)[0]\n",
    "else:\n",
    "    path_ref_folder = os.path.join(prev_path,'WT')\n",
    "IPythonNotebookGenerator.run_CR(python_class_path,oPath,folderPath,path_ref_folder,cutoff)"
   ]
  },
  {
   "cell_type": "code",
   "execution_count": 14,
   "metadata": {},
   "outputs": [
    {
     "name": "stdout",
     "output_type": "stream",
     "text": [
      "---Execute ipython code---\n",
      "--Execute--  /home/xsong/mg-wt/demo/MS2 for GitHub Updated 26.05.2019/run-CR/Check_replication.ipynb\n"
     ]
    },
    {
     "ename": "KeyboardInterrupt",
     "evalue": "",
     "output_type": "error",
     "traceback": [
      "\u001b[0;31m---------------------------------------------------------------------------\u001b[0m",
      "\u001b[0;31mKeyboardInterrupt\u001b[0m                         Traceback (most recent call last)",
      "\u001b[0;32m<ipython-input-14-765ee562b514>\u001b[0m in \u001b[0;36m<module>\u001b[0;34m()\u001b[0m\n\u001b[0;32m----> 1\u001b[0;31m \u001b[0mIPythonNotebookGenerator\u001b[0m\u001b[0;34m.\u001b[0m\u001b[0mexecute\u001b[0m\u001b[0;34m(\u001b[0m\u001b[0moPath\u001b[0m\u001b[0;34m)\u001b[0m\u001b[0;34m\u001b[0m\u001b[0m\n\u001b[0m",
      "\u001b[0;32m/home/xsong/mg-wt/IPython_generator.pyc\u001b[0m in \u001b[0;36mexecute\u001b[0;34m(folder_path, filterNames)\u001b[0m\n\u001b[1;32m    352\u001b[0m \u001b[0;34m\u001b[0m\u001b[0m\n\u001b[1;32m    353\u001b[0m         \u001b[0mpaths\u001b[0m \u001b[0;34m=\u001b[0m \u001b[0mIPythonNotebookGenerator\u001b[0m\u001b[0;34m.\u001b[0m\u001b[0mlistFilesFromFolder\u001b[0m\u001b[0;34m(\u001b[0m\u001b[0mfolder_path\u001b[0m\u001b[0;34m)\u001b[0m\u001b[0;34m\u001b[0m\u001b[0m\n\u001b[0;32m--> 354\u001b[0;31m         \u001b[0mIPythonNotebookGenerator\u001b[0m\u001b[0;34m.\u001b[0m\u001b[0mcallPython\u001b[0m\u001b[0;34m(\u001b[0m\u001b[0mpaths\u001b[0m\u001b[0;34m,\u001b[0m\u001b[0mfilterNames\u001b[0m\u001b[0;34m)\u001b[0m\u001b[0;34m\u001b[0m\u001b[0m\n\u001b[0m\u001b[1;32m    355\u001b[0m \u001b[0;34m\u001b[0m\u001b[0m\n\u001b[1;32m    356\u001b[0m     \u001b[0;34m@\u001b[0m\u001b[0mstaticmethod\u001b[0m\u001b[0;34m\u001b[0m\u001b[0m\n",
      "\u001b[0;32m/home/xsong/mg-wt/IPython_generator.pyc\u001b[0m in \u001b[0;36mcallPython\u001b[0;34m(paths, filterList)\u001b[0m\n\u001b[1;32m    574\u001b[0m         \u001b[0;32mfor\u001b[0m \u001b[0mp\u001b[0m \u001b[0;32min\u001b[0m \u001b[0mpath_filtered\u001b[0m\u001b[0;34m:\u001b[0m\u001b[0;34m\u001b[0m\u001b[0m\n\u001b[1;32m    575\u001b[0m             \u001b[0;32mprint\u001b[0m \u001b[0;34m\"--Execute-- \"\u001b[0m\u001b[0;34m,\u001b[0m\u001b[0mp\u001b[0m\u001b[0;34m\u001b[0m\u001b[0m\n\u001b[0;32m--> 576\u001b[0;31m             \u001b[0mIPythonNotebookGenerator\u001b[0m\u001b[0;34m.\u001b[0m\u001b[0mrunIpython\u001b[0m\u001b[0;34m(\u001b[0m\u001b[0mp\u001b[0m\u001b[0;34m)\u001b[0m\u001b[0;34m\u001b[0m\u001b[0m\n\u001b[0m\u001b[1;32m    577\u001b[0m \u001b[0;34m\u001b[0m\u001b[0m\n\u001b[1;32m    578\u001b[0m \u001b[0;34m\u001b[0m\u001b[0m\n",
      "\u001b[0;32m/home/xsong/mg-wt/IPython_generator.pyc\u001b[0m in \u001b[0;36mrunIpython\u001b[0;34m(path)\u001b[0m\n\u001b[1;32m    547\u001b[0m     \u001b[0;32mdef\u001b[0m \u001b[0mrunIpython\u001b[0m\u001b[0;34m(\u001b[0m\u001b[0mpath\u001b[0m\u001b[0;34m)\u001b[0m\u001b[0;34m:\u001b[0m\u001b[0;34m\u001b[0m\u001b[0m\n\u001b[1;32m    548\u001b[0m         \u001b[0;32mimport\u001b[0m \u001b[0msubprocess\u001b[0m\u001b[0;34m\u001b[0m\u001b[0m\n\u001b[0;32m--> 549\u001b[0;31m         \u001b[0mp\u001b[0m \u001b[0;34m=\u001b[0m \u001b[0msubprocess\u001b[0m\u001b[0;34m.\u001b[0m\u001b[0mcheck_call\u001b[0m\u001b[0;34m(\u001b[0m\u001b[0;34m[\u001b[0m\u001b[0;34m'jupyter'\u001b[0m \u001b[0;34m,\u001b[0m\u001b[0;34m'nbconvert'\u001b[0m\u001b[0;34m,\u001b[0m \u001b[0;34m'--execute'\u001b[0m\u001b[0;34m,\u001b[0m \u001b[0;34m'--inplace'\u001b[0m\u001b[0;34m,\u001b[0m\u001b[0;34m'--ExecutePreprocessor.timeout=-1'\u001b[0m\u001b[0;34m,\u001b[0m\u001b[0mpath\u001b[0m\u001b[0;34m]\u001b[0m\u001b[0;34m)\u001b[0m\u001b[0;34m\u001b[0m\u001b[0m\n\u001b[0m\u001b[1;32m    550\u001b[0m         \u001b[0;32mif\u001b[0m \u001b[0mp\u001b[0m\u001b[0;34m:\u001b[0m\u001b[0;34m\u001b[0m\u001b[0m\n\u001b[1;32m    551\u001b[0m             \u001b[0;32mprint\u001b[0m \u001b[0;34m\"Raise Call Error : \"\u001b[0m\u001b[0;34m,\u001b[0m \u001b[0mpath\u001b[0m\u001b[0;34m\u001b[0m\u001b[0m\n",
      "\u001b[0;32m/home/xsong/miniconda2/lib/python2.7/subprocess.pyc\u001b[0m in \u001b[0;36mcheck_call\u001b[0;34m(*popenargs, **kwargs)\u001b[0m\n\u001b[1;32m    183\u001b[0m     \u001b[0mcheck_call\u001b[0m\u001b[0;34m(\u001b[0m\u001b[0;34m[\u001b[0m\u001b[0;34m\"ls\"\u001b[0m\u001b[0;34m,\u001b[0m \u001b[0;34m\"-l\"\u001b[0m\u001b[0;34m]\u001b[0m\u001b[0;34m)\u001b[0m\u001b[0;34m\u001b[0m\u001b[0m\n\u001b[1;32m    184\u001b[0m     \"\"\"\n\u001b[0;32m--> 185\u001b[0;31m     \u001b[0mretcode\u001b[0m \u001b[0;34m=\u001b[0m \u001b[0mcall\u001b[0m\u001b[0;34m(\u001b[0m\u001b[0;34m*\u001b[0m\u001b[0mpopenargs\u001b[0m\u001b[0;34m,\u001b[0m \u001b[0;34m**\u001b[0m\u001b[0mkwargs\u001b[0m\u001b[0;34m)\u001b[0m\u001b[0;34m\u001b[0m\u001b[0m\n\u001b[0m\u001b[1;32m    186\u001b[0m     \u001b[0;32mif\u001b[0m \u001b[0mretcode\u001b[0m\u001b[0;34m:\u001b[0m\u001b[0;34m\u001b[0m\u001b[0m\n\u001b[1;32m    187\u001b[0m         \u001b[0mcmd\u001b[0m \u001b[0;34m=\u001b[0m \u001b[0mkwargs\u001b[0m\u001b[0;34m.\u001b[0m\u001b[0mget\u001b[0m\u001b[0;34m(\u001b[0m\u001b[0;34m\"args\"\u001b[0m\u001b[0;34m)\u001b[0m\u001b[0;34m\u001b[0m\u001b[0m\n",
      "\u001b[0;32m/home/xsong/miniconda2/lib/python2.7/subprocess.pyc\u001b[0m in \u001b[0;36mcall\u001b[0;34m(*popenargs, **kwargs)\u001b[0m\n\u001b[1;32m    170\u001b[0m     \u001b[0mretcode\u001b[0m \u001b[0;34m=\u001b[0m \u001b[0mcall\u001b[0m\u001b[0;34m(\u001b[0m\u001b[0;34m[\u001b[0m\u001b[0;34m\"ls\"\u001b[0m\u001b[0;34m,\u001b[0m \u001b[0;34m\"-l\"\u001b[0m\u001b[0;34m]\u001b[0m\u001b[0;34m)\u001b[0m\u001b[0;34m\u001b[0m\u001b[0m\n\u001b[1;32m    171\u001b[0m     \"\"\"\n\u001b[0;32m--> 172\u001b[0;31m     \u001b[0;32mreturn\u001b[0m \u001b[0mPopen\u001b[0m\u001b[0;34m(\u001b[0m\u001b[0;34m*\u001b[0m\u001b[0mpopenargs\u001b[0m\u001b[0;34m,\u001b[0m \u001b[0;34m**\u001b[0m\u001b[0mkwargs\u001b[0m\u001b[0;34m)\u001b[0m\u001b[0;34m.\u001b[0m\u001b[0mwait\u001b[0m\u001b[0;34m(\u001b[0m\u001b[0;34m)\u001b[0m\u001b[0;34m\u001b[0m\u001b[0m\n\u001b[0m\u001b[1;32m    173\u001b[0m \u001b[0;34m\u001b[0m\u001b[0m\n\u001b[1;32m    174\u001b[0m \u001b[0;34m\u001b[0m\u001b[0m\n",
      "\u001b[0;32m/home/xsong/miniconda2/lib/python2.7/subprocess.pyc\u001b[0m in \u001b[0;36mwait\u001b[0;34m(self)\u001b[0m\n\u001b[1;32m   1097\u001b[0m             \u001b[0;32mwhile\u001b[0m \u001b[0mself\u001b[0m\u001b[0;34m.\u001b[0m\u001b[0mreturncode\u001b[0m \u001b[0;32mis\u001b[0m \u001b[0mNone\u001b[0m\u001b[0;34m:\u001b[0m\u001b[0;34m\u001b[0m\u001b[0m\n\u001b[1;32m   1098\u001b[0m                 \u001b[0;32mtry\u001b[0m\u001b[0;34m:\u001b[0m\u001b[0;34m\u001b[0m\u001b[0m\n\u001b[0;32m-> 1099\u001b[0;31m                     \u001b[0mpid\u001b[0m\u001b[0;34m,\u001b[0m \u001b[0msts\u001b[0m \u001b[0;34m=\u001b[0m \u001b[0m_eintr_retry_call\u001b[0m\u001b[0;34m(\u001b[0m\u001b[0mos\u001b[0m\u001b[0;34m.\u001b[0m\u001b[0mwaitpid\u001b[0m\u001b[0;34m,\u001b[0m \u001b[0mself\u001b[0m\u001b[0;34m.\u001b[0m\u001b[0mpid\u001b[0m\u001b[0;34m,\u001b[0m \u001b[0;36m0\u001b[0m\u001b[0;34m)\u001b[0m\u001b[0;34m\u001b[0m\u001b[0m\n\u001b[0m\u001b[1;32m   1100\u001b[0m                 \u001b[0;32mexcept\u001b[0m \u001b[0mOSError\u001b[0m \u001b[0;32mas\u001b[0m \u001b[0me\u001b[0m\u001b[0;34m:\u001b[0m\u001b[0;34m\u001b[0m\u001b[0m\n\u001b[1;32m   1101\u001b[0m                     \u001b[0;32mif\u001b[0m \u001b[0me\u001b[0m\u001b[0;34m.\u001b[0m\u001b[0merrno\u001b[0m \u001b[0;34m!=\u001b[0m \u001b[0merrno\u001b[0m\u001b[0;34m.\u001b[0m\u001b[0mECHILD\u001b[0m\u001b[0;34m:\u001b[0m\u001b[0;34m\u001b[0m\u001b[0m\n",
      "\u001b[0;32m/home/xsong/miniconda2/lib/python2.7/subprocess.pyc\u001b[0m in \u001b[0;36m_eintr_retry_call\u001b[0;34m(func, *args)\u001b[0m\n\u001b[1;32m    123\u001b[0m     \u001b[0;32mwhile\u001b[0m \u001b[0mTrue\u001b[0m\u001b[0;34m:\u001b[0m\u001b[0;34m\u001b[0m\u001b[0m\n\u001b[1;32m    124\u001b[0m         \u001b[0;32mtry\u001b[0m\u001b[0;34m:\u001b[0m\u001b[0;34m\u001b[0m\u001b[0m\n\u001b[0;32m--> 125\u001b[0;31m             \u001b[0;32mreturn\u001b[0m \u001b[0mfunc\u001b[0m\u001b[0;34m(\u001b[0m\u001b[0;34m*\u001b[0m\u001b[0margs\u001b[0m\u001b[0;34m)\u001b[0m\u001b[0;34m\u001b[0m\u001b[0m\n\u001b[0m\u001b[1;32m    126\u001b[0m         \u001b[0;32mexcept\u001b[0m \u001b[0;34m(\u001b[0m\u001b[0mOSError\u001b[0m\u001b[0;34m,\u001b[0m \u001b[0mIOError\u001b[0m\u001b[0;34m)\u001b[0m \u001b[0;32mas\u001b[0m \u001b[0me\u001b[0m\u001b[0;34m:\u001b[0m\u001b[0;34m\u001b[0m\u001b[0m\n\u001b[1;32m    127\u001b[0m             \u001b[0;32mif\u001b[0m \u001b[0me\u001b[0m\u001b[0;34m.\u001b[0m\u001b[0merrno\u001b[0m \u001b[0;34m==\u001b[0m \u001b[0merrno\u001b[0m\u001b[0;34m.\u001b[0m\u001b[0mEINTR\u001b[0m\u001b[0;34m:\u001b[0m\u001b[0;34m\u001b[0m\u001b[0m\n",
      "\u001b[0;31mKeyboardInterrupt\u001b[0m: "
     ]
    }
   ],
   "source": [
    "IPythonNotebookGenerator.execute(oPath)"
   ]
  },
  {
   "cell_type": "markdown",
   "metadata": {},
   "source": [
    "# GG GGM Selector"
   ]
  },
  {
   "cell_type": "code",
   "execution_count": 2,
   "metadata": {},
   "outputs": [
    {
     "name": "stdout",
     "output_type": "stream",
     "text": [
      "/home/xsong/mg-wt/demo/MS2 for GitHub Updated 26.05.2019/run-SELECTOR\n"
     ]
    }
   ],
   "source": [
    "oPath = os.path.join(res_folder,'run-SELECTOR')\n",
    "data_folder_path = current_path\n",
    "IPythonNotebookGenerator.run_SELECTOR(python_class_path,oPath,data_folder_path)"
   ]
  },
  {
   "cell_type": "code",
   "execution_count": 3,
   "metadata": {},
   "outputs": [
    {
     "name": "stdout",
     "output_type": "stream",
     "text": [
      "---Execute ipython code---\n",
      "--Execute--  /home/xsong/mg-wt/demo/MS2 for GitHub Updated 26.05.2019/run-SELECTOR/GG_GGM_Selector.ipynb\n"
     ]
    },
    {
     "ename": "CalledProcessError",
     "evalue": "Command '['jupyter', 'nbconvert', '--execute', '--inplace', '--ExecutePreprocessor.timeout=-1', '/home/xsong/mg-wt/demo/MS2 for GitHub Updated 26.05.2019/run-SELECTOR/GG_GGM_Selector.ipynb']' returned non-zero exit status 1",
     "output_type": "error",
     "traceback": [
      "\u001b[0;31m---------------------------------------------------------------------------\u001b[0m",
      "\u001b[0;31mCalledProcessError\u001b[0m                        Traceback (most recent call last)",
      "\u001b[0;32m<ipython-input-3-765ee562b514>\u001b[0m in \u001b[0;36m<module>\u001b[0;34m()\u001b[0m\n\u001b[0;32m----> 1\u001b[0;31m \u001b[0mIPythonNotebookGenerator\u001b[0m\u001b[0;34m.\u001b[0m\u001b[0mexecute\u001b[0m\u001b[0;34m(\u001b[0m\u001b[0moPath\u001b[0m\u001b[0;34m)\u001b[0m\u001b[0;34m\u001b[0m\u001b[0m\n\u001b[0m",
      "\u001b[0;32m/home/xsong/mg-wt/IPython_generator.pyc\u001b[0m in \u001b[0;36mexecute\u001b[0;34m(folder_path, filterNames)\u001b[0m\n\u001b[1;32m    352\u001b[0m \u001b[0;34m\u001b[0m\u001b[0m\n\u001b[1;32m    353\u001b[0m         \u001b[0mpaths\u001b[0m \u001b[0;34m=\u001b[0m \u001b[0mIPythonNotebookGenerator\u001b[0m\u001b[0;34m.\u001b[0m\u001b[0mlistFilesFromFolder\u001b[0m\u001b[0;34m(\u001b[0m\u001b[0mfolder_path\u001b[0m\u001b[0;34m)\u001b[0m\u001b[0;34m\u001b[0m\u001b[0m\n\u001b[0;32m--> 354\u001b[0;31m         \u001b[0mIPythonNotebookGenerator\u001b[0m\u001b[0;34m.\u001b[0m\u001b[0mcallPython\u001b[0m\u001b[0;34m(\u001b[0m\u001b[0mpaths\u001b[0m\u001b[0;34m,\u001b[0m\u001b[0mfilterNames\u001b[0m\u001b[0;34m)\u001b[0m\u001b[0;34m\u001b[0m\u001b[0m\n\u001b[0m\u001b[1;32m    355\u001b[0m \u001b[0;34m\u001b[0m\u001b[0m\n\u001b[1;32m    356\u001b[0m     \u001b[0;34m@\u001b[0m\u001b[0mstaticmethod\u001b[0m\u001b[0;34m\u001b[0m\u001b[0m\n",
      "\u001b[0;32m/home/xsong/mg-wt/IPython_generator.pyc\u001b[0m in \u001b[0;36mcallPython\u001b[0;34m(paths, filterList)\u001b[0m\n\u001b[1;32m    574\u001b[0m         \u001b[0;32mfor\u001b[0m \u001b[0mp\u001b[0m \u001b[0;32min\u001b[0m \u001b[0mpath_filtered\u001b[0m\u001b[0;34m:\u001b[0m\u001b[0;34m\u001b[0m\u001b[0m\n\u001b[1;32m    575\u001b[0m             \u001b[0;32mprint\u001b[0m \u001b[0;34m\"--Execute-- \"\u001b[0m\u001b[0;34m,\u001b[0m\u001b[0mp\u001b[0m\u001b[0;34m\u001b[0m\u001b[0m\n\u001b[0;32m--> 576\u001b[0;31m             \u001b[0mIPythonNotebookGenerator\u001b[0m\u001b[0;34m.\u001b[0m\u001b[0mrunIpython\u001b[0m\u001b[0;34m(\u001b[0m\u001b[0mp\u001b[0m\u001b[0;34m)\u001b[0m\u001b[0;34m\u001b[0m\u001b[0m\n\u001b[0m\u001b[1;32m    577\u001b[0m \u001b[0;34m\u001b[0m\u001b[0m\n\u001b[1;32m    578\u001b[0m \u001b[0;34m\u001b[0m\u001b[0m\n",
      "\u001b[0;32m/home/xsong/mg-wt/IPython_generator.pyc\u001b[0m in \u001b[0;36mrunIpython\u001b[0;34m(path)\u001b[0m\n\u001b[1;32m    547\u001b[0m     \u001b[0;32mdef\u001b[0m \u001b[0mrunIpython\u001b[0m\u001b[0;34m(\u001b[0m\u001b[0mpath\u001b[0m\u001b[0;34m)\u001b[0m\u001b[0;34m:\u001b[0m\u001b[0;34m\u001b[0m\u001b[0m\n\u001b[1;32m    548\u001b[0m         \u001b[0;32mimport\u001b[0m \u001b[0msubprocess\u001b[0m\u001b[0;34m\u001b[0m\u001b[0m\n\u001b[0;32m--> 549\u001b[0;31m         \u001b[0mp\u001b[0m \u001b[0;34m=\u001b[0m \u001b[0msubprocess\u001b[0m\u001b[0;34m.\u001b[0m\u001b[0mcheck_call\u001b[0m\u001b[0;34m(\u001b[0m\u001b[0;34m[\u001b[0m\u001b[0;34m'jupyter'\u001b[0m \u001b[0;34m,\u001b[0m\u001b[0;34m'nbconvert'\u001b[0m\u001b[0;34m,\u001b[0m \u001b[0;34m'--execute'\u001b[0m\u001b[0;34m,\u001b[0m \u001b[0;34m'--inplace'\u001b[0m\u001b[0;34m,\u001b[0m\u001b[0;34m'--ExecutePreprocessor.timeout=-1'\u001b[0m\u001b[0;34m,\u001b[0m\u001b[0mpath\u001b[0m\u001b[0;34m]\u001b[0m\u001b[0;34m)\u001b[0m\u001b[0;34m\u001b[0m\u001b[0m\n\u001b[0m\u001b[1;32m    550\u001b[0m         \u001b[0;32mif\u001b[0m \u001b[0mp\u001b[0m\u001b[0;34m:\u001b[0m\u001b[0;34m\u001b[0m\u001b[0m\n\u001b[1;32m    551\u001b[0m             \u001b[0;32mprint\u001b[0m \u001b[0;34m\"Raise Call Error : \"\u001b[0m\u001b[0;34m,\u001b[0m \u001b[0mpath\u001b[0m\u001b[0;34m\u001b[0m\u001b[0m\n",
      "\u001b[0;32m/home/xsong/miniconda2/lib/python2.7/subprocess.pyc\u001b[0m in \u001b[0;36mcheck_call\u001b[0;34m(*popenargs, **kwargs)\u001b[0m\n\u001b[1;32m    188\u001b[0m         \u001b[0;32mif\u001b[0m \u001b[0mcmd\u001b[0m \u001b[0;32mis\u001b[0m \u001b[0mNone\u001b[0m\u001b[0;34m:\u001b[0m\u001b[0;34m\u001b[0m\u001b[0m\n\u001b[1;32m    189\u001b[0m             \u001b[0mcmd\u001b[0m \u001b[0;34m=\u001b[0m \u001b[0mpopenargs\u001b[0m\u001b[0;34m[\u001b[0m\u001b[0;36m0\u001b[0m\u001b[0;34m]\u001b[0m\u001b[0;34m\u001b[0m\u001b[0m\n\u001b[0;32m--> 190\u001b[0;31m         \u001b[0;32mraise\u001b[0m \u001b[0mCalledProcessError\u001b[0m\u001b[0;34m(\u001b[0m\u001b[0mretcode\u001b[0m\u001b[0;34m,\u001b[0m \u001b[0mcmd\u001b[0m\u001b[0;34m)\u001b[0m\u001b[0;34m\u001b[0m\u001b[0m\n\u001b[0m\u001b[1;32m    191\u001b[0m     \u001b[0;32mreturn\u001b[0m \u001b[0;36m0\u001b[0m\u001b[0;34m\u001b[0m\u001b[0m\n\u001b[1;32m    192\u001b[0m \u001b[0;34m\u001b[0m\u001b[0m\n",
      "\u001b[0;31mCalledProcessError\u001b[0m: Command '['jupyter', 'nbconvert', '--execute', '--inplace', '--ExecutePreprocessor.timeout=-1', '/home/xsong/mg-wt/demo/MS2 for GitHub Updated 26.05.2019/run-SELECTOR/GG_GGM_Selector.ipynb']' returned non-zero exit status 1"
     ]
    }
   ],
   "source": [
    "IPythonNotebookGenerator.execute(oPath)"
   ]
  },
  {
   "cell_type": "code",
   "execution_count": null,
   "metadata": {},
   "outputs": [],
   "source": []
  }
 ],
 "metadata": {
  "kernelspec": {
   "display_name": "Python 2",
   "language": "python",
   "name": "python2"
  },
  "language_info": {
   "codemirror_mode": {
    "name": "ipython",
    "version": 2
   },
   "file_extension": ".py",
   "mimetype": "text/x-python",
   "name": "python",
   "nbconvert_exporter": "python",
   "pygments_lexer": "ipython2",
   "version": "2.7.15"
  }
 },
 "nbformat": 4,
 "nbformat_minor": 1
}
