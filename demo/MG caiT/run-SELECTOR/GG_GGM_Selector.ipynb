{
 "cells": [
  {
   "cell_type": "markdown",
   "metadata": {},
   "source": [
    "# GG_GGM_SELECTOR Write the result to table\n",
    "    "
   ]
  },
  {
   "cell_type": "code",
   "execution_count": 1,
   "metadata": {},
   "outputs": [
    {
     "name": "stdout",
     "output_type": "stream",
     "text": [
      "create output folder :  /home/xsong/coliSurvivalAnalysis/xsong/main/test dataset/MG caiT/GG_GGM_TABLE\n",
      "[['/home/xsong/coliSurvivalAnalysis/xsong/main/test dataset/MG caiT/CR-TA_MG caiT-1_relative_timegrid_cluster0.pickle', '/home/xsong/coliSurvivalAnalysis/xsong/main/test dataset/MG caiT/CR-TA_MG caiT-1_mortality_dataframe_cluster0.pickle', 'CR-TA_MG caiT-1_']]\n",
      "CR-TA_MG caiT-1_\n"
     ]
    },
    {
     "name": "stderr",
     "output_type": "stream",
     "text": [
      "../../../cohortMortalitySummary.py:174: RuntimeWarning: invalid value encountered in divide\n",
      "  NA_lower = NelsonAalen * np.exp( norm.ppf(ALPHA/2)*np.sqrt(NA_var)/NelsonAalen )\n",
      "../../../cohortMortalitySummary.py:175: RuntimeWarning: invalid value encountered in divide\n",
      "  NA_upper = NelsonAalen * np.exp( norm.ppf(1-ALPHA/2)*np.sqrt(NA_var)/NelsonAalen )\n"
     ]
    },
    {
     "name": "stdout",
     "output_type": "stream",
     "text": [
      "----------- /home/xsong/coliSurvivalAnalysis/xsong/main/test dataset/MG caiT/GG_GGM_TABLE/CR-TA_MG caiT-1_.txt\n",
      "No error in flxsrv_fit\n",
      "1542.04010515\n",
      "5\n",
      "1 ['2014-05-06 00:00:00']\n",
      "No error in flxsrv_fit\n",
      "0.0272118130946 1.0\n",
      "No error in flxsrv_fit\n",
      "\u001b[31m\"ERROR in step ggmStats(df)\"\u001b[0m\n",
      "N/A, choose GGM due to AIC\n"
     ]
    },
    {
     "name": "stderr",
     "output_type": "stream",
     "text": [
      "/home/xsong/miniconda2/lib/python2.7/site-packages/rpy2/rinterface/__init__.py:186: RRuntimeWarning: Error in (function (x, B, newdata = NULL, X = NULL, transform = FALSE,  : \n",
      "  Covariance matrix not available from non-converged model\n",
      "\n",
      "  warnings.warn(x, RRuntimeWarning)\n",
      "/home/xsong/miniconda2/lib/python2.7/site-packages/rpy2/rinterface/__init__.py:186: RRuntimeWarning: In addition: \n",
      "  warnings.warn(x, RRuntimeWarning)\n",
      "/home/xsong/miniconda2/lib/python2.7/site-packages/rpy2/rinterface/__init__.py:186: RRuntimeWarning: There were 50 or more warnings (use warnings() to see the first 50)\n",
      "  warnings.warn(x, RRuntimeWarning)\n",
      "/home/xsong/miniconda2/lib/python2.7/site-packages/rpy2/rinterface/__init__.py:186: RRuntimeWarning: \n",
      "\n",
      "  warnings.warn(x, RRuntimeWarning)\n"
     ]
    }
   ],
   "source": [
    "import sys,os\n",
    "python_class_path='/home/xsong/coliSurvivalAnalysis/xsong/main'\n",
    "sys.path.insert(1, os.path.join(sys.path[0], python_class_path))\n",
    "from Selector_GG_GGM import GG_GGM_Selector\n",
    "data_folder = '/home/xsong/coliSurvivalAnalysis/xsong/main/test dataset/MG caiT'\n",
    "out_folder = '/home/xsong/coliSurvivalAnalysis/xsong/main/test dataset/MG caiT/GG_GGM_TABLE'\n",
    "gg_ggm_selector = GG_GGM_Selector(data_folder,out_folder)\n",
    "gg_ggm_selector.run()"
   ]
  }
 ],
 "metadata": {},
 "nbformat": 4,
 "nbformat_minor": 2
}
