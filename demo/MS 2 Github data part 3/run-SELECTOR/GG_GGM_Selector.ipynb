{
 "cells": [
  {
   "cell_type": "markdown",
   "metadata": {},
   "source": [
    "# GG_GGM_SELECTOR Write the result to table\n",
    "    "
   ]
  },
  {
   "cell_type": "code",
   "execution_count": 1,
   "metadata": {},
   "outputs": [
    {
     "name": "stdout",
     "output_type": "stream",
     "text": [
      "create output folder :  /home/xsong/mg-wt/dataset/MS 2 Github data part 3/GG_GGM_TABLE\n",
      "[['/home/xsong/mg-wt/dataset/MS 2 Github data part 3/sgcQ/CR-TA_sgcQ-1_relative_timegrid_cluster0.pickle', '/home/xsong/mg-wt/dataset/MS 2 Github data part 3/sgcQ/CR-TA_sgcQ-1_mortality_dataframe_cluster0.pickle', 'CR-TA_sgcQ-1_'], ['/home/xsong/mg-wt/dataset/MS 2 Github data part 3/yajQ/CR-TA_yajQ-1_relative_timegrid_cluster0.pickle', '/home/xsong/mg-wt/dataset/MS 2 Github data part 3/yajQ/CR-TA_yajQ-1_mortality_dataframe_cluster0.pickle', 'CR-TA_yajQ-1_'], ['/home/xsong/mg-wt/dataset/MS 2 Github data part 3/ybiT/CR-TA_ybiT-1_mortality_dataframe_cluster0.pickle', '/home/xsong/mg-wt/dataset/MS 2 Github data part 3/ybiT/CR-TA_ybiT-1_relative_timegrid_cluster0.pickle', 'CR-TA_ybiT-1_'], ['/home/xsong/mg-wt/dataset/MS 2 Github data part 3/nirC/CR-TA_nirC-1_relative_timegrid_cluster0.pickle', '/home/xsong/mg-wt/dataset/MS 2 Github data part 3/nirC/CR-TA_nirC-1_mortality_dataframe_cluster0.pickle', 'CR-TA_nirC-1_'], ['/home/xsong/mg-wt/dataset/MS 2 Github data part 3/paaC/CR-TA_paaC-1_relative_timegrid_cluster0.pickle', '/home/xsong/mg-wt/dataset/MS 2 Github data part 3/paaC/CR-TA_paaC-1_mortality_dataframe_cluster0.pickle', 'CR-TA_paaC-1_']]\n",
      "CR-TA_sgcQ-1_\n"
     ]
    },
    {
     "name": "stderr",
     "output_type": "stream",
     "text": [
      "../../../cohortMortalitySummary.py:174: RuntimeWarning: invalid value encountered in divide\n",
      "  NA_lower = NelsonAalen * np.exp( norm.ppf(ALPHA/2)*np.sqrt(NA_var)/NelsonAalen )\n",
      "../../../cohortMortalitySummary.py:175: RuntimeWarning: invalid value encountered in divide\n",
      "  NA_upper = NelsonAalen * np.exp( norm.ppf(1-ALPHA/2)*np.sqrt(NA_var)/NelsonAalen )\n"
     ]
    },
    {
     "name": "stdout",
     "output_type": "stream",
     "text": [
      "----------- /home/xsong/mg-wt/dataset/MS 2 Github data part 3/GG_GGM_TABLE/CR-TA_sgcQ-1_.txt\n",
      "No error in flxsrv_fit\n",
      "2390.30200205\n",
      "9\n",
      "1 ['2014-09-07 00:00:00']\n",
      "No error in flxsrv_fit\n",
      "0.119682429723 1.0\n",
      "No error in flxsrv_fit\n",
      "N/A, choose GGM due to AIC\n",
      "CR-TA_yajQ-1_\n"
     ]
    },
    {
     "name": "stderr",
     "output_type": "stream",
     "text": [
      "/home/xsong/miniconda2/lib/python2.7/site-packages/rpy2/rinterface/__init__.py:186: RRuntimeWarning: Error in optim(method = \"BFGS\", par = c(4.60517018598809, -2.30258509299405,  : \n",
      "  non-finite finite-difference value [3]\n",
      "\n",
      "  warnings.warn(x, RRuntimeWarning)\n",
      "/home/xsong/miniconda2/lib/python2.7/site-packages/rpy2/rinterface/__init__.py:186: RRuntimeWarning: In addition: \n",
      "  warnings.warn(x, RRuntimeWarning)\n",
      "/home/xsong/miniconda2/lib/python2.7/site-packages/rpy2/rinterface/__init__.py:186: RRuntimeWarning: Warning messages:\n",
      "\n",
      "  warnings.warn(x, RRuntimeWarning)\n",
      "/home/xsong/miniconda2/lib/python2.7/site-packages/rpy2/rinterface/__init__.py:186: RRuntimeWarning: 1: \n",
      "  warnings.warn(x, RRuntimeWarning)\n",
      "/home/xsong/miniconda2/lib/python2.7/site-packages/rpy2/rinterface/__init__.py:186: RRuntimeWarning: In (function (x, beta, s, rate = 1, log.p = FALSE)  :\n",
      "  warnings.warn(x, RRuntimeWarning)\n",
      "/home/xsong/miniconda2/lib/python2.7/site-packages/rpy2/rinterface/__init__.py:186: RRuntimeWarning: \n",
      " \n",
      "  warnings.warn(x, RRuntimeWarning)\n",
      "/home/xsong/miniconda2/lib/python2.7/site-packages/rpy2/rinterface/__init__.py:186: RRuntimeWarning:  Non-positive shape or rate\n",
      "\n",
      "  warnings.warn(x, RRuntimeWarning)\n",
      "/home/xsong/miniconda2/lib/python2.7/site-packages/rpy2/rinterface/__init__.py:186: RRuntimeWarning: 2: \n",
      "  warnings.warn(x, RRuntimeWarning)\n",
      "/home/xsong/miniconda2/lib/python2.7/site-packages/rpy2/rinterface/__init__.py:186: RRuntimeWarning: In (function (q, beta, s, rate = 1, lower.tail = TRUE, log.p = FALSE)  :\n",
      "  warnings.warn(x, RRuntimeWarning)\n",
      "/home/xsong/miniconda2/lib/python2.7/site-packages/rpy2/rinterface/__init__.py:186: RRuntimeWarning: 3: \n",
      "  warnings.warn(x, RRuntimeWarning)\n",
      "/home/xsong/miniconda2/lib/python2.7/site-packages/rpy2/rinterface/__init__.py:186: RRuntimeWarning: 4: \n",
      "  warnings.warn(x, RRuntimeWarning)\n",
      "/home/xsong/miniconda2/lib/python2.7/site-packages/rpy2/rinterface/__init__.py:186: RRuntimeWarning: 5: \n",
      "  warnings.warn(x, RRuntimeWarning)\n",
      "/home/xsong/miniconda2/lib/python2.7/site-packages/rpy2/rinterface/__init__.py:186: RRuntimeWarning: 6: \n",
      "  warnings.warn(x, RRuntimeWarning)\n",
      "/home/xsong/miniconda2/lib/python2.7/site-packages/rpy2/rinterface/__init__.py:186: RRuntimeWarning: 7: \n",
      "  warnings.warn(x, RRuntimeWarning)\n",
      "/home/xsong/miniconda2/lib/python2.7/site-packages/rpy2/rinterface/__init__.py:186: RRuntimeWarning: 8: \n",
      "  warnings.warn(x, RRuntimeWarning)\n"
     ]
    },
    {
     "name": "stdout",
     "output_type": "stream",
     "text": [
      "error in ggfit\n",
      "----------- /home/xsong/mg-wt/dataset/MS 2 Github data part 3/GG_GGM_TABLE/CR-TA_yajQ-1_.txt\n",
      "No error in flxsrv_fit\n",
      "8964.77329188\n",
      "16\n",
      "1 ['2017-11-05 00:00:00']\n",
      "No error in flxsrv_fit\n",
      "7.82502761866e-106 0.150048875855\n",
      "No error in flxsrv_fit\n"
     ]
    },
    {
     "name": "stderr",
     "output_type": "stream",
     "text": [
      "/home/xsong/miniconda2/lib/python2.7/site-packages/rpy2/rinterface/__init__.py:186: RRuntimeWarning: There were 11 warnings (use warnings() to see them)\n",
      "  warnings.warn(x, RRuntimeWarning)\n",
      "/home/xsong/miniconda2/lib/python2.7/site-packages/rpy2/rinterface/__init__.py:186: RRuntimeWarning: \n",
      "\n",
      "  warnings.warn(x, RRuntimeWarning)\n",
      "/home/xsong/miniconda2/lib/python2.7/site-packages/rpy2/rinterface/__init__.py:186: RRuntimeWarning: In (function (formula, anc = NULL, data, weights, bhazard, subset,  :\n",
      "  warnings.warn(x, RRuntimeWarning)\n",
      "/home/xsong/miniconda2/lib/python2.7/site-packages/rpy2/rinterface/__init__.py:186: RRuntimeWarning:  Optimisation has probably not converged to the maximum likelihood - Hessian is not positive definite. \n",
      "\n",
      "  warnings.warn(x, RRuntimeWarning)\n",
      "/home/xsong/miniconda2/lib/python2.7/site-packages/rpy2/rinterface/__init__.py:186: RRuntimeWarning: 9: \n",
      "  warnings.warn(x, RRuntimeWarning)\n"
     ]
    },
    {
     "name": "stdout",
     "output_type": "stream",
     "text": [
      "\u001b[31m\"ERROR in step ggmStats(df)\"\u001b[0m\n",
      "finalKM >=0.25, theoretical stats not meaningful\n",
      "CR-TA_ybiT-1_\n",
      "----------- /home/xsong/mg-wt/dataset/MS 2 Github data part 3/GG_GGM_TABLE/CR-TA_ybiT-1_.txt\n",
      "No error in flxsrv_fit\n",
      "3529.03256556\n",
      "12\n",
      "1 ['2014-09-07 00:00:00']\n",
      "No error in flxsrv_fit\n",
      "0.0104217506274 0.99935483871\n",
      "No error in flxsrv_fit\n",
      "N/A, choose GGM due to AIC\n",
      "CR-TA_nirC-1_\n",
      "----------- /home/xsong/mg-wt/dataset/MS 2 Github data part 3/GG_GGM_TABLE/CR-TA_nirC-1_.txt\n",
      "No error in flxsrv_fit\n",
      "4458.00763306\n",
      "12\n",
      "1 ['2014-09-07 00:00:00']\n",
      "No error in flxsrv_fit\n",
      "0.00211334593729 0.999371464488\n",
      "No error in flxsrv_fit\n",
      "N/A, choose GGM due to AIC\n",
      "CR-TA_paaC-1_\n",
      "----------- /home/xsong/mg-wt/dataset/MS 2 Github data part 3/GG_GGM_TABLE/CR-TA_paaC-1_.txt\n",
      "No error in flxsrv_fit\n",
      "2137.11736033\n",
      "8\n",
      "1 ['2014-09-07 00:00:00']\n",
      "No error in flxsrv_fit\n",
      "0.0681454723661 1.0\n",
      "No error in flxsrv_fit\n",
      "N/A, choose GGM due to AIC\n"
     ]
    }
   ],
   "source": [
    "import sys,os\n",
    "python_class_path='/home/xsong/mg-wt'\n",
    "sys.path.insert(1, os.path.join(sys.path[0], python_class_path))\n",
    "from Selector_GG_GGM import GG_GGM_Selector\n",
    "data_folder = '/home/xsong/mg-wt/dataset/MS 2 Github data part 3'\n",
    "out_folder = '/home/xsong/mg-wt/dataset/MS 2 Github data part 3/GG_GGM_TABLE'\n",
    "gg_ggm_selector = GG_GGM_Selector(data_folder,out_folder)\n",
    "gg_ggm_selector.run()"
   ]
  }
 ],
 "metadata": {},
 "nbformat": 4,
 "nbformat_minor": 2
}
