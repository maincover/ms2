{
 "cells": [
  {
   "cell_type": "markdown",
   "metadata": {},
   "source": [
    "# Preprocessing to detect duplication\n",
    "This is an auto-generated notebook."
   ]
  },
  {
   "cell_type": "code",
   "execution_count": 1,
   "metadata": {},
   "outputs": [
    {
     "name": "stdout",
     "output_type": "stream",
     "text": [
      "Total files length :  803  Filtered files length (after MD5 check) :  16\n",
      "check line duplication(open file) :  50 / 803\n",
      "check line duplication(open file) :  100 / 803\n",
      "check line duplication(open file) :  150 / 803\n",
      "check line duplication(open file) :  200 / 803\n",
      "check line duplication(open file) :  250 / 803\n",
      "check line duplication(open file) :  300 / 803\n",
      "check line duplication(open file) :  350 / 803\n",
      "check line duplication(open file) :  400 / 803\n",
      "check line duplication(open file) :  450 / 803\n",
      "check line duplication(open file) :  500 / 803\n",
      "check line duplication(open file) :  550 / 803\n",
      "check line duplication(open file) :  600 / 803\n",
      "check line duplication(open file) :  650 / 803\n",
      "check line duplication(open file) :  700 / 803\n",
      "check line duplication(open file) :  750 / 803\n",
      "check line duplication(open file) :  800 / 803\n",
      "check line duplication:  0 / 803\n",
      "check line duplication:  50 / 803\n",
      "check line duplication:  100 / 803\n",
      "check line duplication:  150 / 803\n",
      "check line duplication:  200 / 803\n",
      "check line duplication:  250 / 803\n",
      "check line duplication:  300 / 803\n",
      "check line duplication:  350 / 803\n",
      "check line duplication:  400 / 803\n",
      "check line duplication:  450 / 803\n",
      "check line duplication:  500 / 803\n",
      "check line duplication:  550 / 803\n",
      "check line duplication:  600 / 803\n",
      "check line duplication:  650 / 803\n",
      "check line duplication:  700 / 803\n",
      "check line duplication:  750 / 803\n",
      "exclude fn(itself) :  /home/xsong/mg-wt/dataset/MS2 for GitHub Updated 26.05.2019/cynX/MAX_30112014 Position 131-1.tif.mortality.tab\n",
      "exclude fn(itself) :  /home/xsong/mg-wt/dataset/MS2 for GitHub Updated 26.05.2019/cynX/MAX_30112014 Position 132-1.tif.mortality.tab\n",
      "exclude fn(itself) :  /home/xsong/mg-wt/dataset/MS2 for GitHub Updated 26.05.2019/cynX/MAX_30112014 Position 23-1.tif.mortality.tab\n",
      "exclude fn(itself) :  /home/xsong/mg-wt/dataset/MS2 for GitHub Updated 26.05.2019/cynX/MAX_30112014 Position 28-1.tif.mortality.tab\n",
      "exclude fn(itself) :  /home/xsong/mg-wt/dataset/MS2 for GitHub Updated 26.05.2019/cynX/MAX_30112014 Position 29-1.tif.mortality.tab\n",
      "exclude fn(itself) :  /home/xsong/mg-wt/dataset/MS2 for GitHub Updated 26.05.2019/cynX/MAX_30112014 Position 32-1.tif.mortality.tab\n",
      "exclude fn(itself) :  /home/xsong/mg-wt/dataset/MS2 for GitHub Updated 26.05.2019/cynX/MAX_30112014 Position 34-1.tif.mortality.tab\n",
      "exclude fn(itself) :  /home/xsong/mg-wt/dataset/MS2 for GitHub Updated 26.05.2019/cynX/MAX_30112014 Position 35-1.tif.mortality.tab\n",
      "exclude fn(itself) :  /home/xsong/mg-wt/dataset/MS2 for GitHub Updated 26.05.2019/cynX/MAX_30112014 Position 36-1.tif.mortality.tab\n",
      "exclude fn(itself) :  /home/xsong/mg-wt/dataset/MS2 for GitHub Updated 26.05.2019/cynX/MAX_30112014 Position 37-1.tif.mortality.tab\n",
      "exclude fn(itself) :  /home/xsong/mg-wt/dataset/MS2 for GitHub Updated 26.05.2019/cynX/MAX_30112014 Position 38-1.tif.mortality.tab\n",
      "exclude fn(itself) :  /home/xsong/mg-wt/dataset/MS2 for GitHub Updated 26.05.2019/cynX/MAX_30112014 Position 40-1.tif.mortality.tab\n",
      "exclude fn(itself) :  /home/xsong/mg-wt/dataset/MS2 for GitHub Updated 26.05.2019/cynX/MAX_30112014 Position 42-1.tif.mortality.tab\n",
      "check line duplication:  800 / 803\n",
      "exclude fn(itself) :  /home/xsong/mg-wt/dataset/MS2 for GitHub Updated 26.05.2019/cynX/MAX_30112014 Position 44-1.tif.mortality.tab\n",
      "exclude fn(itself) :  /home/xsong/mg-wt/dataset/MS2 for GitHub Updated 26.05.2019/cynX/MAX_30112014 Position 52-1.tif.mortality.tab\n",
      "exclude fn(itself) :  /home/xsong/mg-wt/dataset/MS2 for GitHub Updated 26.05.2019/cynX/MAX_30112014 Position 68-1.tif.mortality.tab\n"
     ]
    }
   ],
   "source": [
    "import sys,os\n",
    "python_class_path='/home/xsong/mg-wt'\n",
    "sys.path.insert(1, os.path.join(sys.path[0], python_class_path))\n",
    "from Preprocessing import PreprocessingTabFile\n",
    "current_path = '/home/xsong/mg-wt/dataset/MS2 for GitHub Updated 26.05.2019/cynX'\n",
    "prev_path = '/home/xsong/coliSurvivalAnalysis/xsong/Microfluidics Database'\n",
    "filter_file_path = ''\n",
    "selfFilter = True\n",
    "pre = PreprocessingTabFile(current_path,prev_path,filterFile=filter_file_path,autoFilter = selfFilter,report_folder_name='report',showProgress = True)\n",
    "pre.run()"
   ]
  }
 ],
 "metadata": {},
 "nbformat": 4,
 "nbformat_minor": 2
}
