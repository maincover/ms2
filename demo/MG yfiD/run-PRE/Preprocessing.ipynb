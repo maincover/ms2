{
 "cells": [
  {
   "cell_type": "markdown",
   "metadata": {},
   "source": [
    "# Preprocessing to detect duplication\n",
    "This is an auto-generated notebook."
   ]
  },
  {
   "cell_type": "code",
   "execution_count": 1,
   "metadata": {},
   "outputs": [
    {
     "name": "stdout",
     "output_type": "stream",
     "text": [
      "Total files length :  796  Filtered files length (after MD5 check) :  9\n",
      "check line duplication(open file) :  50 / 796\n",
      "check line duplication(open file) :  100 / 796\n",
      "check line duplication(open file) :  150 / 796\n",
      "check line duplication(open file) :  200 / 796\n",
      "check line duplication(open file) :  250 / 796\n",
      "check line duplication(open file) :  300 / 796\n",
      "check line duplication(open file) :  350 / 796\n",
      "check line duplication(open file) :  400 / 796\n",
      "check line duplication(open file) :  450 / 796\n",
      "check line duplication(open file) :  500 / 796\n",
      "check line duplication(open file) :  550 / 796\n",
      "check line duplication(open file) :  600 / 796\n",
      "check line duplication(open file) :  650 / 796\n",
      "check line duplication(open file) :  700 / 796\n",
      "check line duplication(open file) :  750 / 796\n",
      "check line duplication:  0 / 796\n",
      "check line duplication:  50 / 796\n",
      "check line duplication:  100 / 796\n",
      "check line duplication:  150 / 796\n",
      "check line duplication:  200 / 796\n",
      "check line duplication:  250 / 796\n",
      "check line duplication:  300 / 796\n",
      "check line duplication:  350 / 796\n",
      "check line duplication:  400 / 796\n",
      "check line duplication:  450 / 796\n",
      "check line duplication:  500 / 796\n",
      "check line duplication:  550 / 796\n",
      "check line duplication:  600 / 796\n",
      "check line duplication:  650 / 796\n",
      "check line duplication:  700 / 796\n",
      "check line duplication:  750 / 796\n",
      "/home/xsong/mg-wt/dataset/MG strains tab/MG yfiD/MAX_MAX_10012014 Position 85.tif.mortality.tab\t/home/xsong/coliSurvivalAnalysis/xsong/Microfluidics Database/moaE/MAX_MAX_10012014 Position 85.tif.mortality.tab\t1.0\n",
      "\n",
      "/home/xsong/mg-wt/dataset/MG strains tab/MG yfiD/MAX_MAX_10012014 Position 85.tif.mortality.tab /home/xsong/coliSurvivalAnalysis/xsong/Microfluidics Database/moaE/MAX_MAX_10012014 Position 85.tif.mortality.tab 1.0\n",
      "exclude fn(itself) :  /home/xsong/mg-wt/dataset/MG strains tab/MG yfiD/MAX_MAX_10012014 Position 85.tif.mortality.tab\n",
      "exclude fn(itself) :  /home/xsong/mg-wt/dataset/MG strains tab/MG yfiD/MAX_MAX_10012015 Position 110.tif.mortality.tab\n",
      "exclude fn(itself) :  /home/xsong/mg-wt/dataset/MG strains tab/MG yfiD/MAX_MAX_10012015 Position 111.tif.mortality.tab\n",
      "exclude fn(itself) :  /home/xsong/mg-wt/dataset/MG strains tab/MG yfiD/MAX_MAX_10012015 Position 113.tif.mortality.tab\n",
      "exclude fn(itself) :  /home/xsong/mg-wt/dataset/MG strains tab/MG yfiD/MAX_MAX_10012015 Position 125.tif.mortality.tab\n",
      "exclude fn(itself) :  /home/xsong/mg-wt/dataset/MG strains tab/MG yfiD/MAX_MAX_10012015 Position 127.tif.mortality.tab\n",
      "exclude fn(itself) :  /home/xsong/mg-wt/dataset/MG strains tab/MG yfiD/MAX_MAX_10012015 Position 128.tif.mortality.tab\n",
      "exclude fn(itself) :  /home/xsong/mg-wt/dataset/MG strains tab/MG yfiD/MAX_MAX_10012015 Position 86.tif.mortality.tab\n",
      "exclude fn(itself) :  /home/xsong/mg-wt/dataset/MG strains tab/MG yfiD/MAX_MAX_10012015 Position 87.tif.mortality.tab\n"
     ]
    }
   ],
   "source": [
    "import sys,os\n",
    "python_class_path='/home/xsong/mg-wt'\n",
    "sys.path.insert(1, os.path.join(sys.path[0], python_class_path))\n",
    "from Preprocessing import PreprocessingTabFile\n",
    "current_path = '/home/xsong/mg-wt/dataset/MG strains tab/MG yfiD'\n",
    "prev_path = '/home/xsong/coliSurvivalAnalysis/xsong/Microfluidics Database'\n",
    "filter_file_path = ''\n",
    "selfFilter = True\n",
    "pre = PreprocessingTabFile(current_path,prev_path,filterFile=filter_file_path,autoFilter = selfFilter,report_folder_name='report',showProgress = True)\n",
    "pre.run()"
   ]
  }
 ],
 "metadata": {},
 "nbformat": 4,
 "nbformat_minor": 2
}
