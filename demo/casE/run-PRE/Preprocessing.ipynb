{
 "cells": [
  {
   "cell_type": "markdown",
   "metadata": {},
   "source": [
    "# Preprocessing to detect duplication\n",
    "This is an auto-generated notebook."
   ]
  },
  {
   "cell_type": "code",
   "execution_count": 1,
   "metadata": {},
   "outputs": [
    {
     "name": "stdout",
     "output_type": "stream",
     "text": [
      "Total files length :  806  Filtered files length (after MD5 check) :  19\n",
      "check line duplication(open file) :  50 / 806\n",
      "check line duplication(open file) :  100 / 806\n",
      "check line duplication(open file) :  150 / 806\n",
      "check line duplication(open file) :  200 / 806\n",
      "check line duplication(open file) :  250 / 806\n",
      "check line duplication(open file) :  300 / 806\n",
      "check line duplication(open file) :  350 / 806\n",
      "check line duplication(open file) :  400 / 806\n",
      "check line duplication(open file) :  450 / 806\n",
      "check line duplication(open file) :  500 / 806\n",
      "check line duplication(open file) :  550 / 806\n",
      "check line duplication(open file) :  600 / 806\n",
      "check line duplication(open file) :  650 / 806\n",
      "check line duplication(open file) :  700 / 806\n",
      "check line duplication(open file) :  750 / 806\n",
      "check line duplication(open file) :  800 / 806\n",
      "check line duplication:  0 / 806\n",
      "check line duplication:  50 / 806\n",
      "check line duplication:  100 / 806\n",
      "check line duplication:  150 / 806\n",
      "check line duplication:  200 / 806\n",
      "check line duplication:  250 / 806\n",
      "check line duplication:  300 / 806\n",
      "check line duplication:  350 / 806\n",
      "check line duplication:  400 / 806\n",
      "check line duplication:  450 / 806\n",
      "check line duplication:  500 / 806\n",
      "check line duplication:  550 / 806\n",
      "check line duplication:  600 / 806\n",
      "check line duplication:  650 / 806\n",
      "check line duplication:  700 / 806\n",
      "check line duplication:  750 / 806\n",
      "exclude fn(itself) :  /home/xsong/mg-wt/dataset/MS2 for GitHub Updated 26.05.2019/casE/MAX_25092018 Position 10-1.tif.mortality.tab\n",
      "exclude fn(itself) :  /home/xsong/mg-wt/dataset/MS2 for GitHub Updated 26.05.2019/casE/MAX_25092018 Position 101-1.tif.mortality.tab\n",
      "exclude fn(itself) :  /home/xsong/mg-wt/dataset/MS2 for GitHub Updated 26.05.2019/casE/MAX_25092018 Position 148-1.tif.mortality.tab\n",
      "exclude fn(itself) :  /home/xsong/mg-wt/dataset/MS2 for GitHub Updated 26.05.2019/casE/MAX_25092018 Position 169-1.tif.mortality.tab\n",
      "exclude fn(itself) :  /home/xsong/mg-wt/dataset/MS2 for GitHub Updated 26.05.2019/casE/MAX_25092018 Position 170-1.tif.mortality.tab\n",
      "exclude fn(itself) :  /home/xsong/mg-wt/dataset/MS2 for GitHub Updated 26.05.2019/casE/MAX_25092018 Position 171-1.tif.mortality.tab\n",
      "exclude fn(itself) :  /home/xsong/mg-wt/dataset/MS2 for GitHub Updated 26.05.2019/casE/MAX_25092018 Position 177-1.tif.mortality.tab\n",
      "exclude fn(itself) :  /home/xsong/mg-wt/dataset/MS2 for GitHub Updated 26.05.2019/casE/MAX_25092018 Position 178-1.tif.mortality.tab\n",
      "exclude fn(itself) :  /home/xsong/mg-wt/dataset/MS2 for GitHub Updated 26.05.2019/casE/MAX_25092018 Position 201-1.tif.mortality.tab\n",
      "exclude fn(itself) :  /home/xsong/mg-wt/dataset/MS2 for GitHub Updated 26.05.2019/casE/MAX_25092018 Position 202-1.tif.mortality.tab\n",
      "exclude fn(itself) :  /home/xsong/mg-wt/dataset/MS2 for GitHub Updated 26.05.2019/casE/MAX_25092018 Position 203-1.tif.mortality.tab\n",
      "exclude fn(itself) :  /home/xsong/mg-wt/dataset/MS2 for GitHub Updated 26.05.2019/casE/MAX_25092018 Position 204-1.tif.mortality.tab\n",
      "exclude fn(itself) :  /home/xsong/mg-wt/dataset/MS2 for GitHub Updated 26.05.2019/casE/MAX_25092018 Position 205-1.tif.mortality.tab\n",
      "check line duplication:  800 / 806\n",
      "exclude fn(itself) :  /home/xsong/mg-wt/dataset/MS2 for GitHub Updated 26.05.2019/casE/MAX_25092018 Position 39-1.tif.mortality.tab\n",
      "exclude fn(itself) :  /home/xsong/mg-wt/dataset/MS2 for GitHub Updated 26.05.2019/casE/MAX_25092018 Position 40-1.tif.mortality.tab\n",
      "exclude fn(itself) :  /home/xsong/mg-wt/dataset/MS2 for GitHub Updated 26.05.2019/casE/MAX_25092018 Position 41-1.tif.mortality.tab\n",
      "exclude fn(itself) :  /home/xsong/mg-wt/dataset/MS2 for GitHub Updated 26.05.2019/casE/MAX_25092018 Position 74-1.tif.mortality.tab\n",
      "exclude fn(itself) :  /home/xsong/mg-wt/dataset/MS2 for GitHub Updated 26.05.2019/casE/MAX_25092018 Position 75-1.tif.mortality.tab\n",
      "exclude fn(itself) :  /home/xsong/mg-wt/dataset/MS2 for GitHub Updated 26.05.2019/casE/MAX_25092018 Position 9-1.tif.mortality.tab\n"
     ]
    }
   ],
   "source": [
    "import sys,os\n",
    "python_class_path='/home/xsong/mg-wt'\n",
    "sys.path.insert(1, os.path.join(sys.path[0], python_class_path))\n",
    "from Preprocessing import PreprocessingTabFile\n",
    "current_path = '/home/xsong/mg-wt/dataset/MS2 for GitHub Updated 26.05.2019/casE'\n",
    "prev_path = '/home/xsong/coliSurvivalAnalysis/xsong/Microfluidics Database'\n",
    "filter_file_path = ''\n",
    "selfFilter = True\n",
    "pre = PreprocessingTabFile(current_path,prev_path,filterFile=filter_file_path,autoFilter = selfFilter,report_folder_name='report',showProgress = True)\n",
    "pre.run()"
   ]
  }
 ],
 "metadata": {},
 "nbformat": 4,
 "nbformat_minor": 2
}
