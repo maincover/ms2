{
 "cells": [
  {
   "cell_type": "markdown",
   "metadata": {},
   "source": [
    "# Preprocessing to detect duplication\n",
    "This is an auto-generated notebook."
   ]
  },
  {
   "cell_type": "code",
   "execution_count": 1,
   "metadata": {},
   "outputs": [
    {
     "name": "stdout",
     "output_type": "stream",
     "text": [
      "Total files length :  804  Filtered files length (after MD5 check) :  17\n",
      "check line duplication(open file) :  50 / 804\n",
      "check line duplication(open file) :  100 / 804\n",
      "check line duplication(open file) :  150 / 804\n",
      "check line duplication(open file) :  200 / 804\n",
      "check line duplication(open file) :  250 / 804\n",
      "check line duplication(open file) :  300 / 804\n",
      "check line duplication(open file) :  350 / 804\n",
      "check line duplication(open file) :  400 / 804\n",
      "check line duplication(open file) :  450 / 804\n",
      "check line duplication(open file) :  500 / 804\n",
      "check line duplication(open file) :  550 / 804\n",
      "check line duplication(open file) :  600 / 804\n",
      "check line duplication(open file) :  650 / 804\n",
      "check line duplication(open file) :  700 / 804\n",
      "check line duplication(open file) :  750 / 804\n",
      "check line duplication(open file) :  800 / 804\n",
      "check line duplication:  0 / 804\n",
      "check line duplication:  50 / 804\n",
      "check line duplication:  100 / 804\n",
      "check line duplication:  150 / 804\n",
      "check line duplication:  200 / 804\n",
      "check line duplication:  250 / 804\n",
      "check line duplication:  300 / 804\n",
      "check line duplication:  350 / 804\n",
      "check line duplication:  400 / 804\n",
      "check line duplication:  450 / 804\n",
      "check line duplication:  500 / 804\n",
      "check line duplication:  550 / 804\n",
      "check line duplication:  600 / 804\n",
      "check line duplication:  650 / 804\n",
      "check line duplication:  700 / 804\n",
      "check line duplication:  750 / 804\n",
      "exclude fn(itself) :  /home/xsong/mg-wt/dataset/MS2 for GitHub Updated 26.05.2019/yobH/MAX_06032015 Position 37-1.tif.mortality.tab\n",
      "exclude fn(itself) :  /home/xsong/mg-wt/dataset/MS2 for GitHub Updated 26.05.2019/yobH/MAX_06032015 Position 41-1.tif.mortality.tab\n",
      "exclude fn(itself) :  /home/xsong/mg-wt/dataset/MS2 for GitHub Updated 26.05.2019/yobH/MAX_06032015 Position 43-1.tif.mortality.tab\n",
      "exclude fn(itself) :  /home/xsong/mg-wt/dataset/MS2 for GitHub Updated 26.05.2019/yobH/MAX_06032015 Position 45-1.tif.mortality.tab\n",
      "exclude fn(itself) :  /home/xsong/mg-wt/dataset/MS2 for GitHub Updated 26.05.2019/yobH/MAX_06032015 Position 46-1.tif.mortality.tab\n",
      "exclude fn(itself) :  /home/xsong/mg-wt/dataset/MS2 for GitHub Updated 26.05.2019/yobH/MAX_06032015 Position 47-1.tif.mortality.tab\n",
      "exclude fn(itself) :  /home/xsong/mg-wt/dataset/MS2 for GitHub Updated 26.05.2019/yobH/MAX_06032015 Position 48-1.tif.mortality.tab\n",
      "exclude fn(itself) :  /home/xsong/mg-wt/dataset/MS2 for GitHub Updated 26.05.2019/yobH/MAX_06032015 Position 49-1.tif.mortality.tab\n",
      "exclude fn(itself) :  /home/xsong/mg-wt/dataset/MS2 for GitHub Updated 26.05.2019/yobH/MAX_06032015 Position 51-1.tif.mortality.tab\n",
      "exclude fn(itself) :  /home/xsong/mg-wt/dataset/MS2 for GitHub Updated 26.05.2019/yobH/MAX_06032015 Position 52-1.tif.mortality.tab\n",
      "exclude fn(itself) :  /home/xsong/mg-wt/dataset/MS2 for GitHub Updated 26.05.2019/yobH/MAX_06032015 Position 53-1.tif.mortality.tab\n",
      "exclude fn(itself) :  /home/xsong/mg-wt/dataset/MS2 for GitHub Updated 26.05.2019/yobH/MAX_06032015 Position 54-1.tif.mortality.tab\n",
      "exclude fn(itself) :  /home/xsong/mg-wt/dataset/MS2 for GitHub Updated 26.05.2019/yobH/MAX_06032015 Position 55-1.tif.mortality.tab\n",
      "check line duplication:  800 / 804\n",
      "exclude fn(itself) :  /home/xsong/mg-wt/dataset/MS2 for GitHub Updated 26.05.2019/yobH/MAX_06032015 Position 56-1.tif.mortality.tab\n",
      "exclude fn(itself) :  /home/xsong/mg-wt/dataset/MS2 for GitHub Updated 26.05.2019/yobH/MAX_06032015 Position 57-1.tif.mortality.tab\n",
      "exclude fn(itself) :  /home/xsong/mg-wt/dataset/MS2 for GitHub Updated 26.05.2019/yobH/MAX_06032015 Position 58-1.tif.mortality.tab\n",
      "exclude fn(itself) :  /home/xsong/mg-wt/dataset/MS2 for GitHub Updated 26.05.2019/yobH/MAX_06032015 Position 77-1.tif.mortality.tab\n"
     ]
    }
   ],
   "source": [
    "import sys,os\n",
    "python_class_path='/home/xsong/mg-wt'\n",
    "sys.path.insert(1, os.path.join(sys.path[0], python_class_path))\n",
    "from Preprocessing import PreprocessingTabFile\n",
    "current_path = '/home/xsong/mg-wt/dataset/MS2 for GitHub Updated 26.05.2019/yobH'\n",
    "prev_path = '/home/xsong/coliSurvivalAnalysis/xsong/Microfluidics Database'\n",
    "filter_file_path = ''\n",
    "selfFilter = True\n",
    "pre = PreprocessingTabFile(current_path,prev_path,filterFile=filter_file_path,autoFilter = selfFilter,report_folder_name='report',showProgress = True)\n",
    "pre.run()"
   ]
  }
 ],
 "metadata": {},
 "nbformat": 4,
 "nbformat_minor": 2
}
