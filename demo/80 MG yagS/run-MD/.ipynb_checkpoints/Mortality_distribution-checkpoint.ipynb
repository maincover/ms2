{
 "cells": [
  {
   "cell_type": "markdown",
   "metadata": {},
   "source": [
    "# Mortality Distribution, generate mortality curve, compare with reference(WT for example)\n",
    "This is an auto-generated notebook."
   ]
  },
  {
   "cell_type": "code",
   "execution_count": 1,
   "metadata": {},
   "outputs": [
    {
     "name": "stdout",
     "output_type": "stream",
     "text": [
      "[['/home/xsong/coliSurvivalAnalysis/xsong/main/test dataset/ana_19032013_MG_WT/80 MG yagS/TA_80 MG yagS-1_df_relative_timegrid.pickle']]\n",
      "[]\n",
      "[['/home/xsong/coliSurvivalAnalysis/xsong/main/test dataset/ana_19032013_MG_WT/80 MG yagS/TA_80 MG yagS-1_timeseries_dataframe.pickle']]\n"
     ]
    },
    {
     "ename": "TypeError",
     "evalue": "coercing to Unicode: need string or buffer, file found",
     "output_type": "error",
     "traceback": [
      "\u001b[0;31m---------------------------------------------------------------------------\u001b[0m",
      "\u001b[0;31mTypeError\u001b[0m                                 Traceback (most recent call last)",
      "\u001b[0;32m<ipython-input-1-8a7d8de64174>\u001b[0m in \u001b[0;36m<module>\u001b[0;34m()\u001b[0m\n\u001b[1;32m      7\u001b[0m \u001b[0mref_df_path\u001b[0m \u001b[0;34m=\u001b[0m \u001b[0;34m'/home/xsong/coliSurvivalAnalysis/xsong/main/test dataset/MG-WT/TA_MG_WT_CLUSTER_0_df_relative_timegrid.pickle'\u001b[0m\u001b[0;34m\u001b[0m\u001b[0m\n\u001b[1;32m      8\u001b[0m \u001b[0mM_Distribution\u001b[0m \u001b[0;34m=\u001b[0m \u001b[0mMortalityDistribution\u001b[0m\u001b[0;34m(\u001b[0m\u001b[0mfolder_path\u001b[0m\u001b[0;34m,\u001b[0m\u001b[0mref_df_path\u001b[0m\u001b[0;34m)\u001b[0m\u001b[0;34m\u001b[0m\u001b[0m\n\u001b[0;32m----> 9\u001b[0;31m \u001b[0mM_Distribution\u001b[0m\u001b[0;34m.\u001b[0m\u001b[0mrun\u001b[0m\u001b[0;34m(\u001b[0m\u001b[0;34m)\u001b[0m\u001b[0;34m\u001b[0m\u001b[0m\n\u001b[0m",
      "\u001b[0;32m/home/xsong/coliSurvivalAnalysis/xsong/main/Mortality_distribution.pyc\u001b[0m in \u001b[0;36mrun\u001b[0;34m(self)\u001b[0m\n\u001b[1;32m     43\u001b[0m         \u001b[0;31m#self.prefixName = MortalityDistribution.getPrefixSaveName(self.comparisonList_df_timegrid,self.showProgress)\u001b[0m\u001b[0;34m\u001b[0m\u001b[0;34m\u001b[0m\u001b[0m\n\u001b[1;32m     44\u001b[0m         \u001b[0mself\u001b[0m\u001b[0;34m.\u001b[0m\u001b[0mpairDf_tsPath\u001b[0m \u001b[0;34m=\u001b[0m \u001b[0mMortalityDistribution\u001b[0m\u001b[0;34m.\u001b[0m\u001b[0mgetPairDF_TS_Path\u001b[0m\u001b[0;34m(\u001b[0m\u001b[0mself\u001b[0m\u001b[0;34m.\u001b[0m\u001b[0mcomparisonList_df_timegrid\u001b[0m\u001b[0;34m,\u001b[0m \u001b[0mself\u001b[0m\u001b[0;34m.\u001b[0m\u001b[0mcomparisonList_timeseries\u001b[0m\u001b[0;34m,\u001b[0m\u001b[0mshowProgress\u001b[0m\u001b[0;34m=\u001b[0m\u001b[0mFalse\u001b[0m\u001b[0;34m)\u001b[0m\u001b[0;34m\u001b[0m\u001b[0m\n\u001b[0;32m---> 45\u001b[0;31m         \u001b[0mself\u001b[0m\u001b[0;34m.\u001b[0m\u001b[0mrunCombinationPath\u001b[0m\u001b[0;34m(\u001b[0m\u001b[0mself\u001b[0m\u001b[0;34m.\u001b[0m\u001b[0mpairDf_tsPath\u001b[0m\u001b[0;34m,\u001b[0m\u001b[0mself\u001b[0m\u001b[0;34m.\u001b[0m\u001b[0mref_path\u001b[0m\u001b[0;34m,\u001b[0m\u001b[0mfiles_df_timegrid\u001b[0m\u001b[0;34m,\u001b[0m \u001b[0mfiles_timeseries\u001b[0m\u001b[0;34m,\u001b[0m\u001b[0mself\u001b[0m\u001b[0;34m.\u001b[0m\u001b[0mshowProgress\u001b[0m\u001b[0;34m)\u001b[0m\u001b[0;34m\u001b[0m\u001b[0m\n\u001b[0m\u001b[1;32m     46\u001b[0m \u001b[0;34m\u001b[0m\u001b[0m\n\u001b[1;32m     47\u001b[0m \u001b[0;34m\u001b[0m\u001b[0m\n",
      "\u001b[0;32m/home/xsong/coliSurvivalAnalysis/xsong/main/Mortality_distribution.pyc\u001b[0m in \u001b[0;36mrunCombinationPath\u001b[0;34m(self, pair_path_list, path_ref_df, files_df_timegrid, files_timeseries, showProgress)\u001b[0m\n\u001b[1;32m     55\u001b[0m         \u001b[0mref_Name\u001b[0m\u001b[0;34m=\u001b[0m\u001b[0;34m''\u001b[0m\u001b[0;34m\u001b[0m\u001b[0m\n\u001b[1;32m     56\u001b[0m         \u001b[0;32mif\u001b[0m \u001b[0mlen\u001b[0m\u001b[0;34m(\u001b[0m\u001b[0mpath_ref_df\u001b[0m\u001b[0;34m)\u001b[0m\u001b[0;34m:\u001b[0m\u001b[0;34m\u001b[0m\u001b[0m\n\u001b[0;32m---> 57\u001b[0;31m             \u001b[0mref_Name\u001b[0m\u001b[0;34m,\u001b[0m\u001b[0mxlimit_ref\u001b[0m\u001b[0;34m=\u001b[0m \u001b[0mMortalityDistribution\u001b[0m\u001b[0;34m.\u001b[0m\u001b[0mloadRefPickle\u001b[0m\u001b[0;34m(\u001b[0m\u001b[0mpath_ref_df\u001b[0m\u001b[0;34m,\u001b[0m\u001b[0mdf_dict_ref\u001b[0m\u001b[0;34m,\u001b[0m\u001b[0mtimegrid_dict_ref\u001b[0m\u001b[0;34m,\u001b[0m\u001b[0mlengths_df_list_ref\u001b[0m\u001b[0;34m,\u001b[0m\u001b[0mkeys_list_ref\u001b[0m\u001b[0;34m)\u001b[0m\u001b[0;34m\u001b[0m\u001b[0m\n\u001b[0m\u001b[1;32m     58\u001b[0m             \u001b[0;32mif\u001b[0m \u001b[0mshowProgress\u001b[0m\u001b[0;34m:\u001b[0m\u001b[0;34m\u001b[0m\u001b[0m\n\u001b[1;32m     59\u001b[0m                 \u001b[0;32mprint\u001b[0m \u001b[0;34m'load reference pickle, '\u001b[0m\u001b[0;34m,\u001b[0m \u001b[0mref_Name\u001b[0m\u001b[0;34m,\u001b[0m \u001b[0mxlimit_ref\u001b[0m\u001b[0;34m\u001b[0m\u001b[0m\n",
      "\u001b[0;32m/home/xsong/coliSurvivalAnalysis/xsong/main/Mortality_distribution.pyc\u001b[0m in \u001b[0;36mloadRefPickle\u001b[0;34m(fPath, df_dict, timegrid_dict, lengths_df_list, keys_list)\u001b[0m\n\u001b[1;32m    204\u001b[0m \u001b[0;34m\u001b[0m\u001b[0m\n\u001b[1;32m    205\u001b[0m         \u001b[0;31m#try:\u001b[0m\u001b[0;34m\u001b[0m\u001b[0;34m\u001b[0m\u001b[0m\n\u001b[0;32m--> 206\u001b[0;31m         \u001b[0mdf_timegrid\u001b[0m\u001b[0;34m=\u001b[0m\u001b[0mMortalityDistribution\u001b[0m\u001b[0;34m.\u001b[0m\u001b[0mloadPickle\u001b[0m\u001b[0;34m(\u001b[0m\u001b[0mfPath\u001b[0m\u001b[0;34m)\u001b[0m\u001b[0;34m\u001b[0m\u001b[0m\n\u001b[0m\u001b[1;32m    207\u001b[0m         \u001b[0mdf_ref\u001b[0m \u001b[0;34m=\u001b[0m \u001b[0mdf_timegrid\u001b[0m\u001b[0;34m.\u001b[0m\u001b[0mdf\u001b[0m\u001b[0;34m\u001b[0m\u001b[0m\n\u001b[1;32m    208\u001b[0m         \u001b[0mtimegrid_ref\u001b[0m \u001b[0;34m=\u001b[0m \u001b[0mdf_timegrid\u001b[0m\u001b[0;34m.\u001b[0m\u001b[0mtime_grid_relative\u001b[0m\u001b[0;34m\u001b[0m\u001b[0m\n",
      "\u001b[0;32m/home/xsong/coliSurvivalAnalysis/xsong/main/Mortality_distribution.pyc\u001b[0m in \u001b[0;36mloadPickle\u001b[0;34m(fPath)\u001b[0m\n\u001b[1;32m    723\u001b[0m         \u001b[0;32mimport\u001b[0m \u001b[0mpandas\u001b[0m \u001b[0;32mas\u001b[0m \u001b[0mpd\u001b[0m\u001b[0;34m\u001b[0m\u001b[0m\n\u001b[1;32m    724\u001b[0m         \u001b[0mf\u001b[0m \u001b[0;34m=\u001b[0m \u001b[0mopen\u001b[0m\u001b[0;34m(\u001b[0m\u001b[0mfPath\u001b[0m\u001b[0;34m,\u001b[0m \u001b[0;34m'rb'\u001b[0m\u001b[0;34m)\u001b[0m\u001b[0;34m\u001b[0m\u001b[0m\n\u001b[0;32m--> 725\u001b[0;31m         \u001b[0mp\u001b[0m \u001b[0;34m=\u001b[0m \u001b[0mpd\u001b[0m\u001b[0;34m.\u001b[0m\u001b[0mread_pickle\u001b[0m\u001b[0;34m(\u001b[0m\u001b[0mf\u001b[0m\u001b[0;34m)\u001b[0m\u001b[0;34m\u001b[0m\u001b[0m\n\u001b[0m\u001b[1;32m    726\u001b[0m         \u001b[0;32mreturn\u001b[0m \u001b[0mp\u001b[0m\u001b[0;34m\u001b[0m\u001b[0m\n\u001b[1;32m    727\u001b[0m \u001b[0;34m\u001b[0m\u001b[0m\n",
      "\u001b[0;32m/home/xsong/miniconda2/lib/python2.7/site-packages/pandas/io/pickle.pyc\u001b[0m in \u001b[0;36mread_pickle\u001b[0;34m(path)\u001b[0m\n\u001b[1;32m     63\u001b[0m \u001b[0;34m\u001b[0m\u001b[0m\n\u001b[1;32m     64\u001b[0m     \u001b[0;32mtry\u001b[0m\u001b[0;34m:\u001b[0m\u001b[0;34m\u001b[0m\u001b[0m\n\u001b[0;32m---> 65\u001b[0;31m         \u001b[0;32mreturn\u001b[0m \u001b[0mtry_read\u001b[0m\u001b[0;34m(\u001b[0m\u001b[0mpath\u001b[0m\u001b[0;34m)\u001b[0m\u001b[0;34m\u001b[0m\u001b[0m\n\u001b[0m\u001b[1;32m     66\u001b[0m     \u001b[0;32mexcept\u001b[0m\u001b[0;34m:\u001b[0m\u001b[0;34m\u001b[0m\u001b[0m\n\u001b[1;32m     67\u001b[0m         \u001b[0;32mif\u001b[0m \u001b[0mPY3\u001b[0m\u001b[0;34m:\u001b[0m\u001b[0;34m\u001b[0m\u001b[0m\n",
      "\u001b[0;32m/home/xsong/miniconda2/lib/python2.7/site-packages/pandas/io/pickle.pyc\u001b[0m in \u001b[0;36mtry_read\u001b[0;34m(path, encoding)\u001b[0m\n\u001b[1;32m     59\u001b[0m             \u001b[0;31m# compat pickle\u001b[0m\u001b[0;34m\u001b[0m\u001b[0;34m\u001b[0m\u001b[0m\n\u001b[1;32m     60\u001b[0m             \u001b[0;32mexcept\u001b[0m\u001b[0;34m:\u001b[0m\u001b[0;34m\u001b[0m\u001b[0m\n\u001b[0;32m---> 61\u001b[0;31m                 \u001b[0;32mwith\u001b[0m \u001b[0mopen\u001b[0m\u001b[0;34m(\u001b[0m\u001b[0mpath\u001b[0m\u001b[0;34m,\u001b[0m \u001b[0;34m'rb'\u001b[0m\u001b[0;34m)\u001b[0m \u001b[0;32mas\u001b[0m \u001b[0mfh\u001b[0m\u001b[0;34m:\u001b[0m\u001b[0;34m\u001b[0m\u001b[0m\n\u001b[0m\u001b[1;32m     62\u001b[0m                     \u001b[0;32mreturn\u001b[0m \u001b[0mpc\u001b[0m\u001b[0;34m.\u001b[0m\u001b[0mload\u001b[0m\u001b[0;34m(\u001b[0m\u001b[0mfh\u001b[0m\u001b[0;34m,\u001b[0m \u001b[0mencoding\u001b[0m\u001b[0;34m=\u001b[0m\u001b[0mencoding\u001b[0m\u001b[0;34m,\u001b[0m \u001b[0mcompat\u001b[0m\u001b[0;34m=\u001b[0m\u001b[0mTrue\u001b[0m\u001b[0;34m)\u001b[0m\u001b[0;34m\u001b[0m\u001b[0m\n\u001b[1;32m     63\u001b[0m \u001b[0;34m\u001b[0m\u001b[0m\n",
      "\u001b[0;31mTypeError\u001b[0m: coercing to Unicode: need string or buffer, file found"
     ]
    }
   ],
   "source": [
    "%matplotlib inline\n",
    "import sys,os\n",
    "python_class_path='/home/xsong/coliSurvivalAnalysis/xsong/main'\n",
    "sys.path.insert(1, os.path.join(sys.path[0], python_class_path))\n",
    "from Mortality_distribution import MortalityDistribution\n",
    "folder_path='/home/xsong/coliSurvivalAnalysis/xsong/main/test dataset/ana_19032013_MG_WT/80 MG yagS'\n",
    "ref_df_path = '/home/xsong/coliSurvivalAnalysis/xsong/main/test dataset/MG-WT/MG_WT_CLUSTER_0_df_relative_timegrid.pickle'\n",
    "M_Distribution = MortalityDistribution(folder_path,ref_df_path)\n",
    "M_Distribution.run()"
   ]
  }
 ],
 "metadata": {
  "kernelspec": {
   "display_name": "Python 2",
   "language": "python",
   "name": "python2"
  },
  "language_info": {
   "codemirror_mode": {
    "name": "ipython",
    "version": 2
   },
   "file_extension": ".py",
   "mimetype": "text/x-python",
   "name": "python",
   "nbconvert_exporter": "python",
   "pygments_lexer": "ipython2",
   "version": "2.7.15"
  }
 },
 "nbformat": 4,
 "nbformat_minor": 2
}
