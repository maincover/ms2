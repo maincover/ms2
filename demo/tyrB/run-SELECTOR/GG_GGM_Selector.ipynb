{
 "cells": [
  {
   "cell_type": "markdown",
   "metadata": {},
   "source": [
    "# GG_GGM_SELECTOR Write the result to table\n",
    "    "
   ]
  },
  {
   "cell_type": "code",
   "execution_count": 1,
   "metadata": {},
   "outputs": [
    {
     "name": "stdout",
     "output_type": "stream",
     "text": [
      "[['/home/xsong/mg-wt/dataset/MS2 for GitHub Updated 26.05.2019/tyrB/CR-TA_tyrB-1_relative_timegrid_cluster0.pickle', '/home/xsong/mg-wt/dataset/MS2 for GitHub Updated 26.05.2019/tyrB/CR-TA_tyrB-1_mortality_dataframe_cluster0.pickle', 'CR-TA_tyrB-1_']]\n",
      "CR-TA_tyrB-1_\n"
     ]
    },
    {
     "name": "stderr",
     "output_type": "stream",
     "text": [
      "../../../cohortMortalitySummary.py:174: RuntimeWarning: invalid value encountered in divide\n",
      "  NA_lower = NelsonAalen * np.exp( norm.ppf(ALPHA/2)*np.sqrt(NA_var)/NelsonAalen )\n",
      "../../../cohortMortalitySummary.py:175: RuntimeWarning: invalid value encountered in divide\n",
      "  NA_upper = NelsonAalen * np.exp( norm.ppf(1-ALPHA/2)*np.sqrt(NA_var)/NelsonAalen )\n"
     ]
    },
    {
     "name": "stdout",
     "output_type": "stream",
     "text": [
      "----------- /home/xsong/mg-wt/dataset/MS2 for GitHub Updated 26.05.2019/tyrB/GG_GGM_TABLE/CR-TA_tyrB-1_.txt\n",
      "No error in flxsrv_fit\n",
      "8608.79795366\n",
      "7\n",
      "1 ['2014-11-07 00:00:00']\n",
      "No error in flxsrv_fit\n",
      "0.747344267932 1.0\n",
      "No error in flxsrv_fit\n"
     ]
    },
    {
     "name": "stderr",
     "output_type": "stream",
     "text": [
      "/home/xsong/miniconda2/lib/python2.7/site-packages/rpy2/rinterface/__init__.py:186: RRuntimeWarning: Error in (function (x, B, newdata = NULL, X = NULL, transform = FALSE,  : \n",
      "  Covariance matrix not available from non-converged model\n",
      "\n",
      "  warnings.warn(x, RRuntimeWarning)\n",
      "/home/xsong/miniconda2/lib/python2.7/site-packages/rpy2/rinterface/__init__.py:186: RRuntimeWarning: In addition: \n",
      "  warnings.warn(x, RRuntimeWarning)\n",
      "/home/xsong/miniconda2/lib/python2.7/site-packages/rpy2/rinterface/__init__.py:186: RRuntimeWarning: There were 37 warnings (use warnings() to see them)\n",
      "  warnings.warn(x, RRuntimeWarning)\n",
      "/home/xsong/miniconda2/lib/python2.7/site-packages/rpy2/rinterface/__init__.py:186: RRuntimeWarning: \n",
      "\n",
      "  warnings.warn(x, RRuntimeWarning)\n"
     ]
    },
    {
     "name": "stdout",
     "output_type": "stream",
     "text": [
      "\u001b[31m\"ERROR in step ggmStats(df)\"\u001b[0m\n"
     ]
    }
   ],
   "source": [
    "import sys,os\n",
    "python_class_path='/home/xsong/mg-wt'\n",
    "sys.path.insert(1, os.path.join(sys.path[0], python_class_path))\n",
    "from Selector_GG_GGM import GG_GGM_Selector\n",
    "data_folder = '/home/xsong/mg-wt/dataset/MS2 for GitHub Updated 26.05.2019/tyrB'\n",
    "out_folder = '/home/xsong/mg-wt/dataset/MS2 for GitHub Updated 26.05.2019/tyrB/GG_GGM_TABLE'\n",
    "gg_ggm_selector = GG_GGM_Selector(data_folder,out_folder)\n",
    "gg_ggm_selector.run()"
   ]
  }
 ],
 "metadata": {},
 "nbformat": 4,
 "nbformat_minor": 2
}
