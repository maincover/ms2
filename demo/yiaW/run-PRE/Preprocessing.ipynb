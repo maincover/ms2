{
 "cells": [
  {
   "cell_type": "markdown",
   "metadata": {},
   "source": [
    "# Preprocessing to detect duplication\n",
    "This is an auto-generated notebook."
   ]
  },
  {
   "cell_type": "code",
   "execution_count": 1,
   "metadata": {},
   "outputs": [
    {
     "name": "stdout",
     "output_type": "stream",
     "text": [
      "Total files length :  805  Filtered files length (after MD5 check) :  18\n",
      "check line duplication(open file) :  50 / 805\n",
      "check line duplication(open file) :  100 / 805\n",
      "check line duplication(open file) :  150 / 805\n",
      "check line duplication(open file) :  200 / 805\n",
      "check line duplication(open file) :  250 / 805\n",
      "check line duplication(open file) :  300 / 805\n",
      "check line duplication(open file) :  350 / 805\n",
      "check line duplication(open file) :  400 / 805\n",
      "check line duplication(open file) :  450 / 805\n",
      "check line duplication(open file) :  500 / 805\n",
      "check line duplication(open file) :  550 / 805\n",
      "check line duplication(open file) :  600 / 805\n",
      "check line duplication(open file) :  650 / 805\n",
      "check line duplication(open file) :  700 / 805\n",
      "check line duplication(open file) :  750 / 805\n",
      "check line duplication(open file) :  800 / 805\n",
      "check line duplication:  0 / 805\n",
      "check line duplication:  50 / 805\n",
      "check line duplication:  100 / 805\n",
      "check line duplication:  150 / 805\n",
      "check line duplication:  200 / 805\n",
      "check line duplication:  250 / 805\n",
      "check line duplication:  300 / 805\n",
      "check line duplication:  350 / 805\n",
      "check line duplication:  400 / 805\n",
      "check line duplication:  450 / 805\n",
      "check line duplication:  500 / 805\n",
      "check line duplication:  550 / 805\n",
      "check line duplication:  600 / 805\n",
      "check line duplication:  650 / 805\n",
      "check line duplication:  700 / 805\n",
      "check line duplication:  750 / 805\n",
      "exclude fn(itself) :  /app/src/ms2/dataset/MS 2 Github data part 10/yiaW/MAX_18112018 Position 216-1.tif.mortality.tab\n",
      "exclude fn(itself) :  /app/src/ms2/dataset/MS 2 Github data part 10/yiaW/MAX_18112018 Position 217-1.tif.mortality.tab\n",
      "exclude fn(itself) :  /app/src/ms2/dataset/MS 2 Github data part 10/yiaW/MAX_18112018 Position 218-1.tif.mortality.tab\n",
      "exclude fn(itself) :  /app/src/ms2/dataset/MS 2 Github data part 10/yiaW/MAX_18112018 Position 219-1.tif.mortality.tab\n",
      "exclude fn(itself) :  /app/src/ms2/dataset/MS 2 Github data part 10/yiaW/MAX_18112018 Position 220-1.tif.mortality.tab\n",
      "exclude fn(itself) :  /app/src/ms2/dataset/MS 2 Github data part 10/yiaW/MAX_18112018 Position 221-1.tif.mortality.tab\n",
      "exclude fn(itself) :  /app/src/ms2/dataset/MS 2 Github data part 10/yiaW/MAX_18112018 Position 222-1.tif.mortality.tab\n",
      "exclude fn(itself) :  /app/src/ms2/dataset/MS 2 Github data part 10/yiaW/MAX_18112018 Position 223-1.tif.mortality.tab\n",
      "exclude fn(itself) :  /app/src/ms2/dataset/MS 2 Github data part 10/yiaW/MAX_18112018 Position 224-1.tif.mortality.tab\n",
      "exclude fn(itself) :  /app/src/ms2/dataset/MS 2 Github data part 10/yiaW/MAX_18112018 Position 225-1.tif.mortality.tab\n",
      "exclude fn(itself) :  /app/src/ms2/dataset/MS 2 Github data part 10/yiaW/MAX_18112018 Position 226-1.tif.mortality.tab\n",
      "exclude fn(itself) :  /app/src/ms2/dataset/MS 2 Github data part 10/yiaW/MAX_18112018 Position 228-1.tif.mortality.tab\n",
      "exclude fn(itself) :  /app/src/ms2/dataset/MS 2 Github data part 10/yiaW/MAX_18112018 Position 229-1.tif.mortality.tab\n",
      "check line duplication:  800 / 805\n",
      "exclude fn(itself) :  /app/src/ms2/dataset/MS 2 Github data part 10/yiaW/MAX_18112018 Position 230-1.tif.mortality.tab\n",
      "exclude fn(itself) :  /app/src/ms2/dataset/MS 2 Github data part 10/yiaW/MAX_18112018 Position 231-1.tif.mortality.tab\n",
      "exclude fn(itself) :  /app/src/ms2/dataset/MS 2 Github data part 10/yiaW/MAX_18112018 Position 233-1.tif.mortality.tab\n",
      "exclude fn(itself) :  /app/src/ms2/dataset/MS 2 Github data part 10/yiaW/MAX_18112018 Position 234-1.tif.mortality.tab\n",
      "exclude fn(itself) :  /app/src/ms2/dataset/MS 2 Github data part 10/yiaW/MAX_18112018 Position 235-1.tif.mortality.tab\n"
     ]
    }
   ],
   "source": [
    "import sys,os\n",
    "python_class_path='/app/src/ms2'\n",
    "sys.path.insert(1, os.path.join(sys.path[0], python_class_path))\n",
    "from Preprocessing import PreprocessingTabFile\n",
    "current_path = '/app/src/ms2/dataset/MS 2 Github data part 10/yiaW'\n",
    "prev_path = '/app/src/coliSurvivalAnalysis/xsong/Microfluidics Database'\n",
    "filter_file_path = ''\n",
    "selfFilter = True\n",
    "pre = PreprocessingTabFile(current_path,prev_path,filterFile=filter_file_path,autoFilter = selfFilter,report_folder_name='report',showProgress = True)\n",
    "pre.run()"
   ]
  }
 ],
 "metadata": {
  "language_info": {
   "codemirror_mode": {
    "name": "ipython",
    "version": 2
   },
   "file_extension": ".py",
   "mimetype": "text/x-python",
   "name": "python",
   "nbconvert_exporter": "python",
   "pygments_lexer": "ipython2",
   "version": "2.7.16"
  }
 },
 "nbformat": 4,
 "nbformat_minor": 2
}
