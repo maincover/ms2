{
 "cells": [
  {
   "cell_type": "markdown",
   "metadata": {},
   "source": [
    "# Preprocessing to detect duplication\n",
    "This is an auto-generated notebook."
   ]
  },
  {
   "cell_type": "code",
   "execution_count": 1,
   "metadata": {},
   "outputs": [
    {
     "name": "stdout",
     "output_type": "stream",
     "text": [
      "Total files length :  805  Filtered files length (after MD5 check) :  18\n",
      "check line duplication(open file) :  50 / 805\n",
      "check line duplication(open file) :  100 / 805\n",
      "check line duplication(open file) :  150 / 805\n",
      "check line duplication(open file) :  200 / 805\n",
      "check line duplication(open file) :  250 / 805\n",
      "check line duplication(open file) :  300 / 805\n",
      "check line duplication(open file) :  350 / 805\n",
      "check line duplication(open file) :  400 / 805\n",
      "check line duplication(open file) :  450 / 805\n",
      "check line duplication(open file) :  500 / 805\n",
      "check line duplication(open file) :  550 / 805\n",
      "check line duplication(open file) :  600 / 805\n",
      "check line duplication(open file) :  650 / 805\n",
      "check line duplication(open file) :  700 / 805\n",
      "check line duplication(open file) :  750 / 805\n",
      "check line duplication(open file) :  800 / 805\n",
      "check line duplication:  0 / 805\n",
      "check line duplication:  50 / 805\n",
      "check line duplication:  100 / 805\n",
      "check line duplication:  150 / 805\n",
      "check line duplication:  200 / 805\n",
      "check line duplication:  250 / 805\n",
      "check line duplication:  300 / 805\n",
      "check line duplication:  350 / 805\n",
      "check line duplication:  400 / 805\n",
      "check line duplication:  450 / 805\n",
      "check line duplication:  500 / 805\n",
      "check line duplication:  550 / 805\n",
      "check line duplication:  600 / 805\n",
      "check line duplication:  650 / 805\n",
      "check line duplication:  700 / 805\n",
      "check line duplication:  750 / 805\n",
      "exclude fn(itself) :  /home/xsong/mg-wt/dataset/MS2 for GitHub Updated 26.05.2019/nagZ/MAX_01112018 Position 101-1.tif.mortality.tab\n",
      "exclude fn(itself) :  /home/xsong/mg-wt/dataset/MS2 for GitHub Updated 26.05.2019/nagZ/MAX_01112018 Position 102-1.tif.mortality.tab\n",
      "exclude fn(itself) :  /home/xsong/mg-wt/dataset/MS2 for GitHub Updated 26.05.2019/nagZ/MAX_01112018 Position 109-1.tif.mortality.tab\n",
      "exclude fn(itself) :  /home/xsong/mg-wt/dataset/MS2 for GitHub Updated 26.05.2019/nagZ/MAX_01112018 Position 112-1.tif.mortality.tab\n",
      "exclude fn(itself) :  /home/xsong/mg-wt/dataset/MS2 for GitHub Updated 26.05.2019/nagZ/MAX_01112018 Position 113-1.tif.mortality.tab\n",
      "exclude fn(itself) :  /home/xsong/mg-wt/dataset/MS2 for GitHub Updated 26.05.2019/nagZ/MAX_01112018 Position 121-1.tif.mortality.tab\n",
      "exclude fn(itself) :  /home/xsong/mg-wt/dataset/MS2 for GitHub Updated 26.05.2019/nagZ/MAX_01112018 Position 126-1.tif.mortality.tab\n",
      "exclude fn(itself) :  /home/xsong/mg-wt/dataset/MS2 for GitHub Updated 26.05.2019/nagZ/MAX_01112018 Position 127-1.tif.mortality.tab\n",
      "exclude fn(itself) :  /home/xsong/mg-wt/dataset/MS2 for GitHub Updated 26.05.2019/nagZ/MAX_01112018 Position 128-1.tif.mortality.tab\n",
      "exclude fn(itself) :  /home/xsong/mg-wt/dataset/MS2 for GitHub Updated 26.05.2019/nagZ/MAX_01112018 Position 129-1.tif.mortality.tab\n",
      "exclude fn(itself) :  /home/xsong/mg-wt/dataset/MS2 for GitHub Updated 26.05.2019/nagZ/MAX_01112018 Position 130-1.tif.mortality.tab\n",
      "exclude fn(itself) :  /home/xsong/mg-wt/dataset/MS2 for GitHub Updated 26.05.2019/nagZ/MAX_01112018 Position 134-1.tif.mortality.tab\n",
      "exclude fn(itself) :  /home/xsong/mg-wt/dataset/MS2 for GitHub Updated 26.05.2019/nagZ/MAX_01112018 Position 68-1.tif.mortality.tab\n",
      "check line duplication:  800 / 805\n",
      "exclude fn(itself) :  /home/xsong/mg-wt/dataset/MS2 for GitHub Updated 26.05.2019/nagZ/MAX_01112018 Position 72-1.tif.mortality.tab\n",
      "exclude fn(itself) :  /home/xsong/mg-wt/dataset/MS2 for GitHub Updated 26.05.2019/nagZ/MAX_01112018 Position 73-1.tif.mortality.tab\n",
      "exclude fn(itself) :  /home/xsong/mg-wt/dataset/MS2 for GitHub Updated 26.05.2019/nagZ/MAX_01112018 Position 78-1.tif.mortality.tab\n",
      "exclude fn(itself) :  /home/xsong/mg-wt/dataset/MS2 for GitHub Updated 26.05.2019/nagZ/MAX_01112018 Position 92-1.tif.mortality.tab\n",
      "exclude fn(itself) :  /home/xsong/mg-wt/dataset/MS2 for GitHub Updated 26.05.2019/nagZ/MAX_01112018 Position 96-1.tif.mortality.tab\n"
     ]
    }
   ],
   "source": [
    "import sys,os\n",
    "python_class_path='/home/xsong/mg-wt'\n",
    "sys.path.insert(1, os.path.join(sys.path[0], python_class_path))\n",
    "from Preprocessing import PreprocessingTabFile\n",
    "current_path = '/home/xsong/mg-wt/dataset/MS2 for GitHub Updated 26.05.2019/nagZ'\n",
    "prev_path = '/home/xsong/coliSurvivalAnalysis/xsong/Microfluidics Database'\n",
    "filter_file_path = ''\n",
    "selfFilter = True\n",
    "pre = PreprocessingTabFile(current_path,prev_path,filterFile=filter_file_path,autoFilter = selfFilter,report_folder_name='report',showProgress = True)\n",
    "pre.run()"
   ]
  }
 ],
 "metadata": {},
 "nbformat": 4,
 "nbformat_minor": 2
}
