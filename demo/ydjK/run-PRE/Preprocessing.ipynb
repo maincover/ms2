{
 "cells": [
  {
   "cell_type": "markdown",
   "metadata": {},
   "source": [
    "# Preprocessing to detect duplication\n",
    "This is an auto-generated notebook."
   ]
  },
  {
   "cell_type": "code",
   "execution_count": 1,
   "metadata": {},
   "outputs": [
    {
     "name": "stdout",
     "output_type": "stream",
     "text": [
      "Total files length :  808  Filtered files length (after MD5 check) :  21\n",
      "check line duplication(open file) :  50 / 808\n",
      "check line duplication(open file) :  100 / 808\n",
      "check line duplication(open file) :  150 / 808\n",
      "check line duplication(open file) :  200 / 808\n",
      "check line duplication(open file) :  250 / 808\n",
      "check line duplication(open file) :  300 / 808\n",
      "check line duplication(open file) :  350 / 808\n",
      "check line duplication(open file) :  400 / 808\n",
      "check line duplication(open file) :  450 / 808\n",
      "check line duplication(open file) :  500 / 808\n",
      "check line duplication(open file) :  550 / 808\n",
      "check line duplication(open file) :  600 / 808\n",
      "check line duplication(open file) :  650 / 808\n",
      "check line duplication(open file) :  700 / 808\n",
      "check line duplication(open file) :  750 / 808\n",
      "check line duplication(open file) :  800 / 808\n",
      "check line duplication:  0 / 808\n",
      "check line duplication:  50 / 808\n",
      "check line duplication:  100 / 808\n",
      "check line duplication:  150 / 808\n",
      "check line duplication:  200 / 808\n",
      "check line duplication:  250 / 808\n",
      "check line duplication:  300 / 808\n",
      "check line duplication:  350 / 808\n",
      "check line duplication:  400 / 808\n",
      "check line duplication:  450 / 808\n",
      "check line duplication:  500 / 808\n",
      "check line duplication:  550 / 808\n",
      "check line duplication:  600 / 808\n",
      "check line duplication:  650 / 808\n",
      "check line duplication:  700 / 808\n",
      "check line duplication:  750 / 808\n",
      "exclude fn(itself) :  /app/src/ms2/dataset/MS 2 Github data part 10/ydjK/MAX_18112018 Position 189-1.tif.mortality.tab\n",
      "exclude fn(itself) :  /app/src/ms2/dataset/MS 2 Github data part 10/ydjK/MAX_18112018 Position 190-1.tif.mortality.tab\n",
      "exclude fn(itself) :  /app/src/ms2/dataset/MS 2 Github data part 10/ydjK/MAX_18112018 Position 191-1.tif.mortality.tab\n",
      "exclude fn(itself) :  /app/src/ms2/dataset/MS 2 Github data part 10/ydjK/MAX_18112018 Position 192-1.tif.mortality.tab\n",
      "exclude fn(itself) :  /app/src/ms2/dataset/MS 2 Github data part 10/ydjK/MAX_18112018 Position 193-1.tif.mortality.tab\n",
      "exclude fn(itself) :  /app/src/ms2/dataset/MS 2 Github data part 10/ydjK/MAX_18112018 Position 194-1.tif.mortality.tab\n",
      "exclude fn(itself) :  /app/src/ms2/dataset/MS 2 Github data part 10/ydjK/MAX_18112018 Position 195-1.tif.mortality.tab\n",
      "exclude fn(itself) :  /app/src/ms2/dataset/MS 2 Github data part 10/ydjK/MAX_18112018 Position 198-1.tif.mortality.tab\n",
      "exclude fn(itself) :  /app/src/ms2/dataset/MS 2 Github data part 10/ydjK/MAX_18112018 Position 199-1.tif.mortality.tab\n",
      "exclude fn(itself) :  /app/src/ms2/dataset/MS 2 Github data part 10/ydjK/MAX_18112018 Position 200-1.tif.mortality.tab\n",
      "exclude fn(itself) :  /app/src/ms2/dataset/MS 2 Github data part 10/ydjK/MAX_18112018 Position 201-1.tif.mortality.tab\n",
      "exclude fn(itself) :  /app/src/ms2/dataset/MS 2 Github data part 10/ydjK/MAX_18112018 Position 202-1.tif.mortality.tab\n",
      "exclude fn(itself) :  /app/src/ms2/dataset/MS 2 Github data part 10/ydjK/MAX_18112018 Position 203-1.tif.mortality.tab\n",
      "check line duplication:  800 / 808\n",
      "exclude fn(itself) :  /app/src/ms2/dataset/MS 2 Github data part 10/ydjK/MAX_18112018 Position 204-1.tif.mortality.tab\n",
      "exclude fn(itself) :  /app/src/ms2/dataset/MS 2 Github data part 10/ydjK/MAX_18112018 Position 207-1.tif.mortality.tab\n",
      "exclude fn(itself) :  /app/src/ms2/dataset/MS 2 Github data part 10/ydjK/MAX_18112018 Position 208-1.tif.mortality.tab\n",
      "exclude fn(itself) :  /app/src/ms2/dataset/MS 2 Github data part 10/ydjK/MAX_18112018 Position 209-1.tif.mortality.tab\n",
      "exclude fn(itself) :  /app/src/ms2/dataset/MS 2 Github data part 10/ydjK/MAX_18112018 Position 210-1.tif.mortality.tab\n",
      "exclude fn(itself) :  /app/src/ms2/dataset/MS 2 Github data part 10/ydjK/MAX_18112018 Position 211-1.tif.mortality.tab\n",
      "exclude fn(itself) :  /app/src/ms2/dataset/MS 2 Github data part 10/ydjK/MAX_18112018 Position 212-1.tif.mortality.tab\n",
      "exclude fn(itself) :  /app/src/ms2/dataset/MS 2 Github data part 10/ydjK/MAX_18112018 Position 213-1.tif.mortality.tab\n"
     ]
    }
   ],
   "source": [
    "import sys,os\n",
    "python_class_path='/app/src/ms2'\n",
    "sys.path.insert(1, os.path.join(sys.path[0], python_class_path))\n",
    "from Preprocessing import PreprocessingTabFile\n",
    "current_path = '/app/src/ms2/dataset/MS 2 Github data part 10/ydjK'\n",
    "prev_path = '/app/src/coliSurvivalAnalysis/xsong/Microfluidics Database'\n",
    "filter_file_path = ''\n",
    "selfFilter = True\n",
    "pre = PreprocessingTabFile(current_path,prev_path,filterFile=filter_file_path,autoFilter = selfFilter,report_folder_name='report',showProgress = True)\n",
    "pre.run()"
   ]
  }
 ],
 "metadata": {
  "language_info": {
   "codemirror_mode": {
    "name": "ipython",
    "version": 2
   },
   "file_extension": ".py",
   "mimetype": "text/x-python",
   "name": "python",
   "nbconvert_exporter": "python",
   "pygments_lexer": "ipython2",
   "version": "2.7.16"
  }
 },
 "nbformat": 4,
 "nbformat_minor": 2
}
