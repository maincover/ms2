{
 "cells": [
  {
   "cell_type": "markdown",
   "metadata": {},
   "source": [
    "# GG_GGM_SELECTOR Write the result to table\n",
    "    "
   ]
  },
  {
   "cell_type": "code",
   "execution_count": 1,
   "metadata": {},
   "outputs": [
    {
     "name": "stdout",
     "output_type": "stream",
     "text": [
      "create output folder :  /app/src/ms2/dataset/MS 2 Github data part 10/ydjK/GG_GGM_TABLE\n",
      "[['/app/src/ms2/dataset/MS 2 Github data part 10/ydjK/CR-TA_ydjK-1_relative_timegrid_cluster0.pickle', '/app/src/ms2/dataset/MS 2 Github data part 10/ydjK/CR-TA_ydjK-1_mortality_dataframe_cluster0.pickle', 'CR-TA_ydjK-1_']]\n",
      "CR-TA_ydjK-1_\n"
     ]
    },
    {
     "name": "stderr",
     "output_type": "stream",
     "text": [
      "../../../cohortMortalitySummary.py:174: RuntimeWarning: invalid value encountered in divide\n",
      "  NA_lower = NelsonAalen * np.exp( norm.ppf(ALPHA/2)*np.sqrt(NA_var)/NelsonAalen )\n",
      "../../../cohortMortalitySummary.py:175: RuntimeWarning: invalid value encountered in divide\n",
      "  NA_upper = NelsonAalen * np.exp( norm.ppf(1-ALPHA/2)*np.sqrt(NA_var)/NelsonAalen )\n"
     ]
    },
    {
     "name": "stdout",
     "output_type": "stream",
     "text": [
      "----------- /app/src/ms2/dataset/MS 2 Github data part 10/ydjK/GG_GGM_TABLE/CR-TA_ydjK-1_.txt\n",
      "No error in flxsrv_fit\n",
      "31376.2998629\n",
      "13\n",
      "1 ['2018-11-18 00:00:00']\n",
      "No error in flxsrv_fit\n",
      "0.07095030906170058 1.0\n",
      "No error in flxsrv_fit\n",
      "N/A, choose GGM due to AIC\n"
     ]
    }
   ],
   "source": [
    "import sys,os\n",
    "python_class_path='/app/src/ms2'\n",
    "sys.path.insert(1, os.path.join(sys.path[0], python_class_path))\n",
    "from Selector_GG_GGM import GG_GGM_Selector\n",
    "data_folder = '/app/src/ms2/dataset/MS 2 Github data part 10/ydjK'\n",
    "out_folder = '/app/src/ms2/dataset/MS 2 Github data part 10/ydjK/GG_GGM_TABLE'\n",
    "gg_ggm_selector = GG_GGM_Selector(data_folder,out_folder)\n",
    "gg_ggm_selector.run()"
   ]
  }
 ],
 "metadata": {
  "language_info": {
   "codemirror_mode": {
    "name": "ipython",
    "version": 2
   },
   "file_extension": ".py",
   "mimetype": "text/x-python",
   "name": "python",
   "nbconvert_exporter": "python",
   "pygments_lexer": "ipython2",
   "version": "2.7.16"
  }
 },
 "nbformat": 4,
 "nbformat_minor": 2
}
