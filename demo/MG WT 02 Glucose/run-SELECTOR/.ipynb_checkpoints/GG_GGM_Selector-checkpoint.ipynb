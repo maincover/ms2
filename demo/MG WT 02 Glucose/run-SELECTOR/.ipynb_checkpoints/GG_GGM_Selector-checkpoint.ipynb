{
 "cells": [
  {
   "cell_type": "markdown",
   "metadata": {},
   "source": [
    "# GG_GGM_SELECTOR Write the result to table\n",
    "    "
   ]
  },
  {
   "cell_type": "code",
   "execution_count": 1,
   "metadata": {},
   "outputs": [
    {
     "name": "stdout",
     "output_type": "stream",
     "text": [
      "create output folder :  /home/xsong/coliSurvivalAnalysis/xsong/main/test dataset/05.10.2018/MG WT 02 Glucose/GG_GGM_TABLE\n",
      "[['/home/xsong/coliSurvivalAnalysis/xsong/main/test dataset/05.10.2018/MG WT 02 Glucose/CR-TA_MG WT 02 Glucose-1_mortality_dataframe_cluster0.pickle', '/home/xsong/coliSurvivalAnalysis/xsong/main/test dataset/05.10.2018/MG WT 02 Glucose/CR-TA_MG WT 02 Glucose-1_relative_timegrid_cluster0.pickle', 'CR-TA_MG WT 02 Glucose-1_']]\n",
      "CR-TA_MG WT 02 Glucose-1_\n"
     ]
    },
    {
     "name": "stderr",
     "output_type": "stream",
     "text": [
      "../../../cohortMortalitySummary.py:174: RuntimeWarning: invalid value encountered in divide\n",
      "  NA_lower = NelsonAalen * np.exp( norm.ppf(ALPHA/2)*np.sqrt(NA_var)/NelsonAalen )\n",
      "../../../cohortMortalitySummary.py:175: RuntimeWarning: invalid value encountered in divide\n",
      "  NA_upper = NelsonAalen * np.exp( norm.ppf(1-ALPHA/2)*np.sqrt(NA_var)/NelsonAalen )\n"
     ]
    },
    {
     "name": "stdout",
     "output_type": "stream",
     "text": [
      "----------- /home/xsong/coliSurvivalAnalysis/xsong/main/test dataset/05.10.2018/MG WT 02 Glucose/GG_GGM_TABLE/CR-TA_MG WT 02 Glucose-1_.txt\n",
      "No error in flxsrv_fit\n",
      "29862.8943439\n",
      "12\n",
      "1 ['2018-11-08 00:00:00']\n",
      "No error in flxsrv_fit\n",
      "0.0353045644695 1.0\n",
      "No error in flxsrv_fit\n"
     ]
    }
   ],
   "source": [
    "import sys,os\n",
    "python_class_path='/home/xsong/coliSurvivalAnalysis/xsong/main'\n",
    "sys.path.insert(1, os.path.join(sys.path[0], python_class_path))\n",
    "from Selector_GG_GGM import GG_GGM_Selector\n",
    "data_folder = '/home/xsong/coliSurvivalAnalysis/xsong/main/test dataset/05.10.2018/MG WT 02 Glucose'\n",
    "out_folder = '/home/xsong/coliSurvivalAnalysis/xsong/main/test dataset/05.10.2018/MG WT 02 Glucose/GG_GGM_TABLE'\n",
    "gg_ggm_selector = GG_GGM_Selector(data_folder,out_folder)\n",
    "gg_ggm_selector.run()"
   ]
  }
 ],
 "metadata": {
  "kernelspec": {
   "display_name": "Python 2",
   "language": "python",
   "name": "python2"
  },
  "language_info": {
   "codemirror_mode": {
    "name": "ipython",
    "version": 2
   },
   "file_extension": ".py",
   "mimetype": "text/x-python",
   "name": "python",
   "nbconvert_exporter": "python",
   "pygments_lexer": "ipython2",
   "version": "2.7.15"
  }
 },
 "nbformat": 4,
 "nbformat_minor": 2
}
