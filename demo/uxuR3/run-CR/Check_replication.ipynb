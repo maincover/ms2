{
 "cells": [
  {
   "cell_type": "markdown",
   "metadata": {},
   "source": [
    "# Check Replication and discard orphan files by clustering\n",
    "    "
   ]
  },
  {
   "cell_type": "code",
   "execution_count": 1,
   "metadata": {
    "scrolled": false
   },
   "outputs": [
    {
     "name": "stdout",
     "output_type": "stream",
     "text": [
      "path ref_df:  /app/src/ms2/dataset/MG WT 0.2% Glucose/CR-TA_MG WT 0.2% Glucose-1_mortality_dataframe_cluster0.pickle\n",
      "path ref_timegrid:  /app/src/ms2/dataset/MG WT 0.2% Glucose/CR-TA_MG WT 0.2% Glucose-1_relative_timegrid_cluster0.pickle\n"
     ]
    },
    {
     "name": "stderr",
     "output_type": "stream",
     "text": [
      "/app/src/ms2/cohortMortalitySummary.py:174: RuntimeWarning: invalid value encountered in divide\n",
      "  NA_lower = NelsonAalen * np.exp( norm.ppf(ALPHA/2)*np.sqrt(NA_var)/NelsonAalen )\n",
      "/app/src/ms2/cohortMortalitySummary.py:175: RuntimeWarning: invalid value encountered in divide\n",
      "  NA_upper = NelsonAalen * np.exp( norm.ppf(1-ALPHA/2)*np.sqrt(NA_var)/NelsonAalen )\n"
     ]
    },
    {
     "name": "stdout",
     "output_type": "stream",
     "text": [
      "Iterations: relative error in phi-hat = 1e-04 \n",
      "phi= 44.08829   sv2= 0.1482503   df= 17.89218   lambda= 297.3909 \n",
      "phi= 46.7982   sv2= 0.02310606   df= 8.389584   lambda= 2025.365 \n",
      "phi= 48.97974   sv2= 0.004899383   df= 5.514179   lambda= 9997.123 \n",
      "phi= 50.08814   sv2= 0.001654852   df= 3.979986   lambda= 30267.44 \n",
      "No error in flxsrv_fit\n",
      "df_paths:  [['/app/src/ms2/dataset/MS 2 Github data part 9/uxuR3/TA_uxuR3-1_mortality_dataframe.pickle']]\n",
      "meta_paths:  [['/app/src/ms2/dataset/MS 2 Github data part 9/uxuR3/TA_uxuR3-1_analysis_metadata.pickle']]\n",
      "timeseries_paths:  [['/app/src/ms2/dataset/MS 2 Github data part 9/uxuR3/TA_uxuR3-1_timeseries_dataframe.pickle']]\n",
      "-----------\n",
      "out_path_folder  ['/app/src/ms2/dataset/MS 2 Github data part 9/uxuR3'] \n",
      "\n",
      "out_name_s  ['TA_uxuR3-1_']\n",
      "check dataset type:  alcohol_indeces <type 'dict'>\n",
      "check dataset type:  time_indeces <type 'dict'>\n",
      "check dataset type:  corrected_illums <type 'dict'>\n",
      "check dataset type:  time_grid <type 'list'>\n",
      "check dataset type:  background_threshold <type 'int'>\n",
      "check dataset type:  alcohol_t <type 'datetime.datetime'>\n",
      "check dataset type:  all_illums <type 'dict'>\n",
      "check dataset type:  parameters <type 'dict'>\n",
      "check dataset type:  cells_included <type 'dict'>\n",
      "path df  /app/src/ms2/dataset/MS 2 Github data part 9/uxuR3/TA_uxuR3-1_mortality_dataframe.pickle\n",
      "path meta  /app/src/ms2/dataset/MS 2 Github data part 9/uxuR3/TA_uxuR3-1_analysis_metadata.pickle\n",
      "MAX_12072018 Position 111-1.tif.mortality.tab ------ MAX_12072018 Position 217-1.tif.mortality.tab\n",
      "MAX_12072018 Position 111-1.tif.mortality.tab ------ MAX_12072018 Position 219-1.tif.mortality.tab\n",
      "MAX_12072018 Position 111-1.tif.mortality.tab ------ MAX_12072018 Position 220-1.tif.mortality.tab\n",
      "MAX_12072018 Position 111-1.tif.mortality.tab ------ MAX_12072018 Position 221-1.tif.mortality.tab\n",
      "MAX_12072018 Position 111-1.tif.mortality.tab ------ MAX_12072018 Position 222-1.tif.mortality.tab\n",
      "MAX_12072018 Position 111-1.tif.mortality.tab ------ MAX_12072018 Position 225-1.tif.mortality.tab\n",
      "MAX_12072018 Position 111-1.tif.mortality.tab ------ MAX_12072018 Position 237-1.tif.mortality.tab\n",
      "MAX_12072018 Position 111-1.tif.mortality.tab ------ MAX_12072018 Position 244-1.tif.mortality.tab\n",
      "MAX_12072018 Position 111-1.tif.mortality.tab ------ MAX_12072018 Position 246-1.tif.mortality.tab\n",
      "MAX_12072018 Position 111-1.tif.mortality.tab ------ MAX_12072018 Position 250-1.tif.mortality.tab\n",
      "MAX_12072018 Position 111-1.tif.mortality.tab ------ MAX_12072018 Position 252-1.tif.mortality.tab\n",
      "MAX_12072018 Position 111-1.tif.mortality.tab ------ MAX_12072018 Position 255-1.tif.mortality.tab\n",
      "MAX_12072018 Position 217-1.tif.mortality.tab ------ MAX_12072018 Position 219-1.tif.mortality.tab\n",
      "MAX_12072018 Position 217-1.tif.mortality.tab ------ MAX_12072018 Position 220-1.tif.mortality.tab\n",
      "MAX_12072018 Position 217-1.tif.mortality.tab ------ MAX_12072018 Position 221-1.tif.mortality.tab\n",
      "MAX_12072018 Position 217-1.tif.mortality.tab ------ MAX_12072018 Position 222-1.tif.mortality.tab\n",
      "MAX_12072018 Position 217-1.tif.mortality.tab ------ MAX_12072018 Position 225-1.tif.mortality.tab\n",
      "MAX_12072018 Position 217-1.tif.mortality.tab ------ MAX_12072018 Position 237-1.tif.mortality.tab\n",
      "MAX_12072018 Position 217-1.tif.mortality.tab ------ MAX_12072018 Position 244-1.tif.mortality.tab\n",
      "MAX_12072018 Position 217-1.tif.mortality.tab ------ MAX_12072018 Position 246-1.tif.mortality.tab\n",
      "MAX_12072018 Position 217-1.tif.mortality.tab ------ MAX_12072018 Position 250-1.tif.mortality.tab\n",
      "MAX_12072018 Position 217-1.tif.mortality.tab ------ MAX_12072018 Position 252-1.tif.mortality.tab\n",
      "MAX_12072018 Position 217-1.tif.mortality.tab ------ MAX_12072018 Position 255-1.tif.mortality.tab\n",
      "MAX_12072018 Position 219-1.tif.mortality.tab ------ MAX_12072018 Position 220-1.tif.mortality.tab\n",
      "MAX_12072018 Position 219-1.tif.mortality.tab ------ MAX_12072018 Position 221-1.tif.mortality.tab\n",
      "MAX_12072018 Position 219-1.tif.mortality.tab ------ MAX_12072018 Position 222-1.tif.mortality.tab\n",
      "MAX_12072018 Position 219-1.tif.mortality.tab ------ MAX_12072018 Position 225-1.tif.mortality.tab\n",
      "MAX_12072018 Position 219-1.tif.mortality.tab ------ MAX_12072018 Position 237-1.tif.mortality.tab\n",
      "MAX_12072018 Position 219-1.tif.mortality.tab ------ MAX_12072018 Position 244-1.tif.mortality.tab\n",
      "MAX_12072018 Position 219-1.tif.mortality.tab ------ MAX_12072018 Position 246-1.tif.mortality.tab\n",
      "MAX_12072018 Position 219-1.tif.mortality.tab ------ MAX_12072018 Position 250-1.tif.mortality.tab\n",
      "MAX_12072018 Position 219-1.tif.mortality.tab ------ MAX_12072018 Position 252-1.tif.mortality.tab\n",
      "MAX_12072018 Position 219-1.tif.mortality.tab ------ MAX_12072018 Position 255-1.tif.mortality.tab\n",
      "MAX_12072018 Position 220-1.tif.mortality.tab ------ MAX_12072018 Position 221-1.tif.mortality.tab\n",
      "MAX_12072018 Position 220-1.tif.mortality.tab ------ MAX_12072018 Position 222-1.tif.mortality.tab\n",
      "MAX_12072018 Position 220-1.tif.mortality.tab ------ MAX_12072018 Position 225-1.tif.mortality.tab\n",
      "MAX_12072018 Position 220-1.tif.mortality.tab ------ MAX_12072018 Position 237-1.tif.mortality.tab\n",
      "MAX_12072018 Position 220-1.tif.mortality.tab ------ MAX_12072018 Position 244-1.tif.mortality.tab\n",
      "MAX_12072018 Position 220-1.tif.mortality.tab ------ MAX_12072018 Position 246-1.tif.mortality.tab\n",
      "MAX_12072018 Position 220-1.tif.mortality.tab ------ MAX_12072018 Position 250-1.tif.mortality.tab\n",
      "MAX_12072018 Position 220-1.tif.mortality.tab ------ MAX_12072018 Position 252-1.tif.mortality.tab\n",
      "MAX_12072018 Position 220-1.tif.mortality.tab ------ MAX_12072018 Position 255-1.tif.mortality.tab\n",
      "MAX_12072018 Position 221-1.tif.mortality.tab ------ MAX_12072018 Position 222-1.tif.mortality.tab\n",
      "MAX_12072018 Position 221-1.tif.mortality.tab ------ MAX_12072018 Position 225-1.tif.mortality.tab\n",
      "MAX_12072018 Position 221-1.tif.mortality.tab ------ MAX_12072018 Position 237-1.tif.mortality.tab\n",
      "MAX_12072018 Position 221-1.tif.mortality.tab ------ MAX_12072018 Position 244-1.tif.mortality.tab\n",
      "MAX_12072018 Position 221-1.tif.mortality.tab ------ MAX_12072018 Position 246-1.tif.mortality.tab\n",
      "MAX_12072018 Position 221-1.tif.mortality.tab ------ MAX_12072018 Position 250-1.tif.mortality.tab\n",
      "MAX_12072018 Position 221-1.tif.mortality.tab ------ MAX_12072018 Position 252-1.tif.mortality.tab\n",
      "MAX_12072018 Position 221-1.tif.mortality.tab ------ MAX_12072018 Position 255-1.tif.mortality.tab\n",
      "MAX_12072018 Position 222-1.tif.mortality.tab ------ MAX_12072018 Position 225-1.tif.mortality.tab\n",
      "MAX_12072018 Position 222-1.tif.mortality.tab ------ MAX_12072018 Position 237-1.tif.mortality.tab\n",
      "MAX_12072018 Position 222-1.tif.mortality.tab ------ MAX_12072018 Position 244-1.tif.mortality.tab\n",
      "MAX_12072018 Position 222-1.tif.mortality.tab ------ MAX_12072018 Position 246-1.tif.mortality.tab\n",
      "MAX_12072018 Position 222-1.tif.mortality.tab ------ MAX_12072018 Position 250-1.tif.mortality.tab\n",
      "MAX_12072018 Position 222-1.tif.mortality.tab ------ MAX_12072018 Position 252-1.tif.mortality.tab\n",
      "MAX_12072018 Position 222-1.tif.mortality.tab ------ MAX_12072018 Position 255-1.tif.mortality.tab\n",
      "MAX_12072018 Position 225-1.tif.mortality.tab ------ MAX_12072018 Position 237-1.tif.mortality.tab\n",
      "MAX_12072018 Position 225-1.tif.mortality.tab ------ MAX_12072018 Position 244-1.tif.mortality.tab\n",
      "MAX_12072018 Position 225-1.tif.mortality.tab ------ MAX_12072018 Position 246-1.tif.mortality.tab\n",
      "MAX_12072018 Position 225-1.tif.mortality.tab ------ MAX_12072018 Position 250-1.tif.mortality.tab\n",
      "MAX_12072018 Position 225-1.tif.mortality.tab ------ MAX_12072018 Position 252-1.tif.mortality.tab\n",
      "MAX_12072018 Position 225-1.tif.mortality.tab ------ MAX_12072018 Position 255-1.tif.mortality.tab\n",
      "MAX_12072018 Position 237-1.tif.mortality.tab ------ MAX_12072018 Position 244-1.tif.mortality.tab\n",
      "MAX_12072018 Position 237-1.tif.mortality.tab ------ MAX_12072018 Position 246-1.tif.mortality.tab\n",
      "MAX_12072018 Position 237-1.tif.mortality.tab ------ MAX_12072018 Position 250-1.tif.mortality.tab\n",
      "MAX_12072018 Position 237-1.tif.mortality.tab ------ MAX_12072018 Position 252-1.tif.mortality.tab\n",
      "MAX_12072018 Position 237-1.tif.mortality.tab ------ MAX_12072018 Position 255-1.tif.mortality.tab\n",
      "MAX_12072018 Position 244-1.tif.mortality.tab ------ MAX_12072018 Position 246-1.tif.mortality.tab\n"
     ]
    },
    {
     "name": "stdout",
     "output_type": "stream",
     "text": [
      "MAX_12072018 Position 244-1.tif.mortality.tab ------ MAX_12072018 Position 250-1.tif.mortality.tab\n",
      "MAX_12072018 Position 244-1.tif.mortality.tab ------ MAX_12072018 Position 252-1.tif.mortality.tab\n",
      "MAX_12072018 Position 244-1.tif.mortality.tab ------ MAX_12072018 Position 255-1.tif.mortality.tab\n",
      "MAX_12072018 Position 246-1.tif.mortality.tab ------ MAX_12072018 Position 250-1.tif.mortality.tab\n",
      "MAX_12072018 Position 246-1.tif.mortality.tab ------ MAX_12072018 Position 252-1.tif.mortality.tab\n",
      "MAX_12072018 Position 246-1.tif.mortality.tab ------ MAX_12072018 Position 255-1.tif.mortality.tab\n",
      "MAX_12072018 Position 250-1.tif.mortality.tab ------ MAX_12072018 Position 252-1.tif.mortality.tab\n",
      "MAX_12072018 Position 250-1.tif.mortality.tab ------ MAX_12072018 Position 255-1.tif.mortality.tab\n",
      "MAX_12072018 Position 252-1.tif.mortality.tab ------ MAX_12072018 Position 255-1.tif.mortality.tab\n",
      "dendrogram will be saved to :  /app/src/ms2/dataset/MS 2 Github data part 9/uxuR3\n",
      "save eps to :  /app/src/ms2/dataset/MS 2 Github data part 9/uxuR3/CR-TA_uxuR3-1_dentrogram-all-files.eps\n"
     ]
    },
    {
     "ename": "ValueError",
     "evalue": "The number of observations cannot be determined on an empty distance matrix.",
     "output_type": "error",
     "traceback": [
      "\u001b[0;31m---------------------------------------------------------------------------\u001b[0m",
      "\u001b[0;31mValueError\u001b[0m                                Traceback (most recent call last)",
      "\u001b[0;32m<ipython-input-1-3f022ebe2198>\u001b[0m in \u001b[0;36m<module>\u001b[0;34m()\u001b[0m\n\u001b[1;32m      8\u001b[0m \u001b[0mcutoff\u001b[0m \u001b[0;34m=\u001b[0m \u001b[0;34m-\u001b[0m\u001b[0;36m1\u001b[0m\u001b[0;34m\u001b[0m\u001b[0m\n\u001b[1;32m      9\u001b[0m \u001b[0mCR\u001b[0m \u001b[0;34m=\u001b[0m \u001b[0mCheckReplication\u001b[0m\u001b[0;34m(\u001b[0m\u001b[0mfolderPath\u001b[0m\u001b[0;34m,\u001b[0m \u001b[0mrefFolderPath\u001b[0m\u001b[0;34m=\u001b[0m\u001b[0mpath_ref_folder\u001b[0m\u001b[0;34m,\u001b[0m \u001b[0mcutoff\u001b[0m\u001b[0;34m=\u001b[0m\u001b[0mcutoff\u001b[0m\u001b[0;34m)\u001b[0m\u001b[0;34m\u001b[0m\u001b[0m\n\u001b[0;32m---> 10\u001b[0;31m \u001b[0mCR\u001b[0m\u001b[0;34m.\u001b[0m\u001b[0mrun\u001b[0m\u001b[0;34m(\u001b[0m\u001b[0;34m)\u001b[0m\u001b[0;34m\u001b[0m\u001b[0m\n\u001b[0m",
      "\u001b[0;32m/app/src/ms2/Check_Replication.pyc\u001b[0m in \u001b[0;36mrun\u001b[0;34m(self)\u001b[0m\n\u001b[1;32m     41\u001b[0m             \u001b[0mself\u001b[0m\u001b[0;34m.\u001b[0m\u001b[0mgetStatsFromRefDf_timegrid\u001b[0m\u001b[0;34m(\u001b[0m\u001b[0mself\u001b[0m\u001b[0;34m.\u001b[0m\u001b[0mdf_ref\u001b[0m\u001b[0;34m,\u001b[0m\u001b[0mself\u001b[0m\u001b[0;34m.\u001b[0m\u001b[0mtimegrid_ref\u001b[0m\u001b[0;34m)\u001b[0m\u001b[0;34m\u001b[0m\u001b[0m\n\u001b[1;32m     42\u001b[0m             \u001b[0mself\u001b[0m\u001b[0;34m.\u001b[0m\u001b[0mvsRef\u001b[0m \u001b[0;34m=\u001b[0m \u001b[0mTrue\u001b[0m\u001b[0;34m\u001b[0m\u001b[0m\n\u001b[0;32m---> 43\u001b[0;31m         \u001b[0mself\u001b[0m\u001b[0;34m.\u001b[0m\u001b[0mgetDf_timegrid_timeseries\u001b[0m\u001b[0;34m(\u001b[0m\u001b[0mself\u001b[0m\u001b[0;34m.\u001b[0m\u001b[0mfolderPath\u001b[0m\u001b[0;34m,\u001b[0m\u001b[0mshowProgress\u001b[0m \u001b[0;34m=\u001b[0m \u001b[0mTrue\u001b[0m\u001b[0;34m)\u001b[0m\u001b[0;34m\u001b[0m\u001b[0m\n\u001b[0m\u001b[1;32m     44\u001b[0m \u001b[0;34m\u001b[0m\u001b[0m\n\u001b[1;32m     45\u001b[0m \u001b[0;34m\u001b[0m\u001b[0m\n",
      "\u001b[0;32m/app/src/ms2/Check_Replication.pyc\u001b[0m in \u001b[0;36mgetDf_timegrid_timeseries\u001b[0;34m(self, path_folder, showProgress)\u001b[0m\n\u001b[1;32m    132\u001b[0m         \u001b[0mself\u001b[0m\u001b[0;34m.\u001b[0m\u001b[0mout_name_s\u001b[0m \u001b[0;34m=\u001b[0m \u001b[0mout_name_s\u001b[0m\u001b[0;34m\u001b[0m\u001b[0m\n\u001b[1;32m    133\u001b[0m         \u001b[0mCheckReplication\u001b[0m\u001b[0;34m.\u001b[0m\u001b[0mrunDentrogramFromList\u001b[0m\u001b[0;34m(\u001b[0m\u001b[0mfiles_s\u001b[0m\u001b[0;34m,\u001b[0m\u001b[0mpdist_s\u001b[0m\u001b[0;34m,\u001b[0m\u001b[0mout_path_folder_s\u001b[0m\u001b[0;34m,\u001b[0m \u001b[0mout_name_s\u001b[0m\u001b[0;34m,\u001b[0m\u001b[0mself\u001b[0m\u001b[0;34m.\u001b[0m\u001b[0mcutoff_c\u001b[0m\u001b[0;34m)\u001b[0m\u001b[0;34m\u001b[0m\u001b[0m\n\u001b[0;32m--> 134\u001b[0;31m         \u001b[0mself\u001b[0m\u001b[0;34m.\u001b[0m\u001b[0mrunClusterFromList\u001b[0m\u001b[0;34m(\u001b[0m\u001b[0mfiles_s\u001b[0m\u001b[0;34m,\u001b[0m \u001b[0mpdist_s\u001b[0m\u001b[0;34m,\u001b[0m\u001b[0mdf_s\u001b[0m\u001b[0;34m,\u001b[0m \u001b[0mtss_by_pos_s\u001b[0m\u001b[0;34m,\u001b[0m\u001b[0mprofile_s\u001b[0m\u001b[0;34m,\u001b[0m\u001b[0mout_path_folder_s\u001b[0m\u001b[0;34m,\u001b[0m \u001b[0mout_name_s\u001b[0m\u001b[0;34m)\u001b[0m\u001b[0;34m\u001b[0m\u001b[0m\n\u001b[0m\u001b[1;32m    135\u001b[0m \u001b[0;34m\u001b[0m\u001b[0m\n\u001b[1;32m    136\u001b[0m     \u001b[0;34m@\u001b[0m\u001b[0mstaticmethod\u001b[0m\u001b[0;34m\u001b[0m\u001b[0m\n",
      "\u001b[0;32m/app/src/ms2/Check_Replication.pyc\u001b[0m in \u001b[0;36mrunClusterFromList\u001b[0;34m(self, files_s, pdist_s, df_s, tss_by_pos_s, profile_s, path_folder_s, name_s)\u001b[0m\n\u001b[1;32m    422\u001b[0m             \u001b[0mout_folder\u001b[0m \u001b[0;34m=\u001b[0m \u001b[0mpath_folder_s\u001b[0m\u001b[0;34m[\u001b[0m\u001b[0midx\u001b[0m\u001b[0;34m]\u001b[0m\u001b[0;34m\u001b[0m\u001b[0m\n\u001b[1;32m    423\u001b[0m             \u001b[0mname\u001b[0m \u001b[0;34m=\u001b[0m \u001b[0mname_s\u001b[0m\u001b[0;34m[\u001b[0m\u001b[0midx\u001b[0m\u001b[0;34m]\u001b[0m\u001b[0;34m\u001b[0m\u001b[0m\n\u001b[0;32m--> 424\u001b[0;31m             \u001b[0mself\u001b[0m\u001b[0;34m.\u001b[0m\u001b[0mrunCluster\u001b[0m\u001b[0;34m(\u001b[0m\u001b[0mfiles\u001b[0m\u001b[0;34m,\u001b[0m\u001b[0mpdist\u001b[0m\u001b[0;34m,\u001b[0m\u001b[0mdf\u001b[0m\u001b[0;34m,\u001b[0m \u001b[0mtss_by_pos\u001b[0m\u001b[0;34m,\u001b[0m\u001b[0mprofile\u001b[0m\u001b[0;34m,\u001b[0m\u001b[0mout_folder\u001b[0m\u001b[0;34m,\u001b[0m\u001b[0mname\u001b[0m\u001b[0;34m)\u001b[0m\u001b[0;34m\u001b[0m\u001b[0m\n\u001b[0m\u001b[1;32m    425\u001b[0m \u001b[0;34m\u001b[0m\u001b[0m\n\u001b[1;32m    426\u001b[0m     \u001b[0;32mdef\u001b[0m \u001b[0mrunCluster\u001b[0m\u001b[0;34m(\u001b[0m\u001b[0mself\u001b[0m\u001b[0;34m,\u001b[0m\u001b[0mfiles\u001b[0m\u001b[0;34m,\u001b[0m \u001b[0mpdist\u001b[0m\u001b[0;34m,\u001b[0m\u001b[0mdf\u001b[0m\u001b[0;34m,\u001b[0m \u001b[0mtss_by_pos\u001b[0m\u001b[0;34m,\u001b[0m\u001b[0mprofile\u001b[0m\u001b[0;34m,\u001b[0m\u001b[0mout_folder\u001b[0m\u001b[0;34m,\u001b[0m\u001b[0mname\u001b[0m\u001b[0;34m,\u001b[0m\u001b[0mshowProgress\u001b[0m\u001b[0;34m=\u001b[0m\u001b[0mTrue\u001b[0m\u001b[0;34m)\u001b[0m\u001b[0;34m:\u001b[0m\u001b[0;34m\u001b[0m\u001b[0m\n",
      "\u001b[0;32m/app/src/ms2/Check_Replication.pyc\u001b[0m in \u001b[0;36mrunCluster\u001b[0;34m(self, files, pdist, df, tss_by_pos, profile, out_folder, name, showProgress)\u001b[0m\n\u001b[1;32m    477\u001b[0m                     \u001b[0mk\u001b[0m\u001b[0;34m+=\u001b[0m\u001b[0;36m1\u001b[0m\u001b[0;34m\u001b[0m\u001b[0m\n\u001b[1;32m    478\u001b[0m \u001b[0;34m\u001b[0m\u001b[0m\n\u001b[0;32m--> 479\u001b[0;31m             \u001b[0msuperclusters\u001b[0m \u001b[0;34m=\u001b[0m \u001b[0mfcluster\u001b[0m\u001b[0;34m(\u001b[0m\u001b[0mcomplete\u001b[0m\u001b[0;34m(\u001b[0m\u001b[0mcpdist\u001b[0m\u001b[0;34m)\u001b[0m\u001b[0;34m,\u001b[0m\u001b[0mcutoff\u001b[0m\u001b[0;34m,\u001b[0m\u001b[0mcriterion\u001b[0m\u001b[0;34m=\u001b[0m\u001b[0;34m'distance'\u001b[0m\u001b[0;34m)\u001b[0m\u001b[0;34m\u001b[0m\u001b[0m\n\u001b[0m\u001b[1;32m    480\u001b[0m             \u001b[0;32mif\u001b[0m \u001b[0mnc\u001b[0m \u001b[0;34m==\u001b[0m \u001b[0mnp\u001b[0m\u001b[0;34m.\u001b[0m\u001b[0mmax\u001b[0m\u001b[0;34m(\u001b[0m\u001b[0msuperclusters\u001b[0m\u001b[0;34m)\u001b[0m\u001b[0;34m:\u001b[0m\u001b[0;34m\u001b[0m\u001b[0m\n\u001b[1;32m    481\u001b[0m                 \u001b[0mclustersFixed\u001b[0m \u001b[0;34m=\u001b[0m \u001b[0mTrue\u001b[0m\u001b[0;34m\u001b[0m\u001b[0m\n",
      "\u001b[0;32m/app/miniconda/envs/py27/lib/python2.7/site-packages/scipy/cluster/hierarchy.pyc\u001b[0m in \u001b[0;36mcomplete\u001b[0;34m(y)\u001b[0m\n\u001b[1;32m    285\u001b[0m \u001b[0;34m\u001b[0m\u001b[0m\n\u001b[1;32m    286\u001b[0m     \"\"\"\n\u001b[0;32m--> 287\u001b[0;31m     \u001b[0;32mreturn\u001b[0m \u001b[0mlinkage\u001b[0m\u001b[0;34m(\u001b[0m\u001b[0my\u001b[0m\u001b[0;34m,\u001b[0m \u001b[0mmethod\u001b[0m\u001b[0;34m=\u001b[0m\u001b[0;34m'complete'\u001b[0m\u001b[0;34m,\u001b[0m \u001b[0mmetric\u001b[0m\u001b[0;34m=\u001b[0m\u001b[0;34m'euclidean'\u001b[0m\u001b[0;34m)\u001b[0m\u001b[0;34m\u001b[0m\u001b[0m\n\u001b[0m\u001b[1;32m    288\u001b[0m \u001b[0;34m\u001b[0m\u001b[0m\n\u001b[1;32m    289\u001b[0m \u001b[0;34m\u001b[0m\u001b[0m\n",
      "\u001b[0;32m/app/miniconda/envs/py27/lib/python2.7/site-packages/scipy/cluster/hierarchy.pyc\u001b[0m in \u001b[0;36mlinkage\u001b[0;34m(y, method, metric)\u001b[0m\n\u001b[1;32m    676\u001b[0m         \u001b[0;32mraise\u001b[0m \u001b[0mValueError\u001b[0m\u001b[0;34m(\u001b[0m\u001b[0;34m\"The condensed distance matrix must contain only finite values.\"\u001b[0m\u001b[0;34m)\u001b[0m\u001b[0;34m\u001b[0m\u001b[0m\n\u001b[1;32m    677\u001b[0m \u001b[0;34m\u001b[0m\u001b[0m\n\u001b[0;32m--> 678\u001b[0;31m     \u001b[0mn\u001b[0m \u001b[0;34m=\u001b[0m \u001b[0mint\u001b[0m\u001b[0;34m(\u001b[0m\u001b[0mdistance\u001b[0m\u001b[0;34m.\u001b[0m\u001b[0mnum_obs_y\u001b[0m\u001b[0;34m(\u001b[0m\u001b[0my\u001b[0m\u001b[0;34m)\u001b[0m\u001b[0;34m)\u001b[0m\u001b[0;34m\u001b[0m\u001b[0m\n\u001b[0m\u001b[1;32m    679\u001b[0m     \u001b[0mmethod_code\u001b[0m \u001b[0;34m=\u001b[0m \u001b[0m_LINKAGE_METHODS\u001b[0m\u001b[0;34m[\u001b[0m\u001b[0mmethod\u001b[0m\u001b[0;34m]\u001b[0m\u001b[0;34m\u001b[0m\u001b[0m\n\u001b[1;32m    680\u001b[0m     \u001b[0;32mif\u001b[0m \u001b[0mmethod\u001b[0m \u001b[0;34m==\u001b[0m \u001b[0;34m'single'\u001b[0m\u001b[0;34m:\u001b[0m\u001b[0;34m\u001b[0m\u001b[0m\n",
      "\u001b[0;32m/app/miniconda/envs/py27/lib/python2.7/site-packages/scipy/spatial/distance.pyc\u001b[0m in \u001b[0;36mnum_obs_y\u001b[0;34m(Y)\u001b[0m\n\u001b[1;32m   1810\u001b[0m     \u001b[0mk\u001b[0m \u001b[0;34m=\u001b[0m \u001b[0mY\u001b[0m\u001b[0;34m.\u001b[0m\u001b[0mshape\u001b[0m\u001b[0;34m[\u001b[0m\u001b[0;36m0\u001b[0m\u001b[0;34m]\u001b[0m\u001b[0;34m\u001b[0m\u001b[0m\n\u001b[1;32m   1811\u001b[0m     \u001b[0;32mif\u001b[0m \u001b[0mk\u001b[0m \u001b[0;34m==\u001b[0m \u001b[0;36m0\u001b[0m\u001b[0;34m:\u001b[0m\u001b[0;34m\u001b[0m\u001b[0m\n\u001b[0;32m-> 1812\u001b[0;31m         raise ValueError(\"The number of observations cannot be determined on \"\n\u001b[0m\u001b[1;32m   1813\u001b[0m                          \"an empty distance matrix.\")\n\u001b[1;32m   1814\u001b[0m     \u001b[0md\u001b[0m \u001b[0;34m=\u001b[0m \u001b[0mint\u001b[0m\u001b[0;34m(\u001b[0m\u001b[0mnp\u001b[0m\u001b[0;34m.\u001b[0m\u001b[0mceil\u001b[0m\u001b[0;34m(\u001b[0m\u001b[0mnp\u001b[0m\u001b[0;34m.\u001b[0m\u001b[0msqrt\u001b[0m\u001b[0;34m(\u001b[0m\u001b[0mk\u001b[0m \u001b[0;34m*\u001b[0m \u001b[0;36m2\u001b[0m\u001b[0;34m)\u001b[0m\u001b[0;34m)\u001b[0m\u001b[0;34m)\u001b[0m\u001b[0;34m\u001b[0m\u001b[0m\n",
      "\u001b[0;31mValueError\u001b[0m: The number of observations cannot be determined on an empty distance matrix."
     ]
    },
    {
     "data": {
      "image/png": "[encoded data removed]",
      "text/plain": [
       "<Figure size 432x288 with 1 Axes>"
      ]
     },
     "metadata": {
      "needs_background": "light"
     },
     "output_type": "display_data"
    }
   ],
   "source": [
    "%matplotlib inline\n",
    "import sys,os\n",
    "python_class_path='/app/src/ms2'\n",
    "sys.path.insert(1, os.path.join(sys.path[0], python_class_path))\n",
    "from Check_Replication import CheckReplication\n",
    "folderPath='/app/src/ms2/dataset/MS 2 Github data part 9/uxuR3'\n",
    "path_ref_folder ='/app/src/ms2/dataset'\n",
    "cutoff = -1\n",
    "CR = CheckReplication(folderPath, refFolderPath=path_ref_folder, cutoff=cutoff)\n",
    "CR.run()"
   ]
  }
 ],
 "metadata": {
  "kernelspec": {
   "display_name": "Python 2",
   "language": "python",
   "name": "python2"
  },
  "language_info": {
   "codemirror_mode": {
    "name": "ipython",
    "version": 2
   },
   "file_extension": ".py",
   "mimetype": "text/x-python",
   "name": "python",
   "nbconvert_exporter": "python",
   "pygments_lexer": "ipython2",
   "version": "2.7.16"
  }
 },
 "nbformat": 4,
 "nbformat_minor": 2
}
