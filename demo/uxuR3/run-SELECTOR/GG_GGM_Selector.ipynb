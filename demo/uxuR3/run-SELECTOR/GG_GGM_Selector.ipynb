{
 "cells": [
  {
   "cell_type": "markdown",
   "metadata": {},
   "source": [
    "# GG_GGM_SELECTOR Write the result to table\n",
    "    "
   ]
  },
  {
   "cell_type": "code",
   "execution_count": 1,
   "metadata": {},
   "outputs": [
    {
     "name": "stdout",
     "output_type": "stream",
     "text": [
      "create output folder :  /app/src/ms2/dataset/MS 2 part 9 version 2 correct/uxuR3/GG_GGM_TABLE\n",
      "[['/app/src/ms2/dataset/MS 2 part 9 version 2 correct/uxuR3/CR-TA_uxuR3-1_relative_timegrid_cluster0.pickle', '/app/src/ms2/dataset/MS 2 part 9 version 2 correct/uxuR3/CR-TA_uxuR3-1_mortality_dataframe_cluster0.pickle', 'CR-TA_uxuR3-1_']]\n",
      "CR-TA_uxuR3-1_\n"
     ]
    },
    {
     "name": "stderr",
     "output_type": "stream",
     "text": [
      "../../../cohortMortalitySummary.py:174: RuntimeWarning: invalid value encountered in divide\n",
      "  NA_lower = NelsonAalen * np.exp( norm.ppf(ALPHA/2)*np.sqrt(NA_var)/NelsonAalen )\n",
      "../../../cohortMortalitySummary.py:175: RuntimeWarning: invalid value encountered in divide\n",
      "  NA_upper = NelsonAalen * np.exp( norm.ppf(1-ALPHA/2)*np.sqrt(NA_var)/NelsonAalen )\n"
     ]
    },
    {
     "name": "stdout",
     "output_type": "stream",
     "text": [
      "----------- /app/src/ms2/dataset/MS 2 part 9 version 2 correct/uxuR3/GG_GGM_TABLE/CR-TA_uxuR3-1_.txt\n",
      "No error in flxsrv_fit\n",
      "7429.73051626\n",
      "9\n",
      "1 ['2018-07-12 00:00:00']\n",
      "No error in flxsrv_fit\n",
      "8.200653121452496e-66 0.0791111111111111\n",
      "No error in flxsrv_fit\n"
     ]
    },
    {
     "name": "stderr",
     "output_type": "stream",
     "text": [
      "/app/miniconda/envs/py27/lib/python2.7/site-packages/rpy2/rinterface/__init__.py:186: RRuntimeWarning: Error in (function (x, B, newdata = NULL, X = NULL, transform = FALSE,  : \n",
      "  Covariance matrix not available from non-converged model\n",
      "\n",
      "  warnings.warn(x, RRuntimeWarning)\n",
      "/app/miniconda/envs/py27/lib/python2.7/site-packages/rpy2/rinterface/__init__.py:186: RRuntimeWarning: In addition: \n",
      "  warnings.warn(x, RRuntimeWarning)\n",
      "/app/miniconda/envs/py27/lib/python2.7/site-packages/rpy2/rinterface/__init__.py:186: RRuntimeWarning: There were 50 or more warnings (use warnings() to see the first 50)\n",
      "  warnings.warn(x, RRuntimeWarning)\n",
      "/app/miniconda/envs/py27/lib/python2.7/site-packages/rpy2/rinterface/__init__.py:186: RRuntimeWarning: \n",
      "\n",
      "  warnings.warn(x, RRuntimeWarning)\n"
     ]
    },
    {
     "name": "stdout",
     "output_type": "stream",
     "text": [
      "\u001b[31m\"ERROR in step ggmStats(df)\"\u001b[0m\n"
     ]
    }
   ],
   "source": [
    "import sys,os\n",
    "python_class_path='/app/src/ms2'\n",
    "sys.path.insert(1, os.path.join(sys.path[0], python_class_path))\n",
    "from Selector_GG_GGM import GG_GGM_Selector\n",
    "data_folder = '/app/src/ms2/dataset/MS 2 part 9 version 2 correct/uxuR3'\n",
    "out_folder = '/app/src/ms2/dataset/MS 2 part 9 version 2 correct/uxuR3/GG_GGM_TABLE'\n",
    "gg_ggm_selector = GG_GGM_Selector(data_folder,out_folder)\n",
    "gg_ggm_selector.run()"
   ]
  }
 ],
 "metadata": {
  "language_info": {
   "codemirror_mode": {
    "name": "ipython",
    "version": 2
   },
   "file_extension": ".py",
   "mimetype": "text/x-python",
   "name": "python",
   "nbconvert_exporter": "python",
   "pygments_lexer": "ipython2",
   "version": "2.7.16"
  }
 },
 "nbformat": 4,
 "nbformat_minor": 2
}
