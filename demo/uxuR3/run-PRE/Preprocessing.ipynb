{
 "cells": [
  {
   "cell_type": "markdown",
   "metadata": {},
   "source": [
    "# Preprocessing to detect duplication\n",
    "This is an auto-generated notebook."
   ]
  },
  {
   "cell_type": "code",
   "execution_count": 1,
   "metadata": {},
   "outputs": [
    {
     "name": "stdout",
     "output_type": "stream",
     "text": [
      "Total files length :  800  Filtered files length (after MD5 check) :  13\n",
      "check line duplication(open file) :  50 / 800\n",
      "check line duplication(open file) :  100 / 800\n",
      "check line duplication(open file) :  150 / 800\n",
      "check line duplication(open file) :  200 / 800\n",
      "check line duplication(open file) :  250 / 800\n",
      "check line duplication(open file) :  300 / 800\n",
      "check line duplication(open file) :  350 / 800\n",
      "check line duplication(open file) :  400 / 800\n",
      "check line duplication(open file) :  450 / 800\n",
      "check line duplication(open file) :  500 / 800\n",
      "check line duplication(open file) :  550 / 800\n",
      "check line duplication(open file) :  600 / 800\n",
      "check line duplication(open file) :  650 / 800\n",
      "check line duplication(open file) :  700 / 800\n",
      "check line duplication(open file) :  750 / 800\n",
      "check line duplication(open file) :  800 / 800\n",
      "check line duplication:  0 / 800\n",
      "check line duplication:  50 / 800\n",
      "check line duplication:  100 / 800\n",
      "check line duplication:  150 / 800\n",
      "check line duplication:  200 / 800\n",
      "check line duplication:  250 / 800\n",
      "check line duplication:  300 / 800\n",
      "check line duplication:  350 / 800\n",
      "check line duplication:  400 / 800\n",
      "check line duplication:  450 / 800\n",
      "check line duplication:  500 / 800\n",
      "check line duplication:  550 / 800\n",
      "check line duplication:  600 / 800\n",
      "check line duplication:  650 / 800\n",
      "check line duplication:  700 / 800\n",
      "check line duplication:  750 / 800\n",
      "exclude fn(itself) :  /app/src/ms2/dataset/MS 2 Github data part 9/uxuR3/MAX_12072018 Position 111-1.tif.mortality.tab\n",
      "exclude fn(itself) :  /app/src/ms2/dataset/MS 2 Github data part 9/uxuR3/MAX_12072018 Position 217-1.tif.mortality.tab\n",
      "exclude fn(itself) :  /app/src/ms2/dataset/MS 2 Github data part 9/uxuR3/MAX_12072018 Position 219-1.tif.mortality.tab\n",
      "exclude fn(itself) :  /app/src/ms2/dataset/MS 2 Github data part 9/uxuR3/MAX_12072018 Position 220-1.tif.mortality.tab\n",
      "exclude fn(itself) :  /app/src/ms2/dataset/MS 2 Github data part 9/uxuR3/MAX_12072018 Position 221-1.tif.mortality.tab\n",
      "exclude fn(itself) :  /app/src/ms2/dataset/MS 2 Github data part 9/uxuR3/MAX_12072018 Position 222-1.tif.mortality.tab\n",
      "exclude fn(itself) :  /app/src/ms2/dataset/MS 2 Github data part 9/uxuR3/MAX_12072018 Position 225-1.tif.mortality.tab\n",
      "exclude fn(itself) :  /app/src/ms2/dataset/MS 2 Github data part 9/uxuR3/MAX_12072018 Position 237-1.tif.mortality.tab\n",
      "exclude fn(itself) :  /app/src/ms2/dataset/MS 2 Github data part 9/uxuR3/MAX_12072018 Position 244-1.tif.mortality.tab\n",
      "exclude fn(itself) :  /app/src/ms2/dataset/MS 2 Github data part 9/uxuR3/MAX_12072018 Position 246-1.tif.mortality.tab\n",
      "exclude fn(itself) :  /app/src/ms2/dataset/MS 2 Github data part 9/uxuR3/MAX_12072018 Position 250-1.tif.mortality.tab\n",
      "exclude fn(itself) :  /app/src/ms2/dataset/MS 2 Github data part 9/uxuR3/MAX_12072018 Position 252-1.tif.mortality.tab\n",
      "exclude fn(itself) :  /app/src/ms2/dataset/MS 2 Github data part 9/uxuR3/MAX_12072018 Position 255-1.tif.mortality.tab\n"
     ]
    }
   ],
   "source": [
    "import sys,os\n",
    "python_class_path='/app/src/ms2'\n",
    "sys.path.insert(1, os.path.join(sys.path[0], python_class_path))\n",
    "from Preprocessing import PreprocessingTabFile\n",
    "current_path = '/app/src/ms2/dataset/MS 2 Github data part 9/uxuR3'\n",
    "prev_path = '/app/src/coliSurvivalAnalysis/xsong/Microfluidics Database'\n",
    "filter_file_path = ''\n",
    "selfFilter = True\n",
    "pre = PreprocessingTabFile(current_path,prev_path,filterFile=filter_file_path,autoFilter = selfFilter,report_folder_name='report',showProgress = True)\n",
    "pre.run()"
   ]
  }
 ],
 "metadata": {
  "language_info": {
   "codemirror_mode": {
    "name": "ipython",
    "version": 2
   },
   "file_extension": ".py",
   "mimetype": "text/x-python",
   "name": "python",
   "nbconvert_exporter": "python",
   "pygments_lexer": "ipython2",
   "version": "2.7.16"
  }
 },
 "nbformat": 4,
 "nbformat_minor": 2
}
