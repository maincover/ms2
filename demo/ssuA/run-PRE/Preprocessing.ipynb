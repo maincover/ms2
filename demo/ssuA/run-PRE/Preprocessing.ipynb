{
 "cells": [
  {
   "cell_type": "markdown",
   "metadata": {},
   "source": [
    "# Preprocessing to detect duplication\n",
    "This is an auto-generated notebook."
   ]
  },
  {
   "cell_type": "code",
   "execution_count": 1,
   "metadata": {},
   "outputs": [
    {
     "name": "stdout",
     "output_type": "stream",
     "text": [
      "Total files length :  801  Filtered files length (after MD5 check) :  14\n",
      "check line duplication(open file) :  50 / 801\n",
      "check line duplication(open file) :  100 / 801\n",
      "check line duplication(open file) :  150 / 801\n",
      "check line duplication(open file) :  200 / 801\n",
      "check line duplication(open file) :  250 / 801\n",
      "check line duplication(open file) :  300 / 801\n",
      "check line duplication(open file) :  350 / 801\n",
      "check line duplication(open file) :  400 / 801\n",
      "check line duplication(open file) :  450 / 801\n",
      "check line duplication(open file) :  500 / 801\n",
      "check line duplication(open file) :  550 / 801\n",
      "check line duplication(open file) :  600 / 801\n",
      "check line duplication(open file) :  650 / 801\n",
      "check line duplication(open file) :  700 / 801\n",
      "check line duplication(open file) :  750 / 801\n",
      "check line duplication(open file) :  800 / 801\n",
      "check line duplication:  0 / 801\n",
      "check line duplication:  50 / 801\n",
      "check line duplication:  100 / 801\n",
      "check line duplication:  150 / 801\n",
      "check line duplication:  200 / 801\n",
      "check line duplication:  250 / 801\n",
      "check line duplication:  300 / 801\n",
      "check line duplication:  350 / 801\n",
      "check line duplication:  400 / 801\n",
      "check line duplication:  450 / 801\n",
      "check line duplication:  500 / 801\n",
      "check line duplication:  550 / 801\n",
      "check line duplication:  600 / 801\n",
      "check line duplication:  650 / 801\n",
      "check line duplication:  700 / 801\n",
      "check line duplication:  750 / 801\n",
      "exclude fn(itself) :  /home/xsong/mg-wt/dataset/MS2 for GitHub Updated 26.05.2019/ssuA/MAX_11102018 Position 140-1.tif.mortality.tab\n",
      "exclude fn(itself) :  /home/xsong/mg-wt/dataset/MS2 for GitHub Updated 26.05.2019/ssuA/MAX_11102018 Position 142-1.tif.mortality.tab\n",
      "exclude fn(itself) :  /home/xsong/mg-wt/dataset/MS2 for GitHub Updated 26.05.2019/ssuA/MAX_11102018 Position 152-1.tif.mortality.tab\n",
      "exclude fn(itself) :  /home/xsong/mg-wt/dataset/MS2 for GitHub Updated 26.05.2019/ssuA/MAX_11102018 Position 202-1.tif.mortality.tab\n",
      "exclude fn(itself) :  /home/xsong/mg-wt/dataset/MS2 for GitHub Updated 26.05.2019/ssuA/MAX_11102018 Position 237-1.tif.mortality.tab\n",
      "exclude fn(itself) :  /home/xsong/mg-wt/dataset/MS2 for GitHub Updated 26.05.2019/ssuA/MAX_11102018 Position 240-1.tif.mortality.tab\n",
      "exclude fn(itself) :  /home/xsong/mg-wt/dataset/MS2 for GitHub Updated 26.05.2019/ssuA/MAX_11102018 Position 242-1.tif.mortality.tab\n",
      "exclude fn(itself) :  /home/xsong/mg-wt/dataset/MS2 for GitHub Updated 26.05.2019/ssuA/MAX_11102018 Position 243-1.tif.mortality.tab\n",
      "exclude fn(itself) :  /home/xsong/mg-wt/dataset/MS2 for GitHub Updated 26.05.2019/ssuA/MAX_11102018 Position 247-1.tif.mortality.tab\n",
      "exclude fn(itself) :  /home/xsong/mg-wt/dataset/MS2 for GitHub Updated 26.05.2019/ssuA/MAX_11102018 Position 248-1.tif.mortality.tab\n",
      "exclude fn(itself) :  /home/xsong/mg-wt/dataset/MS2 for GitHub Updated 26.05.2019/ssuA/MAX_11102018 Position 253-1.tif.mortality.tab\n",
      "exclude fn(itself) :  /home/xsong/mg-wt/dataset/MS2 for GitHub Updated 26.05.2019/ssuA/MAX_11102018 Position 257-1.tif.mortality.tab\n",
      "exclude fn(itself) :  /home/xsong/mg-wt/dataset/MS2 for GitHub Updated 26.05.2019/ssuA/MAX_11102018 Position 260-1.tif.mortality.tab\n",
      "check line duplication:  800 / 801\n",
      "exclude fn(itself) :  /home/xsong/mg-wt/dataset/MS2 for GitHub Updated 26.05.2019/ssuA/MAX_11102018 Position 261-1.tif.mortality.tab\n"
     ]
    }
   ],
   "source": [
    "import sys,os\n",
    "python_class_path='/home/xsong/mg-wt'\n",
    "sys.path.insert(1, os.path.join(sys.path[0], python_class_path))\n",
    "from Preprocessing import PreprocessingTabFile\n",
    "current_path = '/home/xsong/mg-wt/dataset/MS2 for GitHub Updated 26.05.2019/ssuA'\n",
    "prev_path = '/home/xsong/coliSurvivalAnalysis/xsong/Microfluidics Database'\n",
    "filter_file_path = ''\n",
    "selfFilter = True\n",
    "pre = PreprocessingTabFile(current_path,prev_path,filterFile=filter_file_path,autoFilter = selfFilter,report_folder_name='report',showProgress = True)\n",
    "pre.run()"
   ]
  }
 ],
 "metadata": {},
 "nbformat": 4,
 "nbformat_minor": 2
}
