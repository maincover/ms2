{
 "cells": [
  {
   "cell_type": "markdown",
   "metadata": {},
   "source": [
    "# GG_GGM_SELECTOR Write the result to table\n",
    "    "
   ]
  },
  {
   "cell_type": "code",
   "execution_count": 1,
   "metadata": {},
   "outputs": [
    {
     "name": "stdout",
     "output_type": "stream",
     "text": [
      "create output folder :  /home/xsong/mg-wt/dataset/MS Github data part 7/GG_GGM_TABLE\n",
      "[['/home/xsong/mg-wt/dataset/MS Github data part 7/ynaA/CR-TA_ynaA-1_mortality_dataframe_cluster0.pickle', '/home/xsong/mg-wt/dataset/MS Github data part 7/ynaA/CR-TA_ynaA-1_relative_timegrid_cluster0.pickle', 'CR-TA_ynaA-1_'], ['/home/xsong/mg-wt/dataset/MS Github data part 7/caiT/CR-TA_caiT-1_relative_timegrid_cluster0.pickle', '/home/xsong/mg-wt/dataset/MS Github data part 7/caiT/CR-TA_caiT-1_mortality_dataframe_cluster0.pickle', 'CR-TA_caiT-1_'], ['/home/xsong/mg-wt/dataset/MS Github data part 7/yhbS/CR-TA_yhbS-1_mortality_dataframe_cluster0.pickle', '/home/xsong/mg-wt/dataset/MS Github data part 7/yhbS/CR-TA_yhbS-1_relative_timegrid_cluster0.pickle', 'CR-TA_yhbS-1_'], ['/home/xsong/mg-wt/dataset/MS Github data part 7/flu/CR-TA_flu-1_mortality_dataframe_cluster0.pickle', '/home/xsong/mg-wt/dataset/MS Github data part 7/flu/CR-TA_flu-1_relative_timegrid_cluster0.pickle', 'CR-TA_flu-1_'], ['/home/xsong/mg-wt/dataset/MS Github data part 7/syd/CR-TA_syd-1_relative_timegrid_cluster0.pickle', '/home/xsong/mg-wt/dataset/MS Github data part 7/syd/CR-TA_syd-1_mortality_dataframe_cluster0.pickle', 'CR-TA_syd-1_']]\n",
      "CR-TA_ynaA-1_\n"
     ]
    },
    {
     "name": "stderr",
     "output_type": "stream",
     "text": [
      "../../../cohortMortalitySummary.py:174: RuntimeWarning: invalid value encountered in divide\n",
      "  NA_lower = NelsonAalen * np.exp( norm.ppf(ALPHA/2)*np.sqrt(NA_var)/NelsonAalen )\n",
      "../../../cohortMortalitySummary.py:175: RuntimeWarning: invalid value encountered in divide\n",
      "  NA_upper = NelsonAalen * np.exp( norm.ppf(1-ALPHA/2)*np.sqrt(NA_var)/NelsonAalen )\n"
     ]
    },
    {
     "name": "stdout",
     "output_type": "stream",
     "text": [
      "----------- /home/xsong/mg-wt/dataset/MS Github data part 7/GG_GGM_TABLE/CR-TA_ynaA-1_.txt\n",
      "No error in flxsrv_fit\n",
      "3809.85332317\n",
      "2\n",
      "1 ['2016-06-08 00:00:00']\n",
      "No error in flxsrv_fit\n",
      "0.397753986053 1.0\n",
      "No error in flxsrv_fit\n",
      "N/A, choose GGM due to AIC\n",
      "CR-TA_caiT-1_\n",
      "----------- /home/xsong/mg-wt/dataset/MS Github data part 7/GG_GGM_TABLE/CR-TA_caiT-1_.txt\n",
      "No error in flxsrv_fit\n",
      "15202.8264469\n",
      "8\n",
      "1 ['2016-06-08 00:00:00']\n",
      "No error in flxsrv_fit\n",
      "0.00514480771306 0.997563946407\n",
      "No error in flxsrv_fit\n",
      "N/A, choose GGM due to AIC\n",
      "CR-TA_yhbS-1_\n",
      "----------- /home/xsong/mg-wt/dataset/MS Github data part 7/GG_GGM_TABLE/CR-TA_yhbS-1_.txt\n",
      "No error in flxsrv_fit\n",
      "5341.67152406\n",
      "3\n",
      "1 ['2016-06-08 00:00:00']\n",
      "No error in flxsrv_fit\n",
      "0.0544905933055 1.0\n",
      "No error in flxsrv_fit\n",
      "N/A, choose GGM due to AIC\n",
      "CR-TA_flu-1_\n",
      "----------- /home/xsong/mg-wt/dataset/MS Github data part 7/GG_GGM_TABLE/CR-TA_flu-1_.txt\n",
      "No error in flxsrv_fit\n",
      "6180.92361762\n",
      "3\n",
      "1 ['2016-06-08 00:00:00']\n",
      "No error in flxsrv_fit\n",
      "0.00686118497535 0.989795918367\n",
      "No error in flxsrv_fit\n",
      "CR-TA_syd-1_\n",
      "----------- /home/xsong/mg-wt/dataset/MS Github data part 7/GG_GGM_TABLE/CR-TA_syd-1_.txt\n",
      "No error in flxsrv_fit\n",
      "3473.71948644\n",
      "2\n",
      "1 ['2016-06-08 00:00:00']\n",
      "No error in flxsrv_fit\n",
      "0.0194325955963 0.994535519126\n",
      "No error in flxsrv_fit\n",
      "N/A, choose GGM due to AIC\n"
     ]
    }
   ],
   "source": [
    "import sys,os\n",
    "python_class_path='/home/xsong/mg-wt'\n",
    "sys.path.insert(1, os.path.join(sys.path[0], python_class_path))\n",
    "from Selector_GG_GGM import GG_GGM_Selector\n",
    "data_folder = '/home/xsong/mg-wt/dataset/MS Github data part 7'\n",
    "out_folder = '/home/xsong/mg-wt/dataset/MS Github data part 7/GG_GGM_TABLE'\n",
    "gg_ggm_selector = GG_GGM_Selector(data_folder,out_folder)\n",
    "gg_ggm_selector.run()"
   ]
  }
 ],
 "metadata": {},
 "nbformat": 4,
 "nbformat_minor": 2
}
