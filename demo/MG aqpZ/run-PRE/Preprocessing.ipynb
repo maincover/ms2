{
 "cells": [
  {
   "cell_type": "markdown",
   "metadata": {},
   "source": [
    "# Preprocessing to detect duplication\n",
    "This is an auto-generated notebook."
   ]
  },
  {
   "cell_type": "code",
   "execution_count": 1,
   "metadata": {},
   "outputs": [
    {
     "name": "stdout",
     "output_type": "stream",
     "text": [
      "Total files length :  791  Filtered files length (after MD5 check) :  4\n",
      "check line duplication(open file) :  50 / 791\n",
      "check line duplication(open file) :  100 / 791\n",
      "check line duplication(open file) :  150 / 791\n",
      "check line duplication(open file) :  200 / 791\n",
      "check line duplication(open file) :  250 / 791\n",
      "check line duplication(open file) :  300 / 791\n",
      "check line duplication(open file) :  350 / 791\n",
      "check line duplication(open file) :  400 / 791\n",
      "check line duplication(open file) :  450 / 791\n",
      "check line duplication(open file) :  500 / 791\n",
      "check line duplication(open file) :  550 / 791\n",
      "check line duplication(open file) :  600 / 791\n",
      "check line duplication(open file) :  650 / 791\n",
      "check line duplication(open file) :  700 / 791\n",
      "check line duplication(open file) :  750 / 791\n",
      "check line duplication:  0 / 791\n",
      "check line duplication:  50 / 791\n",
      "check line duplication:  100 / 791\n",
      "check line duplication:  150 / 791\n",
      "check line duplication:  200 / 791\n",
      "check line duplication:  250 / 791\n",
      "check line duplication:  300 / 791\n",
      "check line duplication:  350 / 791\n",
      "check line duplication:  400 / 791\n",
      "check line duplication:  450 / 791\n",
      "check line duplication:  500 / 791\n",
      "check line duplication:  550 / 791\n",
      "check line duplication:  600 / 791\n",
      "check line duplication:  650 / 791\n",
      "check line duplication:  700 / 791\n",
      "check line duplication:  750 / 791\n",
      "exclude fn(itself) :  /home/xsong/mg-wt/dataset/MG strains/MG aqpZ/MAX_Result of MAX_09032016 Position 19.tif.mortality.tab\n",
      "exclude fn(itself) :  /home/xsong/mg-wt/dataset/MG strains/MG aqpZ/MAX_Result of MAX_09032016 Position 2.tif.mortality.tab\n",
      "exclude fn(itself) :  /home/xsong/mg-wt/dataset/MG strains/MG aqpZ/MAX_Result of MAX_09032016 Position 3.tif.mortality.tab\n",
      "exclude fn(itself) :  /home/xsong/mg-wt/dataset/MG strains/MG aqpZ/MAX_Result of MAX_09032016 position 43-1.tif.mortality.tab\n"
     ]
    }
   ],
   "source": [
    "import sys,os\n",
    "python_class_path='/home/xsong/mg-wt'\n",
    "sys.path.insert(1, os.path.join(sys.path[0], python_class_path))\n",
    "from Preprocessing import PreprocessingTabFile\n",
    "current_path = '/home/xsong/mg-wt/dataset/MG strains/MG aqpZ'\n",
    "prev_path = '/home/xsong/coliSurvivalAnalysis/xsong/Microfluidics Database'\n",
    "filter_file_path = ''\n",
    "selfFilter = True\n",
    "pre = PreprocessingTabFile(current_path,prev_path,filterFile=filter_file_path,autoFilter = selfFilter,report_folder_name='report',showProgress = True)\n",
    "pre.run()"
   ]
  }
 ],
 "metadata": {},
 "nbformat": 4,
 "nbformat_minor": 2
}
