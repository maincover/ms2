{
 "cells": [
  {
   "cell_type": "markdown",
   "metadata": {},
   "source": [
    "# Preprocessing to detect duplication\n",
    "This is an auto-generated notebook."
   ]
  },
  {
   "cell_type": "code",
   "execution_count": 1,
   "metadata": {},
   "outputs": [
    {
     "name": "stdout",
     "output_type": "stream",
     "text": [
      "Total files length :  807  Filtered files length (after MD5 check) :  20\n",
      "check line duplication(open file) :  50 / 807\n",
      "check line duplication(open file) :  100 / 807\n",
      "check line duplication(open file) :  150 / 807\n",
      "check line duplication(open file) :  200 / 807\n",
      "check line duplication(open file) :  250 / 807\n",
      "check line duplication(open file) :  300 / 807\n",
      "check line duplication(open file) :  350 / 807\n",
      "check line duplication(open file) :  400 / 807\n",
      "check line duplication(open file) :  450 / 807\n",
      "check line duplication(open file) :  500 / 807\n",
      "check line duplication(open file) :  550 / 807\n",
      "check line duplication(open file) :  600 / 807\n",
      "check line duplication(open file) :  650 / 807\n",
      "check line duplication(open file) :  700 / 807\n",
      "check line duplication(open file) :  750 / 807\n",
      "check line duplication(open file) :  800 / 807\n",
      "check line duplication:  0 / 807\n",
      "check line duplication:  50 / 807\n",
      "check line duplication:  100 / 807\n",
      "check line duplication:  150 / 807\n",
      "check line duplication:  200 / 807\n",
      "check line duplication:  250 / 807\n",
      "check line duplication:  300 / 807\n",
      "check line duplication:  350 / 807\n",
      "check line duplication:  400 / 807\n",
      "check line duplication:  450 / 807\n",
      "check line duplication:  500 / 807\n",
      "check line duplication:  550 / 807\n",
      "check line duplication:  600 / 807\n",
      "check line duplication:  650 / 807\n",
      "check line duplication:  700 / 807\n",
      "check line duplication:  750 / 807\n",
      "exclude fn(itself) :  /home/xsong/mg-wt/dataset/MS2 for GitHub Updated 26.05.2019/norW/MAX_30112014 Position 26-1.tif.mortality.tab\n",
      "exclude fn(itself) :  /home/xsong/mg-wt/dataset/MS2 for GitHub Updated 26.05.2019/norW/MAX_30112014 Position 27-1.tif.mortality.tab\n",
      "exclude fn(itself) :  /home/xsong/mg-wt/dataset/MS2 for GitHub Updated 26.05.2019/norW/MAX_30112014 Position 30-1.tif.mortality.tab\n",
      "exclude fn(itself) :  /home/xsong/mg-wt/dataset/MS2 for GitHub Updated 26.05.2019/norW/MAX_30112014 Position 39-1.tif.mortality.tab\n",
      "exclude fn(itself) :  /home/xsong/mg-wt/dataset/MS2 for GitHub Updated 26.05.2019/norW/MAX_30112014 Position 41-1.tif.mortality.tab\n",
      "exclude fn(itself) :  /home/xsong/mg-wt/dataset/MS2 for GitHub Updated 26.05.2019/norW/MAX_30112014 Position 43-1.tif.mortality.tab\n",
      "exclude fn(itself) :  /home/xsong/mg-wt/dataset/MS2 for GitHub Updated 26.05.2019/norW/MAX_30112014 Position 45-1.tif.mortality.tab\n",
      "exclude fn(itself) :  /home/xsong/mg-wt/dataset/MS2 for GitHub Updated 26.05.2019/norW/MAX_30112014 Position 70-1.tif.mortality.tab\n",
      "exclude fn(itself) :  /home/xsong/mg-wt/dataset/MS2 for GitHub Updated 26.05.2019/norW/MAX_30112014 Position 72-1.tif.mortality.tab\n",
      "exclude fn(itself) :  /home/xsong/mg-wt/dataset/MS2 for GitHub Updated 26.05.2019/norW/MAX_30112014 Position 74-1.tif.mortality.tab\n",
      "exclude fn(itself) :  /home/xsong/mg-wt/dataset/MS2 for GitHub Updated 26.05.2019/norW/MAX_30112014 Position 75-1.tif.mortality.tab\n",
      "exclude fn(itself) :  /home/xsong/mg-wt/dataset/MS2 for GitHub Updated 26.05.2019/norW/MAX_30112014 Position 77-1.tif.mortality.tab\n",
      "exclude fn(itself) :  /home/xsong/mg-wt/dataset/MS2 for GitHub Updated 26.05.2019/norW/MAX_30112014 Position 78-1.tif.mortality.tab\n",
      "check line duplication:  800 / 807\n",
      "exclude fn(itself) :  /home/xsong/mg-wt/dataset/MS2 for GitHub Updated 26.05.2019/norW/MAX_30112014 Position 79-1.tif.mortality.tab\n",
      "exclude fn(itself) :  /home/xsong/mg-wt/dataset/MS2 for GitHub Updated 26.05.2019/norW/MAX_30112014 Position 80-1.tif.mortality.tab\n",
      "exclude fn(itself) :  /home/xsong/mg-wt/dataset/MS2 for GitHub Updated 26.05.2019/norW/MAX_30112014 Position 81-1.tif.mortality.tab\n",
      "exclude fn(itself) :  /home/xsong/mg-wt/dataset/MS2 for GitHub Updated 26.05.2019/norW/MAX_30112014 Position 82-1.tif.mortality.tab\n",
      "exclude fn(itself) :  /home/xsong/mg-wt/dataset/MS2 for GitHub Updated 26.05.2019/norW/MAX_30112014 Position 83-1.tif.mortality.tab\n",
      "exclude fn(itself) :  /home/xsong/mg-wt/dataset/MS2 for GitHub Updated 26.05.2019/norW/MAX_30112014 Position 84-1.tif.mortality.tab\n",
      "exclude fn(itself) :  /home/xsong/mg-wt/dataset/MS2 for GitHub Updated 26.05.2019/norW/MAX_30112014 Position 85-1.tif.mortality.tab\n"
     ]
    }
   ],
   "source": [
    "import sys,os\n",
    "python_class_path='/home/xsong/mg-wt'\n",
    "sys.path.insert(1, os.path.join(sys.path[0], python_class_path))\n",
    "from Preprocessing import PreprocessingTabFile\n",
    "current_path = '/home/xsong/mg-wt/dataset/MS2 for GitHub Updated 26.05.2019/norW'\n",
    "prev_path = '/home/xsong/coliSurvivalAnalysis/xsong/Microfluidics Database'\n",
    "filter_file_path = ''\n",
    "selfFilter = True\n",
    "pre = PreprocessingTabFile(current_path,prev_path,filterFile=filter_file_path,autoFilter = selfFilter,report_folder_name='report',showProgress = True)\n",
    "pre.run()"
   ]
  }
 ],
 "metadata": {},
 "nbformat": 4,
 "nbformat_minor": 2
}
